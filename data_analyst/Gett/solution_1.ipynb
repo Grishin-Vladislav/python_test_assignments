{
  "cells": [
    {
      "cell_type": "markdown",
      "metadata": {
        "id": "Rt79iVR9Nkhy"
      },
      "source": [
        "**Тестовое задание в команду продуктовой аналитики, Gett.**  \n",
        "Вариант решения от Аркадия (tg: @ArkadiyD)"
      ]
    },
    {
      "cell_type": "code",
      "execution_count": null,
      "metadata": {
        "id": "Me5xIA2NCViP"
      },
      "outputs": [],
      "source": [
        "import pandas as pd\n",
        "import numpy as np\n",
        "import matplotlib.pyplot as plt\n",
        "import seaborn as sns\n",
        "\n",
        "plt.rc('axes', titlesize   = 15)\n",
        "plt.rc('axes', titlepad    = 12)\n",
        "plt.rc('axes', labelweight = 'bold')\n",
        "plt.rc('font', size   = 13)"
      ]
    },
    {
      "cell_type": "code",
      "execution_count": null,
      "metadata": {
        "colab": {
          "base_uri": "https://localhost:8080/",
          "height": 143
        },
        "id": "TLZ0osvgDEIb",
        "outputId": "2270131c-e28c-4c17-b024-3414752828d3"
      },
      "outputs": [
        {
          "data": {
            "text/html": [
              "\n",
              "  <div id=\"df-ea4c9267-1124-4f42-8097-d4f01d7ae349\">\n",
              "    <div class=\"colab-df-container\">\n",
              "      <div>\n",
              "<style scoped>\n",
              "    .dataframe tbody tr th:only-of-type {\n",
              "        vertical-align: middle;\n",
              "    }\n",
              "\n",
              "    .dataframe tbody tr th {\n",
              "        vertical-align: top;\n",
              "    }\n",
              "\n",
              "    .dataframe thead th {\n",
              "        text-align: right;\n",
              "    }\n",
              "</style>\n",
              "<table border=\"1\" class=\"dataframe\">\n",
              "  <thead>\n",
              "    <tr style=\"text-align: right;\">\n",
              "      <th></th>\n",
              "      <th>order_gk</th>\n",
              "      <th>offer_id</th>\n",
              "    </tr>\n",
              "  </thead>\n",
              "  <tbody>\n",
              "    <tr>\n",
              "      <th>0</th>\n",
              "      <td>3000579625629</td>\n",
              "      <td>300050936206</td>\n",
              "    </tr>\n",
              "    <tr>\n",
              "      <th>1</th>\n",
              "      <td>3000627306450</td>\n",
              "      <td>300052064651</td>\n",
              "    </tr>\n",
              "    <tr>\n",
              "      <th>2</th>\n",
              "      <td>3000632920686</td>\n",
              "      <td>300052408812</td>\n",
              "    </tr>\n",
              "  </tbody>\n",
              "</table>\n",
              "</div>\n",
              "      <button class=\"colab-df-convert\" onclick=\"convertToInteractive('df-ea4c9267-1124-4f42-8097-d4f01d7ae349')\"\n",
              "              title=\"Convert this dataframe to an interactive table.\"\n",
              "              style=\"display:none;\">\n",
              "        \n",
              "  <svg xmlns=\"http://www.w3.org/2000/svg\" height=\"24px\"viewBox=\"0 0 24 24\"\n",
              "       width=\"24px\">\n",
              "    <path d=\"M0 0h24v24H0V0z\" fill=\"none\"/>\n",
              "    <path d=\"M18.56 5.44l.94 2.06.94-2.06 2.06-.94-2.06-.94-.94-2.06-.94 2.06-2.06.94zm-11 1L8.5 8.5l.94-2.06 2.06-.94-2.06-.94L8.5 2.5l-.94 2.06-2.06.94zm10 10l.94 2.06.94-2.06 2.06-.94-2.06-.94-.94-2.06-.94 2.06-2.06.94z\"/><path d=\"M17.41 7.96l-1.37-1.37c-.4-.4-.92-.59-1.43-.59-.52 0-1.04.2-1.43.59L10.3 9.45l-7.72 7.72c-.78.78-.78 2.05 0 2.83L4 21.41c.39.39.9.59 1.41.59.51 0 1.02-.2 1.41-.59l7.78-7.78 2.81-2.81c.8-.78.8-2.07 0-2.86zM5.41 20L4 18.59l7.72-7.72 1.47 1.35L5.41 20z\"/>\n",
              "  </svg>\n",
              "      </button>\n",
              "      \n",
              "  <style>\n",
              "    .colab-df-container {\n",
              "      display:flex;\n",
              "      flex-wrap:wrap;\n",
              "      gap: 12px;\n",
              "    }\n",
              "\n",
              "    .colab-df-convert {\n",
              "      background-color: #E8F0FE;\n",
              "      border: none;\n",
              "      border-radius: 50%;\n",
              "      cursor: pointer;\n",
              "      display: none;\n",
              "      fill: #1967D2;\n",
              "      height: 32px;\n",
              "      padding: 0 0 0 0;\n",
              "      width: 32px;\n",
              "    }\n",
              "\n",
              "    .colab-df-convert:hover {\n",
              "      background-color: #E2EBFA;\n",
              "      box-shadow: 0px 1px 2px rgba(60, 64, 67, 0.3), 0px 1px 3px 1px rgba(60, 64, 67, 0.15);\n",
              "      fill: #174EA6;\n",
              "    }\n",
              "\n",
              "    [theme=dark] .colab-df-convert {\n",
              "      background-color: #3B4455;\n",
              "      fill: #D2E3FC;\n",
              "    }\n",
              "\n",
              "    [theme=dark] .colab-df-convert:hover {\n",
              "      background-color: #434B5C;\n",
              "      box-shadow: 0px 1px 3px 1px rgba(0, 0, 0, 0.15);\n",
              "      filter: drop-shadow(0px 1px 2px rgba(0, 0, 0, 0.3));\n",
              "      fill: #FFFFFF;\n",
              "    }\n",
              "  </style>\n",
              "\n",
              "      <script>\n",
              "        const buttonEl =\n",
              "          document.querySelector('#df-ea4c9267-1124-4f42-8097-d4f01d7ae349 button.colab-df-convert');\n",
              "        buttonEl.style.display =\n",
              "          google.colab.kernel.accessAllowed ? 'block' : 'none';\n",
              "\n",
              "        async function convertToInteractive(key) {\n",
              "          const element = document.querySelector('#df-ea4c9267-1124-4f42-8097-d4f01d7ae349');\n",
              "          const dataTable =\n",
              "            await google.colab.kernel.invokeFunction('convertToInteractive',\n",
              "                                                     [key], {});\n",
              "          if (!dataTable) return;\n",
              "\n",
              "          const docLinkHtml = 'Like what you see? Visit the ' +\n",
              "            '<a target=\"_blank\" href=https://colab.research.google.com/notebooks/data_table.ipynb>data table notebook</a>'\n",
              "            + ' to learn more about interactive tables.';\n",
              "          element.innerHTML = '';\n",
              "          dataTable['output_type'] = 'display_data';\n",
              "          await google.colab.output.renderOutput(dataTable, element);\n",
              "          const docLink = document.createElement('div');\n",
              "          docLink.innerHTML = docLinkHtml;\n",
              "          element.appendChild(docLink);\n",
              "        }\n",
              "      </script>\n",
              "    </div>\n",
              "  </div>\n",
              "  "
            ],
            "text/plain": [
              "        order_gk      offer_id\n",
              "0  3000579625629  300050936206\n",
              "1  3000627306450  300052064651\n",
              "2  3000632920686  300052408812"
            ]
          },
          "execution_count": 2,
          "metadata": {},
          "output_type": "execute_result"
        }
      ],
      "source": [
        "df_offers = pd.read_csv('https://raw.githubusercontent.com/obulygin/test_tasks/master/data_analyst/Gett/data/data_offers.csv')\n",
        "df_offers.head(3)\n",
        "# номер заказа(order_gk) - ID оффера (offer_id), который был предложен водителю по данному заказу"
      ]
    },
    {
      "cell_type": "code",
      "execution_count": null,
      "metadata": {
        "colab": {
          "base_uri": "https://localhost:8080/"
        },
        "id": "m4jPC_i-DyKy",
        "outputId": "1ee61867-f607-4fc7-96e9-3b93e52c9cfa"
      },
      "outputs": [
        {
          "name": "stdout",
          "output_type": "stream",
          "text": [
            "<class 'pandas.core.frame.DataFrame'>\n",
            "RangeIndex: 334363 entries, 0 to 334362\n",
            "Data columns (total 2 columns):\n",
            " #   Column    Non-Null Count   Dtype\n",
            "---  ------    --------------   -----\n",
            " 0   order_gk  334363 non-null  int64\n",
            " 1   offer_id  334363 non-null  int64\n",
            "dtypes: int64(2)\n",
            "memory usage: 5.1 MB\n"
          ]
        }
      ],
      "source": [
        "df_offers.info()"
      ]
    },
    {
      "cell_type": "code",
      "execution_count": null,
      "metadata": {
        "colab": {
          "base_uri": "https://localhost:8080/"
        },
        "id": "jFAbvrqkDeqJ",
        "outputId": "f8805672-436f-4a0f-bf1e-29cdd2cb0d64"
      },
      "outputs": [
        {
          "name": "stdout",
          "output_type": "stream",
          "text": [
            "<class 'pandas.core.frame.DataFrame'>\n",
            "RangeIndex: 10716 entries, 0 to 10715\n",
            "Data columns (total 8 columns):\n",
            " #   Column                         Non-Null Count  Dtype  \n",
            "---  ------                         --------------  -----  \n",
            " 0   order_datetime                 10716 non-null  object \n",
            " 1   origin_longitude               10716 non-null  float64\n",
            " 2   origin_latitude                10716 non-null  float64\n",
            " 3   m_order_eta                    2814 non-null   float64\n",
            " 4   order_gk                       10716 non-null  int64  \n",
            " 5   order_status_key               10716 non-null  int64  \n",
            " 6   is_driver_assigned_key         10716 non-null  int64  \n",
            " 7   cancellations_time_in_seconds  7307 non-null   float64\n",
            "dtypes: float64(4), int64(3), object(1)\n",
            "memory usage: 669.9+ KB\n"
          ]
        }
      ],
      "source": [
        "df_orders = pd.read_csv('https://raw.githubusercontent.com/obulygin/test_tasks/master/data_analyst/Gett/data/data_orders.csv')\n",
        "df_orders.info()\n",
        "# order_datetime   - время заказа\n",
        "# origin_longitude - долгота\n",
        "# origin_latitude  - широта\n",
        "# m_order_eta      - время до прибытия машины\n",
        "# order_gk         - номер заказа\n",
        "# order_status_key - статус (4 - отменен клиентом, 9 - отменен системой (reject))\n",
        "# is_driver_assigned_key        - был ли назначен водитель\n",
        "# cancellations_time_in_seconds - сколько секунд прошло до отмены"
      ]
    },
    {
      "cell_type": "markdown",
      "metadata": {
        "id": "maf9uLOE_Uky"
      },
      "source": [
        "в столбце \"**m_order_eta**\" очень много пропусков"
      ]
    },
    {
      "cell_type": "code",
      "execution_count": null,
      "metadata": {
        "colab": {
          "base_uri": "https://localhost:8080/",
          "height": 270
        },
        "id": "qKfUrMmPFHrE",
        "outputId": "6bf04302-0300-45d2-855c-3ad656d9ba9e"
      },
      "outputs": [
        {
          "data": {
            "text/html": [
              "\n",
              "  <div id=\"df-a04e9dc8-38c1-4322-9fc8-251d98aae01c\">\n",
              "    <div class=\"colab-df-container\">\n",
              "      <div>\n",
              "<style scoped>\n",
              "    .dataframe tbody tr th:only-of-type {\n",
              "        vertical-align: middle;\n",
              "    }\n",
              "\n",
              "    .dataframe tbody tr th {\n",
              "        vertical-align: top;\n",
              "    }\n",
              "\n",
              "    .dataframe thead th {\n",
              "        text-align: right;\n",
              "    }\n",
              "</style>\n",
              "<table border=\"1\" class=\"dataframe\">\n",
              "  <thead>\n",
              "    <tr style=\"text-align: right;\">\n",
              "      <th></th>\n",
              "      <th>order_datetime</th>\n",
              "      <th>origin_longitude</th>\n",
              "      <th>origin_latitude</th>\n",
              "      <th>m_order_eta</th>\n",
              "      <th>order_gk</th>\n",
              "      <th>order_status_key</th>\n",
              "      <th>is_driver_assigned_key</th>\n",
              "      <th>cancellations_time_in_seconds</th>\n",
              "      <th>hour</th>\n",
              "    </tr>\n",
              "  </thead>\n",
              "  <tbody>\n",
              "    <tr>\n",
              "      <th>0</th>\n",
              "      <td>18:08:07</td>\n",
              "      <td>-0.978916</td>\n",
              "      <td>51.456173</td>\n",
              "      <td>60.0</td>\n",
              "      <td>3000583041974</td>\n",
              "      <td>4</td>\n",
              "      <td>1</td>\n",
              "      <td>198.0</td>\n",
              "      <td>18</td>\n",
              "    </tr>\n",
              "    <tr>\n",
              "      <th>1</th>\n",
              "      <td>20:57:32</td>\n",
              "      <td>-0.950385</td>\n",
              "      <td>51.456843</td>\n",
              "      <td>NaN</td>\n",
              "      <td>3000583116437</td>\n",
              "      <td>4</td>\n",
              "      <td>0</td>\n",
              "      <td>128.0</td>\n",
              "      <td>20</td>\n",
              "    </tr>\n",
              "    <tr>\n",
              "      <th>2</th>\n",
              "      <td>12:07:50</td>\n",
              "      <td>-0.969520</td>\n",
              "      <td>51.455544</td>\n",
              "      <td>477.0</td>\n",
              "      <td>3000582891479</td>\n",
              "      <td>4</td>\n",
              "      <td>1</td>\n",
              "      <td>46.0</td>\n",
              "      <td>12</td>\n",
              "    </tr>\n",
              "    <tr>\n",
              "      <th>3</th>\n",
              "      <td>13:50:20</td>\n",
              "      <td>-1.054671</td>\n",
              "      <td>51.460544</td>\n",
              "      <td>658.0</td>\n",
              "      <td>3000582941169</td>\n",
              "      <td>4</td>\n",
              "      <td>1</td>\n",
              "      <td>62.0</td>\n",
              "      <td>13</td>\n",
              "    </tr>\n",
              "    <tr>\n",
              "      <th>4</th>\n",
              "      <td>21:24:45</td>\n",
              "      <td>-0.967605</td>\n",
              "      <td>51.458236</td>\n",
              "      <td>NaN</td>\n",
              "      <td>3000583140877</td>\n",
              "      <td>9</td>\n",
              "      <td>0</td>\n",
              "      <td>NaN</td>\n",
              "      <td>21</td>\n",
              "    </tr>\n",
              "  </tbody>\n",
              "</table>\n",
              "</div>\n",
              "      <button class=\"colab-df-convert\" onclick=\"convertToInteractive('df-a04e9dc8-38c1-4322-9fc8-251d98aae01c')\"\n",
              "              title=\"Convert this dataframe to an interactive table.\"\n",
              "              style=\"display:none;\">\n",
              "        \n",
              "  <svg xmlns=\"http://www.w3.org/2000/svg\" height=\"24px\"viewBox=\"0 0 24 24\"\n",
              "       width=\"24px\">\n",
              "    <path d=\"M0 0h24v24H0V0z\" fill=\"none\"/>\n",
              "    <path d=\"M18.56 5.44l.94 2.06.94-2.06 2.06-.94-2.06-.94-.94-2.06-.94 2.06-2.06.94zm-11 1L8.5 8.5l.94-2.06 2.06-.94-2.06-.94L8.5 2.5l-.94 2.06-2.06.94zm10 10l.94 2.06.94-2.06 2.06-.94-2.06-.94-.94-2.06-.94 2.06-2.06.94z\"/><path d=\"M17.41 7.96l-1.37-1.37c-.4-.4-.92-.59-1.43-.59-.52 0-1.04.2-1.43.59L10.3 9.45l-7.72 7.72c-.78.78-.78 2.05 0 2.83L4 21.41c.39.39.9.59 1.41.59.51 0 1.02-.2 1.41-.59l7.78-7.78 2.81-2.81c.8-.78.8-2.07 0-2.86zM5.41 20L4 18.59l7.72-7.72 1.47 1.35L5.41 20z\"/>\n",
              "  </svg>\n",
              "      </button>\n",
              "      \n",
              "  <style>\n",
              "    .colab-df-container {\n",
              "      display:flex;\n",
              "      flex-wrap:wrap;\n",
              "      gap: 12px;\n",
              "    }\n",
              "\n",
              "    .colab-df-convert {\n",
              "      background-color: #E8F0FE;\n",
              "      border: none;\n",
              "      border-radius: 50%;\n",
              "      cursor: pointer;\n",
              "      display: none;\n",
              "      fill: #1967D2;\n",
              "      height: 32px;\n",
              "      padding: 0 0 0 0;\n",
              "      width: 32px;\n",
              "    }\n",
              "\n",
              "    .colab-df-convert:hover {\n",
              "      background-color: #E2EBFA;\n",
              "      box-shadow: 0px 1px 2px rgba(60, 64, 67, 0.3), 0px 1px 3px 1px rgba(60, 64, 67, 0.15);\n",
              "      fill: #174EA6;\n",
              "    }\n",
              "\n",
              "    [theme=dark] .colab-df-convert {\n",
              "      background-color: #3B4455;\n",
              "      fill: #D2E3FC;\n",
              "    }\n",
              "\n",
              "    [theme=dark] .colab-df-convert:hover {\n",
              "      background-color: #434B5C;\n",
              "      box-shadow: 0px 1px 3px 1px rgba(0, 0, 0, 0.15);\n",
              "      filter: drop-shadow(0px 1px 2px rgba(0, 0, 0, 0.3));\n",
              "      fill: #FFFFFF;\n",
              "    }\n",
              "  </style>\n",
              "\n",
              "      <script>\n",
              "        const buttonEl =\n",
              "          document.querySelector('#df-a04e9dc8-38c1-4322-9fc8-251d98aae01c button.colab-df-convert');\n",
              "        buttonEl.style.display =\n",
              "          google.colab.kernel.accessAllowed ? 'block' : 'none';\n",
              "\n",
              "        async function convertToInteractive(key) {\n",
              "          const element = document.querySelector('#df-a04e9dc8-38c1-4322-9fc8-251d98aae01c');\n",
              "          const dataTable =\n",
              "            await google.colab.kernel.invokeFunction('convertToInteractive',\n",
              "                                                     [key], {});\n",
              "          if (!dataTable) return;\n",
              "\n",
              "          const docLinkHtml = 'Like what you see? Visit the ' +\n",
              "            '<a target=\"_blank\" href=https://colab.research.google.com/notebooks/data_table.ipynb>data table notebook</a>'\n",
              "            + ' to learn more about interactive tables.';\n",
              "          element.innerHTML = '';\n",
              "          dataTable['output_type'] = 'display_data';\n",
              "          await google.colab.output.renderOutput(dataTable, element);\n",
              "          const docLink = document.createElement('div');\n",
              "          docLink.innerHTML = docLinkHtml;\n",
              "          element.appendChild(docLink);\n",
              "        }\n",
              "      </script>\n",
              "    </div>\n",
              "  </div>\n",
              "  "
            ],
            "text/plain": [
              "  order_datetime  origin_longitude  origin_latitude  m_order_eta  \\\n",
              "0       18:08:07         -0.978916        51.456173         60.0   \n",
              "1       20:57:32         -0.950385        51.456843          NaN   \n",
              "2       12:07:50         -0.969520        51.455544        477.0   \n",
              "3       13:50:20         -1.054671        51.460544        658.0   \n",
              "4       21:24:45         -0.967605        51.458236          NaN   \n",
              "\n",
              "        order_gk  order_status_key  is_driver_assigned_key  \\\n",
              "0  3000583041974                 4                       1   \n",
              "1  3000583116437                 4                       0   \n",
              "2  3000582891479                 4                       1   \n",
              "3  3000582941169                 4                       1   \n",
              "4  3000583140877                 9                       0   \n",
              "\n",
              "   cancellations_time_in_seconds  hour  \n",
              "0                          198.0    18  \n",
              "1                          128.0    20  \n",
              "2                           46.0    12  \n",
              "3                           62.0    13  \n",
              "4                            NaN    21  "
            ]
          },
          "execution_count": 5,
          "metadata": {},
          "output_type": "execute_result"
        }
      ],
      "source": [
        "# изменим тип данных в столбце времени заказа:\n",
        "df_orders.order_datetime    = pd.to_datetime(df_orders.order_datetime)\n",
        "df_orders['hour']           = df_orders.order_datetime.dt.hour                   # добавили часы\n",
        "df_orders['order_datetime'] = df_orders.order_datetime.dt.strftime('%H:%M:%S')\n",
        "df_orders.head()"
      ]
    },
    {
      "cell_type": "markdown",
      "metadata": {
        "id": "8YjqYX9eUFY5"
      },
      "source": [
        "---\n",
        "**1.** Постройте распределение заказов по причинам неуспеха: отмены до и после назначения водителя, режекты"
      ]
    },
    {
      "cell_type": "code",
      "execution_count": null,
      "metadata": {
        "colab": {
          "base_uri": "https://localhost:8080/"
        },
        "id": "fImyRiRaAFFa",
        "outputId": "1d29c224-6c90-42d1-ba91-04f49717d9f8"
      },
      "outputs": [
        {
          "data": {
            "text/plain": [
              "order_status_key  is_driver_assigned_key\n",
              "4                 0                         4496\n",
              "                  1                         2811\n",
              "9                 0                         3406\n",
              "                  1                            3\n",
              "Name: order_gk, dtype: int64"
            ]
          },
          "execution_count": 6,
          "metadata": {},
          "output_type": "execute_result"
        }
      ],
      "source": [
        "df_orders.groupby(['order_status_key', 'is_driver_assigned_key'])['order_gk'].nunique()"
      ]
    },
    {
      "cell_type": "code",
      "execution_count": null,
      "metadata": {
        "colab": {
          "base_uri": "https://localhost:8080/",
          "height": 388
        },
        "id": "0afi4ZFOUIb4",
        "outputId": "05351abd-19d3-488e-8a70-7deff3ec949f"
      },
      "outputs": [
        {
          "data": {
            "image/png": "[encoded data removed]",
            "text/plain": [
              "<Figure size 504x432 with 1 Axes>"
            ]
          },
          "metadata": {
            "needs_background": "light"
          },
          "output_type": "display_data"
        }
      ],
      "source": [
        "plt.figure(figsize = (7,6))\n",
        "\n",
        "df_grouped = df_orders.groupby(['order_status_key', 'is_driver_assigned_key'])['order_gk'].\\\n",
        "             nunique().sort_values(ascending = False)\n",
        "\n",
        "df_grouped.plot(kind = 'bar', rot = 0, color = 'darkblue')\n",
        "\n",
        "for i, val in enumerate(df_grouped.values):\n",
        "    plt.text(i, val, int(val), horizontalalignment = 'center', verticalalignment = 'bottom', fontdict = {'size':14, 'weight': 'bold'})\n",
        "\n",
        "plt.ylabel('orders')\n",
        "plt.show()\n",
        "\n",
        "# Наибольшее число заказов было отменено клиентом, когда еще не был назначен водитель.\n",
        "# При этом всего ТРИ заказа отменила сама система, когда уже был назначен водитель."
      ]
    },
    {
      "cell_type": "code",
      "execution_count": null,
      "metadata": {
        "id": "pyaUd-jpsxlj"
      },
      "outputs": [],
      "source": []
    },
    {
      "cell_type": "markdown",
      "metadata": {
        "id": "0yG3RTlesyYK"
      },
      "source": [
        "**2.** Постройте график распределения фейлов по часам - наблюдается ли тендеция, что в какие то часы доля той или иной категории аномально высока?"
      ]
    },
    {
      "cell_type": "code",
      "execution_count": null,
      "metadata": {
        "colab": {
          "base_uri": "https://localhost:8080/",
          "height": 381
        },
        "id": "LxRwxyAfvqMc",
        "outputId": "a5287392-c704-401b-ab8a-77e218ff33c9"
      },
      "outputs": [
        {
          "data": {
            "image/png": "[encoded data removed]",
            "text/plain": [
              "<Figure size 1080x360 with 1 Axes>"
            ]
          },
          "metadata": {
            "needs_background": "light"
          },
          "output_type": "display_data"
        }
      ],
      "source": [
        "plt.figure(figsize = (15,5))\n",
        "df_orders.groupby(['hour'])['order_status_key'].value_counts().sort_values(ascending = False).plot(kind = 'bar', color = 'darkblue')\n",
        "plt.title('Распределение отменных клиентом (4) и системой (9) заказов по часам')\n",
        "plt.ylabel('value counts')\n",
        "plt.show()"
      ]
    },
    {
      "cell_type": "markdown",
      "metadata": {
        "id": "urn9NXKLCurb"
      },
      "source": [
        "**Выводы:** В 8 часов утра клиент чаще всего отменял такси.\n",
        "Также именно в 8 утра наибольшее число раз сама система отменяла заказы, причем делала она это в 2 раза реже, чем клиент за этот час.\n",
        "\n",
        "Скорее всего, это связано из-за сильных утренних пробок на дорогах.\n",
        "В вечернее время с 21 часа до полуночи активность клиентов, отменяющих заказы, также оставалась на высоком уровне.\n",
        "\n",
        "Утром в 5 часов и клиент, и система реже всего отменяли заказы, видимо, из-за того, что самих заказов было мало в столь раннее время."
      ]
    },
    {
      "cell_type": "code",
      "execution_count": null,
      "metadata": {
        "id": "j8G8CjDTzfj6"
      },
      "outputs": [],
      "source": []
    },
    {
      "cell_type": "markdown",
      "metadata": {
        "id": "4vU3lAIG5JCT"
      },
      "source": [
        "**3.** Постройте графики среднего времени до отмены (**cancellations_time_in_seconds**) с водителем и без, **по часам**. Если есть выбросы в данных - лучше удалить. Можно ли сделать выводы по этому графику?"
      ]
    },
    {
      "cell_type": "code",
      "execution_count": null,
      "metadata": {
        "colab": {
          "base_uri": "https://localhost:8080/"
        },
        "id": "rES34WvQFL2q",
        "outputId": "02d68b4a-d71b-4eab-9910-bf7c17d79051"
      },
      "outputs": [
        {
          "data": {
            "text/plain": [
              "array([9])"
            ]
          },
          "execution_count": 9,
          "metadata": {},
          "output_type": "execute_result"
        }
      ],
      "source": [
        "df_orders.loc[df_orders.cancellations_time_in_seconds.isna() == True].order_status_key.unique()\n",
        "\n",
        "# Если мы уберем эти пропуски, то потеряем ВСЮ информацию по отмененным заказам со статусом 9 - reject.\n",
        "# Иными словами, система вообще не указывала сколько секунд прошло до отмены заказа, когда она его отменяла."
      ]
    },
    {
      "cell_type": "code",
      "execution_count": null,
      "metadata": {
        "colab": {
          "base_uri": "https://localhost:8080/"
        },
        "id": "fIrrdHXppUOz",
        "outputId": "2d6344f8-1919-4dc7-b1b9-8afdb37b6793"
      },
      "outputs": [
        {
          "name": "stdout",
          "output_type": "stream",
          "text": [
            "median: 98.0\n",
            "mode:   10.0\n"
          ]
        }
      ],
      "source": [
        "print(f'median: {df_orders.cancellations_time_in_seconds.median()}')\n",
        "print(f'mode:   {df_orders.cancellations_time_in_seconds.mode()[0]}')"
      ]
    },
    {
      "cell_type": "code",
      "execution_count": null,
      "metadata": {
        "id": "pXjf7X8Bm0SX"
      },
      "outputs": [],
      "source": [
        "# Заменим все пропуски модой, независящей от выбросов:\n",
        "df_orders.cancellations_time_in_seconds.fillna(df_orders.cancellations_time_in_seconds.mode()[0], inplace = True)"
      ]
    },
    {
      "cell_type": "code",
      "execution_count": null,
      "metadata": {
        "colab": {
          "base_uri": "https://localhost:8080/",
          "height": 283
        },
        "id": "LrHJVX93_a7z",
        "outputId": "afd5d620-56f0-44b3-b3f0-63dbccd0fe63"
      },
      "outputs": [
        {
          "data": {
            "text/plain": [
              "<matplotlib.axes._subplots.AxesSubplot at 0x7f4cbb5e0510>"
            ]
          },
          "execution_count": 12,
          "metadata": {},
          "output_type": "execute_result"
        },
        {
          "data": {
            "image/png": "[encoded data removed]",
            "text/plain": [
              "<Figure size 432x288 with 1 Axes>"
            ]
          },
          "metadata": {
            "needs_background": "light"
          },
          "output_type": "display_data"
        }
      ],
      "source": [
        "# найдем выбросы по данным без пропусков:\n",
        "df_orders[['cancellations_time_in_seconds']].boxplot()"
      ]
    },
    {
      "cell_type": "code",
      "execution_count": null,
      "metadata": {
        "colab": {
          "base_uri": "https://localhost:8080/"
        },
        "id": "ZAf7ozR4d-3r",
        "outputId": "7f929c1c-0811-47c5-d150-f2b3244e52d9"
      },
      "outputs": [
        {
          "name": "stdout",
          "output_type": "stream",
          "text": [
            "Метрики ДО удаления выбросов:\n",
            "min:    3.0\n",
            "max:    4303.0\n",
            "median: 47.0\n",
            "mode:   10.0\n",
            "std:    189.17288077301794\n",
            "\n",
            "Метрики ПОСЛЕ удаления выбросов:\n",
            "min:    3.0\n",
            "max:    332.0\n",
            "median: 38.0\n",
            "mode:   10.0\n",
            "std:    76.07784889519371\n"
          ]
        }
      ],
      "source": [
        "# удалим выбросы\n",
        "\n",
        "q1  = df_orders.cancellations_time_in_seconds.quantile(0.25)\n",
        "q3  = df_orders.cancellations_time_in_seconds.quantile(0.75)\n",
        "iqr = q3 - q1  # межквартильный размах\n",
        "\n",
        "lower_bound  = q1 - (1.5 * iqr) # нижняя граница диапазона\n",
        "higher_bound = q3 + (1.5 * iqr) # верхняя граница диапазона\n",
        "\n",
        "# датафрем без выбросов:\n",
        "df = df_orders.loc[df_orders.cancellations_time_in_seconds.between(lower_bound, higher_bound, inclusive = 'both')]\n",
        "\n",
        "print('Метрики ДО удаления выбросов:')\n",
        "print(f'min:    {df_orders.cancellations_time_in_seconds.min()}')\n",
        "print(f'max:    {df_orders.cancellations_time_in_seconds.max()}')\n",
        "print(f'median: {df_orders.cancellations_time_in_seconds.median()}')\n",
        "print(f'mode:   {df_orders.cancellations_time_in_seconds.mode()[0]}')\n",
        "print(f'std:    {df_orders.cancellations_time_in_seconds.std()}')\n",
        "\n",
        "print('\\nМетрики ПОСЛЕ удаления выбросов:')\n",
        "print(f'min:    {df.cancellations_time_in_seconds.min()}')\n",
        "print(f'max:    {df.cancellations_time_in_seconds.max()}')\n",
        "print(f'median: {df.cancellations_time_in_seconds.median()}')\n",
        "print(f'mode:   {df.cancellations_time_in_seconds.mode()[0]}')\n",
        "print(f'std:    {df.cancellations_time_in_seconds.std()}')"
      ]
    },
    {
      "cell_type": "code",
      "execution_count": null,
      "metadata": {
        "colab": {
          "base_uri": "https://localhost:8080/",
          "height": 359
        },
        "id": "oOXkHLbk6eGc",
        "outputId": "c0d9898a-31b1-4807-d1dc-936027b1121a"
      },
      "outputs": [
        {
          "data": {
            "image/png": "[encoded data removed]",
            "text/plain": [
              "<Figure size 1296x360 with 2 Axes>"
            ]
          },
          "metadata": {
            "needs_background": "light"
          },
          "output_type": "display_data"
        }
      ],
      "source": [
        "# теперь визуализируем среднее время в секундах до отмены заказа с водителем и без, отдельно по часам\n",
        "\n",
        "df_yes_driver = df.loc[df_orders.is_driver_assigned_key == 1]\n",
        "df_no_driver  = df.loc[df_orders.is_driver_assigned_key == 0]\n",
        "\n",
        "fig = plt.figure(figsize = (18, 5))\n",
        "\n",
        "plt.subplot(121)\n",
        "df_yes_driver.groupby('hour')['cancellations_time_in_seconds'].mean().sort_values(ascending = False).plot(kind = 'bar', rot = 0, color = 'darkblue')\n",
        "plt.ylabel('mean seconds')\n",
        "plt.title('Среднее время до отмены заказа с водителем')\n",
        "\n",
        "plt.subplot(122)\n",
        "df_no_driver.groupby('hour')['cancellations_time_in_seconds'].mean().sort_values(ascending = False).plot(kind = 'bar', rot = 0, color = 'darkblue')\n",
        "plt.ylabel('mean seconds')\n",
        "plt.title('Среднее время до отмены заказа без водителя')\n",
        "plt.show()"
      ]
    },
    {
      "cell_type": "markdown",
      "metadata": {
        "id": "r6BhO7xutRlD"
      },
      "source": [
        "Видим, что **вне зависимости** от времени суток **в среднем** времени до отмены заказа проходило **больше** для случая, когда был назначен водитель.\n",
        "\n",
        "Наименьшее же среднее время до отмены заказа наблюдалось в 6 утра с водителем и 10 утра без водителя."
      ]
    },
    {
      "cell_type": "code",
      "execution_count": null,
      "metadata": {
        "id": "dt2Ty0nRvYFD"
      },
      "outputs": [],
      "source": []
    },
    {
      "cell_type": "markdown",
      "metadata": {
        "id": "FbKZJqLMzKN1"
      },
      "source": [
        "**4.** Постройте распределение **среднего ЕТА** по часам. Чем можно объяснить такой вид графика?"
      ]
    },
    {
      "cell_type": "code",
      "execution_count": null,
      "metadata": {
        "colab": {
          "base_uri": "https://localhost:8080/"
        },
        "id": "T1gmjT1zzFXc",
        "outputId": "8f27087c-a8ad-40fd-b77f-5dcfc08a041c"
      },
      "outputs": [
        {
          "data": {
            "text/plain": [
              "73.74"
            ]
          },
          "execution_count": 15,
          "metadata": {},
          "output_type": "execute_result"
        }
      ],
      "source": [
        "round(df_orders.m_order_eta.isna().mean() * 100, 2) \n",
        "\n",
        "# более 73 % данных о времени до прибытия машины пропущено в этом столбце, поэтому замена пропусков под большим вопросом"
      ]
    },
    {
      "cell_type": "code",
      "execution_count": null,
      "metadata": {
        "colab": {
          "base_uri": "https://localhost:8080/",
          "height": 376
        },
        "id": "bfi2sDCf2hAM",
        "outputId": "ef20b5b0-b357-4a61-9653-462d3111d16b"
      },
      "outputs": [
        {
          "data": {
            "image/png": "[encoded data removed]",
            "text/plain": [
              "<Figure size 648x360 with 1 Axes>"
            ]
          },
          "metadata": {
            "needs_background": "light"
          },
          "output_type": "display_data"
        }
      ],
      "source": [
        "plt.figure(figsize = (9, 5))\n",
        "df_orders.groupby('hour')['m_order_eta'].mean().sort_values(ascending = False).plot(kind = 'bar', rot = 0, color = 'darkblue')\n",
        "plt.title('Pаспределение среднего времени в секундах \\nдо прибытия машины по часам')\n",
        "plt.ylabel('m_order_eta')\n",
        "plt.show()"
      ]
    },
    {
      "cell_type": "markdown",
      "metadata": {
        "id": "wAay-OqB768d"
      },
      "source": [
        "Из-за того, что в утренние часы наблюдаются большие пробки на рабочей неделе, в 8 утра ждать такси пришлось дольше всего по времени. А в 4 утра, наоборот, такси приезжало быстрее всего на вызов из-за отсутствия каких-либо пробок на дорогах."
      ]
    },
    {
      "cell_type": "code",
      "execution_count": null,
      "metadata": {
        "id": "dn_8362T23FV"
      },
      "outputs": [],
      "source": []
    },
    {
      "cell_type": "markdown",
      "metadata": {
        "id": "0IrPbVKP_xRA"
      },
      "source": [
        "**5.** Колонка **drivers_offered** - показывает сколько водителей увидели заказ и могли его принять. Постройте часовую разбивку среднего количества водителей, которым был предложен заказ. Что можно сказать по ней про избыток/нехватку водителей в те или иные часы?"
      ]
    },
    {
      "cell_type": "code",
      "execution_count": null,
      "metadata": {
        "colab": {
          "base_uri": "https://localhost:8080/",
          "height": 424
        },
        "id": "IPbt6cZKG6xk",
        "outputId": "e3568f89-00af-48bf-bf95-4a1325378cb8"
      },
      "outputs": [
        {
          "data": {
            "text/html": [
              "\n",
              "  <div id=\"df-6e7d2150-360e-4a53-9840-ccd3b439f7fe\">\n",
              "    <div class=\"colab-df-container\">\n",
              "      <div>\n",
              "<style scoped>\n",
              "    .dataframe tbody tr th:only-of-type {\n",
              "        vertical-align: middle;\n",
              "    }\n",
              "\n",
              "    .dataframe tbody tr th {\n",
              "        vertical-align: top;\n",
              "    }\n",
              "\n",
              "    .dataframe thead th {\n",
              "        text-align: right;\n",
              "    }\n",
              "</style>\n",
              "<table border=\"1\" class=\"dataframe\">\n",
              "  <thead>\n",
              "    <tr style=\"text-align: right;\">\n",
              "      <th></th>\n",
              "      <th>order_gk</th>\n",
              "      <th>hour</th>\n",
              "      <th>drivers_offered</th>\n",
              "    </tr>\n",
              "  </thead>\n",
              "  <tbody>\n",
              "    <tr>\n",
              "      <th>9521</th>\n",
              "      <td>3000627506233</td>\n",
              "      <td>22</td>\n",
              "      <td>9</td>\n",
              "    </tr>\n",
              "    <tr>\n",
              "      <th>3486</th>\n",
              "      <td>3000585915504</td>\n",
              "      <td>2</td>\n",
              "      <td>9</td>\n",
              "    </tr>\n",
              "    <tr>\n",
              "      <th>5369</th>\n",
              "      <td>3000595047247</td>\n",
              "      <td>20</td>\n",
              "      <td>9</td>\n",
              "    </tr>\n",
              "    <tr>\n",
              "      <th>1298</th>\n",
              "      <td>3000558137039</td>\n",
              "      <td>22</td>\n",
              "      <td>9</td>\n",
              "    </tr>\n",
              "    <tr>\n",
              "      <th>3593</th>\n",
              "      <td>3000586391080</td>\n",
              "      <td>21</td>\n",
              "      <td>9</td>\n",
              "    </tr>\n",
              "    <tr>\n",
              "      <th>...</th>\n",
              "      <td>...</td>\n",
              "      <td>...</td>\n",
              "      <td>...</td>\n",
              "    </tr>\n",
              "    <tr>\n",
              "      <th>3607</th>\n",
              "      <td>3000586417013</td>\n",
              "      <td>23</td>\n",
              "      <td>0</td>\n",
              "    </tr>\n",
              "    <tr>\n",
              "      <th>3606</th>\n",
              "      <td>3000586416759</td>\n",
              "      <td>23</td>\n",
              "      <td>0</td>\n",
              "    </tr>\n",
              "    <tr>\n",
              "      <th>3605</th>\n",
              "      <td>3000586416729</td>\n",
              "      <td>22</td>\n",
              "      <td>0</td>\n",
              "    </tr>\n",
              "    <tr>\n",
              "      <th>3604</th>\n",
              "      <td>3000586391768</td>\n",
              "      <td>22</td>\n",
              "      <td>0</td>\n",
              "    </tr>\n",
              "    <tr>\n",
              "      <th>0</th>\n",
              "      <td>3000550131545</td>\n",
              "      <td>0</td>\n",
              "      <td>0</td>\n",
              "    </tr>\n",
              "  </tbody>\n",
              "</table>\n",
              "<p>10716 rows × 3 columns</p>\n",
              "</div>\n",
              "      <button class=\"colab-df-convert\" onclick=\"convertToInteractive('df-6e7d2150-360e-4a53-9840-ccd3b439f7fe')\"\n",
              "              title=\"Convert this dataframe to an interactive table.\"\n",
              "              style=\"display:none;\">\n",
              "        \n",
              "  <svg xmlns=\"http://www.w3.org/2000/svg\" height=\"24px\"viewBox=\"0 0 24 24\"\n",
              "       width=\"24px\">\n",
              "    <path d=\"M0 0h24v24H0V0z\" fill=\"none\"/>\n",
              "    <path d=\"M18.56 5.44l.94 2.06.94-2.06 2.06-.94-2.06-.94-.94-2.06-.94 2.06-2.06.94zm-11 1L8.5 8.5l.94-2.06 2.06-.94-2.06-.94L8.5 2.5l-.94 2.06-2.06.94zm10 10l.94 2.06.94-2.06 2.06-.94-2.06-.94-.94-2.06-.94 2.06-2.06.94z\"/><path d=\"M17.41 7.96l-1.37-1.37c-.4-.4-.92-.59-1.43-.59-.52 0-1.04.2-1.43.59L10.3 9.45l-7.72 7.72c-.78.78-.78 2.05 0 2.83L4 21.41c.39.39.9.59 1.41.59.51 0 1.02-.2 1.41-.59l7.78-7.78 2.81-2.81c.8-.78.8-2.07 0-2.86zM5.41 20L4 18.59l7.72-7.72 1.47 1.35L5.41 20z\"/>\n",
              "  </svg>\n",
              "      </button>\n",
              "      \n",
              "  <style>\n",
              "    .colab-df-container {\n",
              "      display:flex;\n",
              "      flex-wrap:wrap;\n",
              "      gap: 12px;\n",
              "    }\n",
              "\n",
              "    .colab-df-convert {\n",
              "      background-color: #E8F0FE;\n",
              "      border: none;\n",
              "      border-radius: 50%;\n",
              "      cursor: pointer;\n",
              "      display: none;\n",
              "      fill: #1967D2;\n",
              "      height: 32px;\n",
              "      padding: 0 0 0 0;\n",
              "      width: 32px;\n",
              "    }\n",
              "\n",
              "    .colab-df-convert:hover {\n",
              "      background-color: #E2EBFA;\n",
              "      box-shadow: 0px 1px 2px rgba(60, 64, 67, 0.3), 0px 1px 3px 1px rgba(60, 64, 67, 0.15);\n",
              "      fill: #174EA6;\n",
              "    }\n",
              "\n",
              "    [theme=dark] .colab-df-convert {\n",
              "      background-color: #3B4455;\n",
              "      fill: #D2E3FC;\n",
              "    }\n",
              "\n",
              "    [theme=dark] .colab-df-convert:hover {\n",
              "      background-color: #434B5C;\n",
              "      box-shadow: 0px 1px 3px 1px rgba(0, 0, 0, 0.15);\n",
              "      filter: drop-shadow(0px 1px 2px rgba(0, 0, 0, 0.3));\n",
              "      fill: #FFFFFF;\n",
              "    }\n",
              "  </style>\n",
              "\n",
              "      <script>\n",
              "        const buttonEl =\n",
              "          document.querySelector('#df-6e7d2150-360e-4a53-9840-ccd3b439f7fe button.colab-df-convert');\n",
              "        buttonEl.style.display =\n",
              "          google.colab.kernel.accessAllowed ? 'block' : 'none';\n",
              "\n",
              "        async function convertToInteractive(key) {\n",
              "          const element = document.querySelector('#df-6e7d2150-360e-4a53-9840-ccd3b439f7fe');\n",
              "          const dataTable =\n",
              "            await google.colab.kernel.invokeFunction('convertToInteractive',\n",
              "                                                     [key], {});\n",
              "          if (!dataTable) return;\n",
              "\n",
              "          const docLinkHtml = 'Like what you see? Visit the ' +\n",
              "            '<a target=\"_blank\" href=https://colab.research.google.com/notebooks/data_table.ipynb>data table notebook</a>'\n",
              "            + ' to learn more about interactive tables.';\n",
              "          element.innerHTML = '';\n",
              "          dataTable['output_type'] = 'display_data';\n",
              "          await google.colab.output.renderOutput(dataTable, element);\n",
              "          const docLink = document.createElement('div');\n",
              "          docLink.innerHTML = docLinkHtml;\n",
              "          element.appendChild(docLink);\n",
              "        }\n",
              "      </script>\n",
              "    </div>\n",
              "  </div>\n",
              "  "
            ],
            "text/plain": [
              "           order_gk  hour  drivers_offered\n",
              "9521  3000627506233    22                9\n",
              "3486  3000585915504     2                9\n",
              "5369  3000595047247    20                9\n",
              "1298  3000558137039    22                9\n",
              "3593  3000586391080    21                9\n",
              "...             ...   ...              ...\n",
              "3607  3000586417013    23                0\n",
              "3606  3000586416759    23                0\n",
              "3605  3000586416729    22                0\n",
              "3604  3000586391768    22                0\n",
              "0     3000550131545     0                0\n",
              "\n",
              "[10716 rows x 3 columns]"
            ]
          },
          "execution_count": 17,
          "metadata": {},
          "output_type": "execute_result"
        }
      ],
      "source": [
        "# добавим информацию о ID оффера:\n",
        "df_merge = df_orders.merge(df_offers, on = 'order_gk', how = 'left')\n",
        "\n",
        "# получим датафрейм, показывающий сколько водителей увидели заказ и могли его принять в определенный час времени:\n",
        "df_drivers_offered = df_merge.groupby(['order_gk', 'hour'])['offer_id'].nunique().reset_index().sort_values('offer_id', ascending = False)\n",
        "df_drivers_offered.rename(columns = {'offer_id': 'drivers_offered'}, inplace = True)\n",
        "df_drivers_offered\n",
        "\n",
        "# на заказы, у которых drivers_offered = 0, не было вообще желающих/доступных водителей"
      ]
    },
    {
      "cell_type": "code",
      "execution_count": null,
      "metadata": {
        "colab": {
          "base_uri": "https://localhost:8080/",
          "height": 378
        },
        "id": "GPWi4t0tYArj",
        "outputId": "2c979b9d-3d17-4053-fd59-d3f068603df8"
      },
      "outputs": [
        {
          "data": {
            "image/png": "[encoded data removed]",
            "text/plain": [
              "<Figure size 648x360 with 1 Axes>"
            ]
          },
          "metadata": {
            "needs_background": "light"
          },
          "output_type": "display_data"
        }
      ],
      "source": [
        "plt.figure(figsize = (9, 5))\n",
        "plt.title('Часовая разбивка среднего количества водителей, \\nкоторым был предложен заказ')\n",
        "\n",
        "df_drivers_offered.loc[df_drivers_offered.drivers_offered != 0].groupby('hour')\\\n",
        "['drivers_offered'].mean().sort_values(ascending = False).plot(kind = 'bar', rot = 0, color = 'darkblue')\n",
        "\n",
        "plt.ylabel('mean amount of drivers')\n",
        "plt.show()"
      ]
    },
    {
      "cell_type": "markdown",
      "metadata": {
        "id": "uLtgLIfEEWZO"
      },
      "source": [
        "Видим, что в 8 утра, когда людям надо было ехать на работу, и с 22 часов вечера до полуночи, в среднем наибольшему числу водителей было предложено заказов. Поэтому в это время может наблюдаться **нехватка** водителей из-за наплыва клиентов.\n",
        "\n",
        "А в 4 часа и 5 часов утра, когда большинство людей обычно еще спят, наименьшему числу водителей было предложено заказов. Соответственно, может наблюдаться **избыток** водителей в столь раннее время."
      ]
    },
    {
      "cell_type": "code",
      "execution_count": null,
      "metadata": {
        "colab": {
          "base_uri": "https://localhost:8080/",
          "height": 358
        },
        "id": "pMwgHnDIFhZu",
        "outputId": "079d8566-6a61-4d18-b89f-30455829374d"
      },
      "outputs": [
        {
          "data": {
            "image/png": "[encoded data removed]",
            "text/plain": [
              "<Figure size 648x360 with 1 Axes>"
            ]
          },
          "metadata": {
            "needs_background": "light"
          },
          "output_type": "display_data"
        }
      ],
      "source": [
        "# дополнительно выделим те заказы, которые водители не увидели и/или не могли их принять\n",
        "\n",
        "plt.figure(figsize = (9, 5))\n",
        "plt.title('Невыполненые заказы по часам')\n",
        "\n",
        "df_drivers_offered.loc[df_drivers_offered.drivers_offered == 0].groupby('hour')\\\n",
        "['drivers_offered'].count().sort_values(ascending = False).plot(kind = 'bar', rot = 0, color = 'darkblue')\n",
        "\n",
        "plt.ylabel('amount of orders')\n",
        "plt.show()"
      ]
    },
    {
      "cell_type": "markdown",
      "metadata": {
        "id": "7zROA23eJdIR"
      },
      "source": [
        "Видим, что **ни один** из водителей не увидел (и/или не смог принять) наибольшее число заказов именно в те часы, когда у них был ажиотаж: в 8 утра и с 22 часов вечера до полуночи. \n",
        "\n",
        "Данное заключение дополняет вывод к рисунку выше по часовой разбивке среднего количества водителей, которым был предложен заказ."
      ]
    }
  ],
  "metadata": {
    "colab": {
      "collapsed_sections": [],
      "name": "test_task_Gett.ipynb",
      "provenance": []
    },
    "kernelspec": {
      "display_name": "Python 3",
      "name": "python3"
    },
    "language_info": {
      "name": "python"
    }
  },
  "nbformat": 4,
  "nbformat_minor": 0
}
