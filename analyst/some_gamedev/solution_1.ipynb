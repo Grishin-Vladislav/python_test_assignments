{
  "cells": [
    {
      "cell_type": "markdown",
      "metadata": {},
      "source": [
        "**Тестовое задание на игрового аналитика**  \n",
        "Вариант решения от Аркадия (tg: @ArkadiyD)"
      ]
    },
    {
      "cell_type": "code",
      "execution_count": null,
      "metadata": {
        "id": "C64MmOAVG4hO"
      },
      "outputs": [],
      "source": [
        "import pandas as pd\n",
        "import matplotlib.pyplot as plt\n",
        "import seaborn as sns\n",
        "import json\n",
        "\n",
        "plt.rc('axes', titlesize   = 15)\n",
        "plt.rc('axes', titlepad    = 14)\n",
        "plt.rc('axes', labelweight = 'bold')\n",
        "plt.rc('font', size   = 14)"
      ]
    },
    {
      "cell_type": "markdown",
      "metadata": {
        "id": "gI5d9VqjwV4E"
      },
      "source": [
        "Мобильная игра зарабатывает на показе рекламы. Есть несколько её форматов:\n",
        "* **int** – полноэкранная реклама; \n",
        "* **banner** – горизонтальный баннер, висит внизу экрана пока юзер играет; \n",
        "* **rv** – видео, которое юзер смотрит по желанию и за просмотр получает монетки или др. ресурсы. \n",
        "\n",
        "Информация о каждом показе отправляется в аналитику и содержит доход от показа, формат показанной рекламы, рекламную сеть от которой был показ и др."
      ]
    },
    {
      "cell_type": "code",
      "execution_count": null,
      "metadata": {
        "colab": {
          "base_uri": "https://localhost:8080/",
          "height": 260
        },
        "id": "xgOd92MhHRBb",
        "outputId": "3bb6784e-964f-47fd-9447-bbd784b615e3"
      },
      "outputs": [
        {
          "data": {
            "text/html": [
              "\n",
              "  <div id=\"df-e651fe83-4e8f-433f-a415-2bb1600ca1d2\">\n",
              "    <div class=\"colab-df-container\">\n",
              "      <div>\n",
              "<style scoped>\n",
              "    .dataframe tbody tr th:only-of-type {\n",
              "        vertical-align: middle;\n",
              "    }\n",
              "\n",
              "    .dataframe tbody tr th {\n",
              "        vertical-align: top;\n",
              "    }\n",
              "\n",
              "    .dataframe thead th {\n",
              "        text-align: right;\n",
              "    }\n",
              "</style>\n",
              "<table border=\"1\" class=\"dataframe\">\n",
              "  <thead>\n",
              "    <tr style=\"text-align: right;\">\n",
              "      <th></th>\n",
              "      <th>profile_id</th>\n",
              "      <th>os_version</th>\n",
              "      <th>device_manufacturer</th>\n",
              "      <th>device_model</th>\n",
              "      <th>device_type</th>\n",
              "      <th>device_locale</th>\n",
              "      <th>event_name</th>\n",
              "      <th>event_json</th>\n",
              "      <th>event_datetime</th>\n",
              "      <th>event_timestamp</th>\n",
              "      <th>event_receive_datetime</th>\n",
              "      <th>event_receive_timestamp</th>\n",
              "      <th>connection_type</th>\n",
              "      <th>operator_name</th>\n",
              "      <th>country_iso_code</th>\n",
              "      <th>city</th>\n",
              "    </tr>\n",
              "  </thead>\n",
              "  <tbody>\n",
              "    <tr>\n",
              "      <th>0</th>\n",
              "      <td>JLjpGzDHBQm</td>\n",
              "      <td>11</td>\n",
              "      <td>Samsung</td>\n",
              "      <td>Galaxy Tab S6</td>\n",
              "      <td>tablet</td>\n",
              "      <td>en_US</td>\n",
              "      <td>c_ad_revenue</td>\n",
              "      <td>{\"ad_type\":\"banner\",\"placement\":\"\",\"view_index...</td>\n",
              "      <td>2022-02-04 20:02:28</td>\n",
              "      <td>1643994148</td>\n",
              "      <td>2022-02-06 17:58:19</td>\n",
              "      <td>1644159499</td>\n",
              "      <td>wifi</td>\n",
              "      <td>NaN</td>\n",
              "      <td>US</td>\n",
              "      <td>Norwalk</td>\n",
              "    </tr>\n",
              "    <tr>\n",
              "      <th>1</th>\n",
              "      <td>JLjpGzDHBQm</td>\n",
              "      <td>11</td>\n",
              "      <td>Samsung</td>\n",
              "      <td>Galaxy Tab S6</td>\n",
              "      <td>tablet</td>\n",
              "      <td>en_US</td>\n",
              "      <td>c_ad_revenue</td>\n",
              "      <td>{\"ad_type\":\"banner\",\"placement\":\"\",\"view_index...</td>\n",
              "      <td>2022-02-04 20:02:45</td>\n",
              "      <td>1643994165</td>\n",
              "      <td>2022-02-06 17:58:19</td>\n",
              "      <td>1644159499</td>\n",
              "      <td>wifi</td>\n",
              "      <td>NaN</td>\n",
              "      <td>US</td>\n",
              "      <td>Norwalk</td>\n",
              "    </tr>\n",
              "    <tr>\n",
              "      <th>2</th>\n",
              "      <td>JLkVacrzHY6</td>\n",
              "      <td>11</td>\n",
              "      <td>Google</td>\n",
              "      <td>Pixel 2</td>\n",
              "      <td>phone</td>\n",
              "      <td>en_US</td>\n",
              "      <td>c_ad_revenue</td>\n",
              "      <td>{\"ad_type\":\"banner\",\"placement\":\"\",\"view_index...</td>\n",
              "      <td>2022-02-05 17:53:05</td>\n",
              "      <td>1644072785</td>\n",
              "      <td>2022-02-06 16:59:29</td>\n",
              "      <td>1644155969</td>\n",
              "      <td>wifi</td>\n",
              "      <td>Verizon</td>\n",
              "      <td>US</td>\n",
              "      <td>Charlotte</td>\n",
              "    </tr>\n",
              "  </tbody>\n",
              "</table>\n",
              "</div>\n",
              "      <button class=\"colab-df-convert\" onclick=\"convertToInteractive('df-e651fe83-4e8f-433f-a415-2bb1600ca1d2')\"\n",
              "              title=\"Convert this dataframe to an interactive table.\"\n",
              "              style=\"display:none;\">\n",
              "        \n",
              "  <svg xmlns=\"http://www.w3.org/2000/svg\" height=\"24px\"viewBox=\"0 0 24 24\"\n",
              "       width=\"24px\">\n",
              "    <path d=\"M0 0h24v24H0V0z\" fill=\"none\"/>\n",
              "    <path d=\"M18.56 5.44l.94 2.06.94-2.06 2.06-.94-2.06-.94-.94-2.06-.94 2.06-2.06.94zm-11 1L8.5 8.5l.94-2.06 2.06-.94-2.06-.94L8.5 2.5l-.94 2.06-2.06.94zm10 10l.94 2.06.94-2.06 2.06-.94-2.06-.94-.94-2.06-.94 2.06-2.06.94z\"/><path d=\"M17.41 7.96l-1.37-1.37c-.4-.4-.92-.59-1.43-.59-.52 0-1.04.2-1.43.59L10.3 9.45l-7.72 7.72c-.78.78-.78 2.05 0 2.83L4 21.41c.39.39.9.59 1.41.59.51 0 1.02-.2 1.41-.59l7.78-7.78 2.81-2.81c.8-.78.8-2.07 0-2.86zM5.41 20L4 18.59l7.72-7.72 1.47 1.35L5.41 20z\"/>\n",
              "  </svg>\n",
              "      </button>\n",
              "      \n",
              "  <style>\n",
              "    .colab-df-container {\n",
              "      display:flex;\n",
              "      flex-wrap:wrap;\n",
              "      gap: 12px;\n",
              "    }\n",
              "\n",
              "    .colab-df-convert {\n",
              "      background-color: #E8F0FE;\n",
              "      border: none;\n",
              "      border-radius: 50%;\n",
              "      cursor: pointer;\n",
              "      display: none;\n",
              "      fill: #1967D2;\n",
              "      height: 32px;\n",
              "      padding: 0 0 0 0;\n",
              "      width: 32px;\n",
              "    }\n",
              "\n",
              "    .colab-df-convert:hover {\n",
              "      background-color: #E2EBFA;\n",
              "      box-shadow: 0px 1px 2px rgba(60, 64, 67, 0.3), 0px 1px 3px 1px rgba(60, 64, 67, 0.15);\n",
              "      fill: #174EA6;\n",
              "    }\n",
              "\n",
              "    [theme=dark] .colab-df-convert {\n",
              "      background-color: #3B4455;\n",
              "      fill: #D2E3FC;\n",
              "    }\n",
              "\n",
              "    [theme=dark] .colab-df-convert:hover {\n",
              "      background-color: #434B5C;\n",
              "      box-shadow: 0px 1px 3px 1px rgba(0, 0, 0, 0.15);\n",
              "      filter: drop-shadow(0px 1px 2px rgba(0, 0, 0, 0.3));\n",
              "      fill: #FFFFFF;\n",
              "    }\n",
              "  </style>\n",
              "\n",
              "      <script>\n",
              "        const buttonEl =\n",
              "          document.querySelector('#df-e651fe83-4e8f-433f-a415-2bb1600ca1d2 button.colab-df-convert');\n",
              "        buttonEl.style.display =\n",
              "          google.colab.kernel.accessAllowed ? 'block' : 'none';\n",
              "\n",
              "        async function convertToInteractive(key) {\n",
              "          const element = document.querySelector('#df-e651fe83-4e8f-433f-a415-2bb1600ca1d2');\n",
              "          const dataTable =\n",
              "            await google.colab.kernel.invokeFunction('convertToInteractive',\n",
              "                                                     [key], {});\n",
              "          if (!dataTable) return;\n",
              "\n",
              "          const docLinkHtml = 'Like what you see? Visit the ' +\n",
              "            '<a target=\"_blank\" href=https://colab.research.google.com/notebooks/data_table.ipynb>data table notebook</a>'\n",
              "            + ' to learn more about interactive tables.';\n",
              "          element.innerHTML = '';\n",
              "          dataTable['output_type'] = 'display_data';\n",
              "          await google.colab.output.renderOutput(dataTable, element);\n",
              "          const docLink = document.createElement('div');\n",
              "          docLink.innerHTML = docLinkHtml;\n",
              "          element.appendChild(docLink);\n",
              "        }\n",
              "      </script>\n",
              "    </div>\n",
              "  </div>\n",
              "  "
            ],
            "text/plain": [
              "    profile_id os_version device_manufacturer   device_model device_type  \\\n",
              "0  JLjpGzDHBQm         11             Samsung  Galaxy Tab S6      tablet   \n",
              "1  JLjpGzDHBQm         11             Samsung  Galaxy Tab S6      tablet   \n",
              "2  JLkVacrzHY6         11              Google        Pixel 2       phone   \n",
              "\n",
              "  device_locale    event_name  \\\n",
              "0         en_US  c_ad_revenue   \n",
              "1         en_US  c_ad_revenue   \n",
              "2         en_US  c_ad_revenue   \n",
              "\n",
              "                                          event_json       event_datetime  \\\n",
              "0  {\"ad_type\":\"banner\",\"placement\":\"\",\"view_index...  2022-02-04 20:02:28   \n",
              "1  {\"ad_type\":\"banner\",\"placement\":\"\",\"view_index...  2022-02-04 20:02:45   \n",
              "2  {\"ad_type\":\"banner\",\"placement\":\"\",\"view_index...  2022-02-05 17:53:05   \n",
              "\n",
              "   event_timestamp event_receive_datetime  event_receive_timestamp  \\\n",
              "0       1643994148    2022-02-06 17:58:19               1644159499   \n",
              "1       1643994165    2022-02-06 17:58:19               1644159499   \n",
              "2       1644072785    2022-02-06 16:59:29               1644155969   \n",
              "\n",
              "  connection_type operator_name country_iso_code       city  \n",
              "0            wifi           NaN               US    Norwalk  \n",
              "1            wifi           NaN               US    Norwalk  \n",
              "2            wifi       Verizon               US  Charlotte  "
            ]
          },
          "execution_count": 2,
          "metadata": {},
          "output_type": "execute_result"
        }
      ],
      "source": [
        "df = pd.read_csv('/content/drive/MyDrive/Dataset/us events ad_revenue_03.02-07.02.csv')\n",
        "df.head(3)"
      ]
    },
    {
      "cell_type": "code",
      "execution_count": null,
      "metadata": {
        "id": "WUG4ogxucHGK"
      },
      "outputs": [],
      "source": []
    },
    {
      "cell_type": "markdown",
      "metadata": {
        "id": "pf9HO2tPjRVN"
      },
      "source": [
        "#**Подготовка к анализу**"
      ]
    },
    {
      "cell_type": "code",
      "execution_count": null,
      "metadata": {
        "colab": {
          "base_uri": "https://localhost:8080/"
        },
        "id": "7Hlki7N9Z3PK",
        "outputId": "4e0e973c-0228-4092-daf1-edf970425ca3"
      },
      "outputs": [
        {
          "data": {
            "text/plain": [
              "0"
            ]
          },
          "execution_count": 3,
          "metadata": {},
          "output_type": "execute_result"
        }
      ],
      "source": [
        "# Есть ли дубли? Ответ - нет.\n",
        "df.duplicated().sum()"
      ]
    },
    {
      "cell_type": "code",
      "execution_count": null,
      "metadata": {
        "colab": {
          "base_uri": "https://localhost:8080/"
        },
        "id": "HZqji7pcZSYB",
        "outputId": "de353994-f4ab-46e5-dc45-3d1f7d88255d"
      },
      "outputs": [
        {
          "name": "stdout",
          "output_type": "stream",
          "text": [
            "<class 'pandas.core.frame.DataFrame'>\n",
            "RangeIndex: 860079 entries, 0 to 860078\n",
            "Data columns (total 16 columns):\n",
            " #   Column                   Non-Null Count   Dtype \n",
            "---  ------                   --------------   ----- \n",
            " 0   profile_id               860065 non-null  object\n",
            " 1   os_version               860079 non-null  object\n",
            " 2   device_manufacturer      860079 non-null  object\n",
            " 3   device_model             860079 non-null  object\n",
            " 4   device_type              860079 non-null  object\n",
            " 5   device_locale            860079 non-null  object\n",
            " 6   event_name               860079 non-null  object\n",
            " 7   event_json               860079 non-null  object\n",
            " 8   event_datetime           860079 non-null  object\n",
            " 9   event_timestamp          860079 non-null  int64 \n",
            " 10  event_receive_datetime   860079 non-null  object\n",
            " 11  event_receive_timestamp  860079 non-null  int64 \n",
            " 12  connection_type          860079 non-null  object\n",
            " 13  operator_name            841200 non-null  object\n",
            " 14  country_iso_code         860079 non-null  object\n",
            " 15  city                     536371 non-null  object\n",
            "dtypes: int64(2), object(14)\n",
            "memory usage: 105.0+ MB\n"
          ]
        }
      ],
      "source": [
        "df.info()"
      ]
    },
    {
      "cell_type": "code",
      "execution_count": null,
      "metadata": {
        "id": "AMQWduysYB7h"
      },
      "outputs": [],
      "source": [
        "# изменим типы данных\n",
        "df.event_datetime         = pd.to_datetime(df.event_datetime)\n",
        "df.event_receive_datetime = pd.to_datetime(df.event_receive_datetime)"
      ]
    },
    {
      "cell_type": "markdown",
      "metadata": {
        "id": "MvP20wgC4ybd"
      },
      "source": [
        "Столбец **event_json** содержит данные о событии показа рекламы:\n",
        "* **ad_type**    – формат рекламы (**int**, **banner** или **rv**)\n",
        "* **placement**  – когда/где был показ рекламы в игре\n",
        "* **view_index** – номер показа конкретного формата рекламы для юзера (**не поддерживается для баннеров**)\n",
        "* Остальные столбцы должны быть интуитивно понятны."
      ]
    },
    {
      "cell_type": "code",
      "execution_count": null,
      "metadata": {
        "colab": {
          "base_uri": "https://localhost:8080/"
        },
        "id": "rhfNzBj9cOXU",
        "outputId": "c4c19730-a0c4-47d3-da3d-ffe0318592eb"
      },
      "outputs": [
        {
          "data": {
            "text/plain": [
              "{'ad_country_code': 'US',\n",
              " 'ad_network_placement': 'ca-app-pub-7511632782617496/8825263691',\n",
              " 'ad_type': 'banner',\n",
              " 'ad_unit_id': '64c6b1114ea8c1cc',\n",
              " 'ads_ltv': 0.487876676518837,\n",
              " 'creativeId': 'CJ3XirfD5vUCFYPnKAUdG3MOYQ',\n",
              " 'cur_ticks': 637795729492245130,\n",
              " 'currency': 'USD',\n",
              " 'ecpm_sma': 0.511508107185364,\n",
              " 'network_name': 'Google AdMob',\n",
              " 'normalized_ecpm_sma': 0.511508107185364,\n",
              " 'placement': '',\n",
              " 'revenue': 0.000510313,\n",
              " 'session_length': 705.8807,\n",
              " 'session_view_index': 0,\n",
              " 'value': 0.000510313,\n",
              " 'view_index': 1}"
            ]
          },
          "execution_count": 6,
          "metadata": {},
          "output_type": "execute_result"
        }
      ],
      "source": [
        "json.loads(df.event_json.loc[0]) # образец представленных данных в этом столбце"
      ]
    },
    {
      "cell_type": "code",
      "execution_count": null,
      "metadata": {
        "colab": {
          "base_uri": "https://localhost:8080/",
          "height": 357
        },
        "id": "eY4wZvXAWpQE",
        "outputId": "4899108f-607a-4c20-dba7-c76d883feb25"
      },
      "outputs": [
        {
          "data": {
            "text/html": [
              "\n",
              "  <div id=\"df-dbacc069-de7f-4292-87f2-2eeb3ebcf676\">\n",
              "    <div class=\"colab-df-container\">\n",
              "      <div>\n",
              "<style scoped>\n",
              "    .dataframe tbody tr th:only-of-type {\n",
              "        vertical-align: middle;\n",
              "    }\n",
              "\n",
              "    .dataframe tbody tr th {\n",
              "        vertical-align: top;\n",
              "    }\n",
              "\n",
              "    .dataframe thead th {\n",
              "        text-align: right;\n",
              "    }\n",
              "</style>\n",
              "<table border=\"1\" class=\"dataframe\">\n",
              "  <thead>\n",
              "    <tr style=\"text-align: right;\">\n",
              "      <th></th>\n",
              "      <th>profile_id</th>\n",
              "      <th>os_version</th>\n",
              "      <th>device_manufacturer</th>\n",
              "      <th>device_model</th>\n",
              "      <th>device_type</th>\n",
              "      <th>device_locale</th>\n",
              "      <th>event_name</th>\n",
              "      <th>event_datetime</th>\n",
              "      <th>event_timestamp</th>\n",
              "      <th>event_receive_datetime</th>\n",
              "      <th>event_receive_timestamp</th>\n",
              "      <th>connection_type</th>\n",
              "      <th>operator_name</th>\n",
              "      <th>country_iso_code</th>\n",
              "      <th>city</th>\n",
              "      <th>ad_type</th>\n",
              "      <th>view_index</th>\n",
              "      <th>ecpm_sma</th>\n",
              "    </tr>\n",
              "  </thead>\n",
              "  <tbody>\n",
              "    <tr>\n",
              "      <th>0</th>\n",
              "      <td>JLjpGzDHBQm</td>\n",
              "      <td>11</td>\n",
              "      <td>Samsung</td>\n",
              "      <td>Galaxy Tab S6</td>\n",
              "      <td>tablet</td>\n",
              "      <td>en_US</td>\n",
              "      <td>c_ad_revenue</td>\n",
              "      <td>2022-02-04 20:02:28</td>\n",
              "      <td>1643994148</td>\n",
              "      <td>2022-02-06 17:58:19</td>\n",
              "      <td>1644159499</td>\n",
              "      <td>wifi</td>\n",
              "      <td>NaN</td>\n",
              "      <td>US</td>\n",
              "      <td>Norwalk</td>\n",
              "      <td>banner</td>\n",
              "      <td>1</td>\n",
              "      <td>0.511508</td>\n",
              "    </tr>\n",
              "    <tr>\n",
              "      <th>1</th>\n",
              "      <td>JLjpGzDHBQm</td>\n",
              "      <td>11</td>\n",
              "      <td>Samsung</td>\n",
              "      <td>Galaxy Tab S6</td>\n",
              "      <td>tablet</td>\n",
              "      <td>en_US</td>\n",
              "      <td>c_ad_revenue</td>\n",
              "      <td>2022-02-04 20:02:45</td>\n",
              "      <td>1643994165</td>\n",
              "      <td>2022-02-06 17:58:19</td>\n",
              "      <td>1644159499</td>\n",
              "      <td>wifi</td>\n",
              "      <td>NaN</td>\n",
              "      <td>US</td>\n",
              "      <td>Norwalk</td>\n",
              "      <td>banner</td>\n",
              "      <td>1</td>\n",
              "      <td>0.511389</td>\n",
              "    </tr>\n",
              "    <tr>\n",
              "      <th>2</th>\n",
              "      <td>JLkVacrzHY6</td>\n",
              "      <td>11</td>\n",
              "      <td>Google</td>\n",
              "      <td>Pixel 2</td>\n",
              "      <td>phone</td>\n",
              "      <td>en_US</td>\n",
              "      <td>c_ad_revenue</td>\n",
              "      <td>2022-02-05 17:53:05</td>\n",
              "      <td>1644072785</td>\n",
              "      <td>2022-02-06 16:59:29</td>\n",
              "      <td>1644155969</td>\n",
              "      <td>wifi</td>\n",
              "      <td>Verizon</td>\n",
              "      <td>US</td>\n",
              "      <td>Charlotte</td>\n",
              "      <td>banner</td>\n",
              "      <td>1</td>\n",
              "      <td>0.928597</td>\n",
              "    </tr>\n",
              "    <tr>\n",
              "      <th>3</th>\n",
              "      <td>JMC6wG3cX0f</td>\n",
              "      <td>10</td>\n",
              "      <td>Samsung</td>\n",
              "      <td>Galaxy S9</td>\n",
              "      <td>phone</td>\n",
              "      <td>en_US</td>\n",
              "      <td>c_ad_revenue</td>\n",
              "      <td>2022-02-06 17:09:01</td>\n",
              "      <td>1644156541</td>\n",
              "      <td>2022-02-06 17:09:24</td>\n",
              "      <td>1644156564</td>\n",
              "      <td>wifi</td>\n",
              "      <td>T-Mobile</td>\n",
              "      <td>US</td>\n",
              "      <td>Cocoa</td>\n",
              "      <td>int</td>\n",
              "      <td>1</td>\n",
              "      <td>13.782633</td>\n",
              "    </tr>\n",
              "    <tr>\n",
              "      <th>4</th>\n",
              "      <td>JLzWWTJfi1b</td>\n",
              "      <td>10</td>\n",
              "      <td>Samsung</td>\n",
              "      <td>Galaxy S9</td>\n",
              "      <td>phone</td>\n",
              "      <td>en_US</td>\n",
              "      <td>c_ad_revenue</td>\n",
              "      <td>2022-02-06 17:15:38</td>\n",
              "      <td>1644156938</td>\n",
              "      <td>2022-02-06 17:16:16</td>\n",
              "      <td>1644156976</td>\n",
              "      <td>cell</td>\n",
              "      <td>Verizon</td>\n",
              "      <td>US</td>\n",
              "      <td>NaN</td>\n",
              "      <td>banner</td>\n",
              "      <td>1</td>\n",
              "      <td>1.660282</td>\n",
              "    </tr>\n",
              "  </tbody>\n",
              "</table>\n",
              "</div>\n",
              "      <button class=\"colab-df-convert\" onclick=\"convertToInteractive('df-dbacc069-de7f-4292-87f2-2eeb3ebcf676')\"\n",
              "              title=\"Convert this dataframe to an interactive table.\"\n",
              "              style=\"display:none;\">\n",
              "        \n",
              "  <svg xmlns=\"http://www.w3.org/2000/svg\" height=\"24px\"viewBox=\"0 0 24 24\"\n",
              "       width=\"24px\">\n",
              "    <path d=\"M0 0h24v24H0V0z\" fill=\"none\"/>\n",
              "    <path d=\"M18.56 5.44l.94 2.06.94-2.06 2.06-.94-2.06-.94-.94-2.06-.94 2.06-2.06.94zm-11 1L8.5 8.5l.94-2.06 2.06-.94-2.06-.94L8.5 2.5l-.94 2.06-2.06.94zm10 10l.94 2.06.94-2.06 2.06-.94-2.06-.94-.94-2.06-.94 2.06-2.06.94z\"/><path d=\"M17.41 7.96l-1.37-1.37c-.4-.4-.92-.59-1.43-.59-.52 0-1.04.2-1.43.59L10.3 9.45l-7.72 7.72c-.78.78-.78 2.05 0 2.83L4 21.41c.39.39.9.59 1.41.59.51 0 1.02-.2 1.41-.59l7.78-7.78 2.81-2.81c.8-.78.8-2.07 0-2.86zM5.41 20L4 18.59l7.72-7.72 1.47 1.35L5.41 20z\"/>\n",
              "  </svg>\n",
              "      </button>\n",
              "      \n",
              "  <style>\n",
              "    .colab-df-container {\n",
              "      display:flex;\n",
              "      flex-wrap:wrap;\n",
              "      gap: 12px;\n",
              "    }\n",
              "\n",
              "    .colab-df-convert {\n",
              "      background-color: #E8F0FE;\n",
              "      border: none;\n",
              "      border-radius: 50%;\n",
              "      cursor: pointer;\n",
              "      display: none;\n",
              "      fill: #1967D2;\n",
              "      height: 32px;\n",
              "      padding: 0 0 0 0;\n",
              "      width: 32px;\n",
              "    }\n",
              "\n",
              "    .colab-df-convert:hover {\n",
              "      background-color: #E2EBFA;\n",
              "      box-shadow: 0px 1px 2px rgba(60, 64, 67, 0.3), 0px 1px 3px 1px rgba(60, 64, 67, 0.15);\n",
              "      fill: #174EA6;\n",
              "    }\n",
              "\n",
              "    [theme=dark] .colab-df-convert {\n",
              "      background-color: #3B4455;\n",
              "      fill: #D2E3FC;\n",
              "    }\n",
              "\n",
              "    [theme=dark] .colab-df-convert:hover {\n",
              "      background-color: #434B5C;\n",
              "      box-shadow: 0px 1px 3px 1px rgba(0, 0, 0, 0.15);\n",
              "      filter: drop-shadow(0px 1px 2px rgba(0, 0, 0, 0.3));\n",
              "      fill: #FFFFFF;\n",
              "    }\n",
              "  </style>\n",
              "\n",
              "      <script>\n",
              "        const buttonEl =\n",
              "          document.querySelector('#df-dbacc069-de7f-4292-87f2-2eeb3ebcf676 button.colab-df-convert');\n",
              "        buttonEl.style.display =\n",
              "          google.colab.kernel.accessAllowed ? 'block' : 'none';\n",
              "\n",
              "        async function convertToInteractive(key) {\n",
              "          const element = document.querySelector('#df-dbacc069-de7f-4292-87f2-2eeb3ebcf676');\n",
              "          const dataTable =\n",
              "            await google.colab.kernel.invokeFunction('convertToInteractive',\n",
              "                                                     [key], {});\n",
              "          if (!dataTable) return;\n",
              "\n",
              "          const docLinkHtml = 'Like what you see? Visit the ' +\n",
              "            '<a target=\"_blank\" href=https://colab.research.google.com/notebooks/data_table.ipynb>data table notebook</a>'\n",
              "            + ' to learn more about interactive tables.';\n",
              "          element.innerHTML = '';\n",
              "          dataTable['output_type'] = 'display_data';\n",
              "          await google.colab.output.renderOutput(dataTable, element);\n",
              "          const docLink = document.createElement('div');\n",
              "          docLink.innerHTML = docLinkHtml;\n",
              "          element.appendChild(docLink);\n",
              "        }\n",
              "      </script>\n",
              "    </div>\n",
              "  </div>\n",
              "  "
            ],
            "text/plain": [
              "    profile_id os_version device_manufacturer   device_model device_type  \\\n",
              "0  JLjpGzDHBQm         11             Samsung  Galaxy Tab S6      tablet   \n",
              "1  JLjpGzDHBQm         11             Samsung  Galaxy Tab S6      tablet   \n",
              "2  JLkVacrzHY6         11              Google        Pixel 2       phone   \n",
              "3  JMC6wG3cX0f         10             Samsung      Galaxy S9       phone   \n",
              "4  JLzWWTJfi1b         10             Samsung      Galaxy S9       phone   \n",
              "\n",
              "  device_locale    event_name      event_datetime  event_timestamp  \\\n",
              "0         en_US  c_ad_revenue 2022-02-04 20:02:28       1643994148   \n",
              "1         en_US  c_ad_revenue 2022-02-04 20:02:45       1643994165   \n",
              "2         en_US  c_ad_revenue 2022-02-05 17:53:05       1644072785   \n",
              "3         en_US  c_ad_revenue 2022-02-06 17:09:01       1644156541   \n",
              "4         en_US  c_ad_revenue 2022-02-06 17:15:38       1644156938   \n",
              "\n",
              "  event_receive_datetime  event_receive_timestamp connection_type  \\\n",
              "0    2022-02-06 17:58:19               1644159499            wifi   \n",
              "1    2022-02-06 17:58:19               1644159499            wifi   \n",
              "2    2022-02-06 16:59:29               1644155969            wifi   \n",
              "3    2022-02-06 17:09:24               1644156564            wifi   \n",
              "4    2022-02-06 17:16:16               1644156976            cell   \n",
              "\n",
              "  operator_name country_iso_code       city ad_type  view_index   ecpm_sma  \n",
              "0           NaN               US    Norwalk  banner           1   0.511508  \n",
              "1           NaN               US    Norwalk  banner           1   0.511389  \n",
              "2       Verizon               US  Charlotte  banner           1   0.928597  \n",
              "3      T-Mobile               US      Cocoa     int           1  13.782633  \n",
              "4      Verizon                US        NaN  banner           1   1.660282  "
            ]
          },
          "execution_count": 7,
          "metadata": {},
          "output_type": "execute_result"
        }
      ],
      "source": [
        "# Выделим интересующую нас информацию из столбца \"event_json\" в отдельные столбцы для последующего анализа:\n",
        "\n",
        "df_ = pd.concat([df, pd.json_normalize(df['event_json'].apply(json.loads))], axis = 1)\n",
        "\n",
        "df_.drop(['event_json', 'placement', 'session_view_index', 'cur_ticks', 'session_length', 'ads_ltv', 'normalized_ecpm_sma', 'value', 'revenue', \n",
        "          'network_name', 'currency', 'ad_country_code', 'ad_network_placement', 'creativeId', 'ad_unit_id'], axis = 1, inplace = True)\n",
        "df_.head()"
      ]
    },
    {
      "cell_type": "code",
      "execution_count": null,
      "metadata": {
        "colab": {
          "base_uri": "https://localhost:8080/"
        },
        "id": "rhA4ekrXxKEL",
        "outputId": "820ae841-4f6d-4520-8484-5be3fcf5311b"
      },
      "outputs": [
        {
          "name": "stdout",
          "output_type": "stream",
          "text": [
            "[1, 2, 3, 4, 5, 6, 7, 8, 9, 10, 11, 12, 13, 14, 15, 16, 17, 18, 19, 20, 21, 22, 23, 24, 25, 26, 27, 28, 29, 30, 31, 32, 33, 34, 35, 36, 37, 38, 39, 40, 41, 42, 43, 44, 45, 46, 47, 48, 49, 50, 51, 52, 53, 54, 55, 56, 57, 58, 59, 60, 61, 62, 63, 64, 65, 66, 67, 68, 69, 70, 71, 72, 73, 74, 75, 76, 77, 78, 79, 80, 81, 82, 83, 84, 85, 86, 87, 88, 89, 90, 91, 92, 93, 94, 95, 96, 97, 98, 99, 100, 101, 102, 103, 104, 105, 106, 107, 108, 109, 110, 111, 112, 113, 114, 115, 116, 117, 118, 119, 120, 121, 122, 123, 124, 125, 126, 127, 128, 129, 130, 131, 132, 133, 134, 135, 136, 137, 138, 139, 140, 141, 142, 143, 144, 145, 146, 147, 148, 149, 150, 151, 152, 153, 154, 155, 156, 157, 158, 159, 160, 161, 162, 163, 164, 165, 166, 167, 168, 169, 170, 171, 172, 173, 174, 175, 176, 177, 178, 179, 180, 181, 182, 183, 184, 185, 186, 187, 188, 189, 190, 191, 192, 193, 194, 195, 196, 197, 198, 199, 200, 201, 202, 203, 204, 205, 206, 207, 208, 209, 210, 211, 212, 213, 214, 215, 216, 217, 218, 219, 220, 221, 222, 223, 224, 225, 226, 227, 228, 229, 230, 231, 232, 233, 234, 235, 236, 237, 238, 239, 240, 241, 242, 243, 244, 245, 246, 247, 248, 249, 250, 251, 252, 253, 254, 255, 256, 257, 258, 259, 260, 261, 262, 263, 264, 265, 266, 267, 268, 269, 270, 271, 272, 273, 274, 275, 276, 277, 278, 279, 280, 281, 282, 283, 284, 285, 286, 287, 288, 289, 290, 291, 292, 293, 294, 295, 296, 297, 298, 299, 300, 301, 302, 303, 304, 305, 306, 307, 308, 309, 310, 311, 312, 313, 314, 315, 316, 317, 318, 319, 320, 321, 322, 323, 324, 325, 326, 327, 328, 329, 330, 331, 332, 333, 334, 335, 336, 337, 338, 339, 340, 341, 342, 343, 344, 345, 346, 347, 348, 349, 350, 351, 352, 353, 354, 355, 356, 357, 358, 359, 360, 361, 362, 363, 364, 365, 366, 367, 368, 369, 370, 371, 372, 373, 374, 375, 376, 377, 378, 379, 380, 381, 382, 383, 384, 385, 386, 387, 388, 389, 390, 391, 392, 393, 394, 395, 396, 397, 398, 399, 400, 401, 402, 403, 404, 405, 406, 407, 408, 409, 410, 411, 412, 413, 414, 415, 416, 417]\n"
          ]
        }
      ],
      "source": [
        "print(sorted(df_.view_index.unique()))"
      ]
    },
    {
      "cell_type": "code",
      "execution_count": null,
      "metadata": {
        "id": "Us0ReVS-mBE8"
      },
      "outputs": [],
      "source": [
        "# По условию для формата рекламы \"banner\" нет номера показа.\n",
        "# Поэтому для баннера заменим этот номер, например, на отсутствующее в списке выше значение ноль:\n",
        "df_.loc[df_.ad_type == 'banner', 'view_index'] = 0"
      ]
    },
    {
      "cell_type": "code",
      "execution_count": null,
      "metadata": {
        "colab": {
          "base_uri": "https://localhost:8080/"
        },
        "id": "bPcT1B4F1WQD",
        "outputId": "6796255e-944b-46f2-ebd9-f5c2d93a8c65"
      },
      "outputs": [
        {
          "data": {
            "text/plain": [
              "array([0])"
            ]
          },
          "execution_count": 10,
          "metadata": {},
          "output_type": "execute_result"
        }
      ],
      "source": [
        "df_.loc[df_.ad_type == 'banner'].view_index.unique() # проверка"
      ]
    },
    {
      "cell_type": "code",
      "execution_count": null,
      "metadata": {
        "colab": {
          "base_uri": "https://localhost:8080/"
        },
        "id": "M_RN3we01ioL",
        "outputId": "c4897a4d-7774-4c75-9587-c98831dbdcb7"
      },
      "outputs": [
        {
          "name": "stdout",
          "output_type": "stream",
          "text": [
            "<class 'pandas.core.frame.DataFrame'>\n",
            "RangeIndex: 860079 entries, 0 to 860078\n",
            "Data columns (total 18 columns):\n",
            " #   Column                   Non-Null Count   Dtype         \n",
            "---  ------                   --------------   -----         \n",
            " 0   profile_id               860065 non-null  object        \n",
            " 1   os_version               860079 non-null  object        \n",
            " 2   device_manufacturer      860079 non-null  object        \n",
            " 3   device_model             860079 non-null  object        \n",
            " 4   device_type              860079 non-null  object        \n",
            " 5   device_locale            860079 non-null  object        \n",
            " 6   event_name               860079 non-null  object        \n",
            " 7   event_datetime           860079 non-null  datetime64[ns]\n",
            " 8   event_timestamp          860079 non-null  int64         \n",
            " 9   event_receive_datetime   860079 non-null  datetime64[ns]\n",
            " 10  event_receive_timestamp  860079 non-null  int64         \n",
            " 11  connection_type          860079 non-null  object        \n",
            " 12  operator_name            841200 non-null  object        \n",
            " 13  country_iso_code         860079 non-null  object        \n",
            " 14  city                     536371 non-null  object        \n",
            " 15  ad_type                  860079 non-null  object        \n",
            " 16  view_index               860079 non-null  int64         \n",
            " 17  ecpm_sma                 860079 non-null  float64       \n",
            "dtypes: datetime64[ns](2), float64(1), int64(3), object(12)\n",
            "memory usage: 118.1+ MB\n"
          ]
        }
      ],
      "source": [
        "df_.info() # good"
      ]
    },
    {
      "cell_type": "markdown",
      "metadata": {
        "id": "FTAnUgNP_1vN"
      },
      "source": [
        "**Обработка пропусков**"
      ]
    },
    {
      "cell_type": "code",
      "execution_count": null,
      "metadata": {
        "colab": {
          "base_uri": "https://localhost:8080/"
        },
        "id": "xHNoqpAw8vp8",
        "outputId": "c13589b2-68cb-42dc-ebc7-ce96cac0bfce"
      },
      "outputs": [
        {
          "data": {
            "text/plain": [
              "city                       37.63701\n",
              "operator_name               2.19503\n",
              "profile_id                  0.00163\n",
              "os_version                  0.00000\n",
              "view_index                  0.00000\n",
              "ad_type                     0.00000\n",
              "country_iso_code            0.00000\n",
              "connection_type             0.00000\n",
              "event_receive_timestamp     0.00000\n",
              "event_receive_datetime      0.00000\n",
              "event_timestamp             0.00000\n",
              "event_datetime              0.00000\n",
              "event_name                  0.00000\n",
              "device_locale               0.00000\n",
              "device_type                 0.00000\n",
              "device_model                0.00000\n",
              "device_manufacturer         0.00000\n",
              "ecpm_sma                    0.00000\n",
              "dtype: float64"
            ]
          },
          "execution_count": 12,
          "metadata": {},
          "output_type": "execute_result"
        }
      ],
      "source": [
        "# процент пропусков в каждом столбце:\n",
        "(df_.isna().mean().sort_values(ascending = False) * 100).round(5)"
      ]
    },
    {
      "cell_type": "markdown",
      "metadata": {
        "id": "M5Uwz5DQ_tyV"
      },
      "source": [
        "Видим, что **наибольшее** число пропусков оказалось в столбце с названиями городов (отсутствуют **более 37 %** значений).\n",
        "\n",
        "**Все** три столбца **категориальные**, поэтому заменим в них пропуски **модой**, на которую не влияют выбросы."
      ]
    },
    {
      "cell_type": "code",
      "execution_count": null,
      "metadata": {
        "colab": {
          "base_uri": "https://localhost:8080/",
          "height": 72
        },
        "id": "5ZEHkWAOFZq8",
        "outputId": "16d4cd81-a1e1-45f9-b92b-fbf03d989228"
      },
      "outputs": [
        {
          "data": {
            "application/vnd.google.colaboratory.intrinsic+json": {
              "type": "string"
            },
            "text/plain": [
              "'New York'"
            ]
          },
          "metadata": {},
          "output_type": "display_data"
        },
        {
          "data": {
            "application/vnd.google.colaboratory.intrinsic+json": {
              "type": "string"
            },
            "text/plain": [
              "'Verizon '"
            ]
          },
          "metadata": {},
          "output_type": "display_data"
        },
        {
          "data": {
            "application/vnd.google.colaboratory.intrinsic+json": {
              "type": "string"
            },
            "text/plain": [
              "'JL5pmKYe8g7'"
            ]
          },
          "metadata": {},
          "output_type": "display_data"
        }
      ],
      "source": [
        "display(df_.city.mode()[0])\n",
        "display(df_.operator_name.mode()[0])\n",
        "display(df_.profile_id.mode()[0])"
      ]
    },
    {
      "cell_type": "code",
      "execution_count": null,
      "metadata": {
        "id": "8tFTh-4dB2l8"
      },
      "outputs": [],
      "source": [
        "for item in ['city', 'operator_name', 'profile_id']:\n",
        "    df_[item] = df_[item].fillna(df_[item].mode()[0])"
      ]
    },
    {
      "cell_type": "markdown",
      "metadata": {
        "id": "oOy43crNIzAE"
      },
      "source": [
        "**Выбросы в значимых числовых столбцах**"
      ]
    },
    {
      "cell_type": "code",
      "execution_count": null,
      "metadata": {
        "colab": {
          "base_uri": "https://localhost:8080/",
          "height": 334
        },
        "id": "lNGzQn4xNLzt",
        "outputId": "9715b499-8e8a-4548-b5c7-7b5b17e34d4a"
      },
      "outputs": [
        {
          "data": {
            "image/png": "[encoded data removed]",
            "text/plain": [
              "<Figure size 1080x360 with 1 Axes>"
            ]
          },
          "metadata": {
            "needs_background": "light"
          },
          "output_type": "display_data"
        }
      ],
      "source": [
        "plt.figure(figsize = (15, 5))\n",
        "sns.boxplot(x = 'ecpm_sma', data = df_)\n",
        "plt.show()"
      ]
    },
    {
      "cell_type": "code",
      "execution_count": null,
      "metadata": {
        "id": "Wmiv65vpdkW8"
      },
      "outputs": [],
      "source": [
        "q1  = df_.ecpm_sma.quantile(0.25)\n",
        "q3  = df_.ecpm_sma.quantile(0.75)\n",
        "iqr = q3 - q1  \n",
        "lower_bound  = q1 - (1.5 * iqr) \n",
        "higher_bound = q3 + (1.5 * iqr)\n",
        "\n",
        "# датафрейм без выбросов:\n",
        "df_new = df_.loc[df_.ecpm_sma.between(lower_bound, higher_bound, inclusive = 'both')]"
      ]
    },
    {
      "cell_type": "code",
      "execution_count": null,
      "metadata": {
        "colab": {
          "base_uri": "https://localhost:8080/"
        },
        "id": "Pk5Pbt7JiBHU",
        "outputId": "d793f48c-2e6e-434c-dcd9-3a6ebe9e61e6"
      },
      "outputs": [
        {
          "data": {
            "text/plain": [
              "count    860079.000000\n",
              "mean          3.147110\n",
              "std          15.973978\n",
              "min           0.001014\n",
              "25%           0.139942\n",
              "50%           0.480991\n",
              "75%           0.772006\n",
              "max         908.876160\n",
              "Name: ecpm_sma, dtype: float64"
            ]
          },
          "execution_count": 17,
          "metadata": {},
          "output_type": "execute_result"
        }
      ],
      "source": [
        "df_.ecpm_sma.describe() # с выбросами"
      ]
    },
    {
      "cell_type": "code",
      "execution_count": null,
      "metadata": {
        "colab": {
          "base_uri": "https://localhost:8080/"
        },
        "id": "hR015yoliQBM",
        "outputId": "c0069570-4002-4a7a-c30b-c063b3bedd65"
      },
      "outputs": [
        {
          "data": {
            "text/plain": [
              "count    715215.000000\n",
              "mean          0.394522\n",
              "std           0.338061\n",
              "min           0.001014\n",
              "25%           0.101163\n",
              "50%           0.398593\n",
              "75%           0.532774\n",
              "max           1.720088\n",
              "Name: ecpm_sma, dtype: float64"
            ]
          },
          "execution_count": 18,
          "metadata": {},
          "output_type": "execute_result"
        }
      ],
      "source": [
        "df_new.ecpm_sma.describe() # без выбросов"
      ]
    },
    {
      "cell_type": "code",
      "execution_count": null,
      "metadata": {
        "colab": {
          "base_uri": "https://localhost:8080/"
        },
        "id": "NfIJyf9Qi4Yz",
        "outputId": "eb95aeac-0386-4568-f503-bf789dba6a07"
      },
      "outputs": [
        {
          "name": "stdout",
          "output_type": "stream",
          "text": [
            "<class 'pandas.core.frame.DataFrame'>\n",
            "Int64Index: 715215 entries, 0 to 860074\n",
            "Data columns (total 18 columns):\n",
            " #   Column                   Non-Null Count   Dtype         \n",
            "---  ------                   --------------   -----         \n",
            " 0   profile_id               715215 non-null  object        \n",
            " 1   os_version               715215 non-null  object        \n",
            " 2   device_manufacturer      715215 non-null  object        \n",
            " 3   device_model             715215 non-null  object        \n",
            " 4   device_type              715215 non-null  object        \n",
            " 5   device_locale            715215 non-null  object        \n",
            " 6   event_name               715215 non-null  object        \n",
            " 7   event_datetime           715215 non-null  datetime64[ns]\n",
            " 8   event_timestamp          715215 non-null  int64         \n",
            " 9   event_receive_datetime   715215 non-null  datetime64[ns]\n",
            " 10  event_receive_timestamp  715215 non-null  int64         \n",
            " 11  connection_type          715215 non-null  object        \n",
            " 12  operator_name            715215 non-null  object        \n",
            " 13  country_iso_code         715215 non-null  object        \n",
            " 14  city                     715215 non-null  object        \n",
            " 15  ad_type                  715215 non-null  object        \n",
            " 16  view_index               715215 non-null  int64         \n",
            " 17  ecpm_sma                 715215 non-null  float64       \n",
            "dtypes: datetime64[ns](2), float64(1), int64(3), object(12)\n",
            "memory usage: 103.7+ MB\n"
          ]
        }
      ],
      "source": [
        "df_new.info() # good"
      ]
    },
    {
      "cell_type": "markdown",
      "metadata": {
        "id": "00vRafGljBx0"
      },
      "source": [
        "#**Анализ данных**"
      ]
    },
    {
      "cell_type": "markdown",
      "metadata": {
        "id": "QRfJr5t23pWE"
      },
      "source": [
        "Для **каждого** формата рекламы требуется:\n",
        "* построить распределение средних eCPM-ов юзеров;\n",
        "* построить распределение eCPM-ов по городам, версиям ОС;\n",
        "* построить распределение доходов по городам, версиям ОС\n",
        "* **eCPM** – доход за 1000 показов рекламы.\n",
        "---\n",
        "\n"
      ]
    },
    {
      "cell_type": "code",
      "execution_count": null,
      "metadata": {
        "id": "aawiz6HpBLs2"
      },
      "outputs": [],
      "source": [
        "def time_period(row):\n",
        "    # время просмотра рекламы в игре пользователем   \n",
        "    return row['event_receive_datetime'] - row['event_datetime']"
      ]
    },
    {
      "cell_type": "code",
      "execution_count": null,
      "metadata": {
        "colab": {
          "base_uri": "https://localhost:8080/",
          "height": 542
        },
        "id": "KxLbrpdO-Rhn",
        "outputId": "3edeeebe-f6b7-44d3-f4fd-16f304ce9d2d"
      },
      "outputs": [
        {
          "name": "stderr",
          "output_type": "stream",
          "text": [
            "/usr/local/lib/python3.7/dist-packages/ipykernel_launcher.py:3: SettingWithCopyWarning: \n",
            "A value is trying to be set on a copy of a slice from a DataFrame.\n",
            "Try using .loc[row_indexer,col_indexer] = value instead\n",
            "\n",
            "See the caveats in the documentation: https://pandas.pydata.org/pandas-docs/stable/user_guide/indexing.html#returning-a-view-versus-a-copy\n",
            "  This is separate from the ipykernel package so we can avoid doing imports until\n"
          ]
        },
        {
          "data": {
            "text/html": [
              "\n",
              "  <div id=\"df-bccf6295-4c07-4948-afd6-2aadcc64f6e8\">\n",
              "    <div class=\"colab-df-container\">\n",
              "      <div>\n",
              "<style scoped>\n",
              "    .dataframe tbody tr th:only-of-type {\n",
              "        vertical-align: middle;\n",
              "    }\n",
              "\n",
              "    .dataframe tbody tr th {\n",
              "        vertical-align: top;\n",
              "    }\n",
              "\n",
              "    .dataframe thead th {\n",
              "        text-align: right;\n",
              "    }\n",
              "</style>\n",
              "<table border=\"1\" class=\"dataframe\">\n",
              "  <thead>\n",
              "    <tr style=\"text-align: right;\">\n",
              "      <th></th>\n",
              "      <th>profile_id</th>\n",
              "      <th>os_version</th>\n",
              "      <th>device_manufacturer</th>\n",
              "      <th>device_model</th>\n",
              "      <th>device_type</th>\n",
              "      <th>device_locale</th>\n",
              "      <th>event_name</th>\n",
              "      <th>event_datetime</th>\n",
              "      <th>event_timestamp</th>\n",
              "      <th>event_receive_datetime</th>\n",
              "      <th>event_receive_timestamp</th>\n",
              "      <th>connection_type</th>\n",
              "      <th>operator_name</th>\n",
              "      <th>country_iso_code</th>\n",
              "      <th>city</th>\n",
              "      <th>ad_type</th>\n",
              "      <th>view_index</th>\n",
              "      <th>ecpm_sma</th>\n",
              "      <th>time_period</th>\n",
              "    </tr>\n",
              "  </thead>\n",
              "  <tbody>\n",
              "    <tr>\n",
              "      <th>151381</th>\n",
              "      <td>JMER7X7qTJR</td>\n",
              "      <td>11</td>\n",
              "      <td>Samsung</td>\n",
              "      <td>Galaxy A51</td>\n",
              "      <td>phone</td>\n",
              "      <td>en_US</td>\n",
              "      <td>c_ad_revenue</td>\n",
              "      <td>2022-02-07 00:14:38</td>\n",
              "      <td>1644182078</td>\n",
              "      <td>2022-02-07 00:13:23</td>\n",
              "      <td>1644182003</td>\n",
              "      <td>cell</td>\n",
              "      <td>AT&amp;T</td>\n",
              "      <td>US</td>\n",
              "      <td>New York</td>\n",
              "      <td>banner</td>\n",
              "      <td>0</td>\n",
              "      <td>0.315574</td>\n",
              "      <td>-1 days +23:58:45</td>\n",
              "    </tr>\n",
              "    <tr>\n",
              "      <th>732444</th>\n",
              "      <td>JMER7X7qTJR</td>\n",
              "      <td>11</td>\n",
              "      <td>Samsung</td>\n",
              "      <td>Galaxy A51</td>\n",
              "      <td>phone</td>\n",
              "      <td>en_US</td>\n",
              "      <td>c_ad_revenue</td>\n",
              "      <td>2022-02-06 23:50:42</td>\n",
              "      <td>1644180642</td>\n",
              "      <td>2022-02-06 23:49:27</td>\n",
              "      <td>1644180567</td>\n",
              "      <td>cell</td>\n",
              "      <td>AT&amp;T</td>\n",
              "      <td>US</td>\n",
              "      <td>New York</td>\n",
              "      <td>banner</td>\n",
              "      <td>0</td>\n",
              "      <td>0.449871</td>\n",
              "      <td>-1 days +23:58:45</td>\n",
              "    </tr>\n",
              "    <tr>\n",
              "      <th>732476</th>\n",
              "      <td>JMER7X7qTJR</td>\n",
              "      <td>11</td>\n",
              "      <td>Samsung</td>\n",
              "      <td>Galaxy A51</td>\n",
              "      <td>phone</td>\n",
              "      <td>en_US</td>\n",
              "      <td>c_ad_revenue</td>\n",
              "      <td>2022-02-06 23:56:27</td>\n",
              "      <td>1644180987</td>\n",
              "      <td>2022-02-06 23:55:12</td>\n",
              "      <td>1644180912</td>\n",
              "      <td>cell</td>\n",
              "      <td>AT&amp;T</td>\n",
              "      <td>US</td>\n",
              "      <td>New York</td>\n",
              "      <td>banner</td>\n",
              "      <td>0</td>\n",
              "      <td>0.442864</td>\n",
              "      <td>-1 days +23:58:45</td>\n",
              "    </tr>\n",
              "  </tbody>\n",
              "</table>\n",
              "</div>\n",
              "      <button class=\"colab-df-convert\" onclick=\"convertToInteractive('df-bccf6295-4c07-4948-afd6-2aadcc64f6e8')\"\n",
              "              title=\"Convert this dataframe to an interactive table.\"\n",
              "              style=\"display:none;\">\n",
              "        \n",
              "  <svg xmlns=\"http://www.w3.org/2000/svg\" height=\"24px\"viewBox=\"0 0 24 24\"\n",
              "       width=\"24px\">\n",
              "    <path d=\"M0 0h24v24H0V0z\" fill=\"none\"/>\n",
              "    <path d=\"M18.56 5.44l.94 2.06.94-2.06 2.06-.94-2.06-.94-.94-2.06-.94 2.06-2.06.94zm-11 1L8.5 8.5l.94-2.06 2.06-.94-2.06-.94L8.5 2.5l-.94 2.06-2.06.94zm10 10l.94 2.06.94-2.06 2.06-.94-2.06-.94-.94-2.06-.94 2.06-2.06.94z\"/><path d=\"M17.41 7.96l-1.37-1.37c-.4-.4-.92-.59-1.43-.59-.52 0-1.04.2-1.43.59L10.3 9.45l-7.72 7.72c-.78.78-.78 2.05 0 2.83L4 21.41c.39.39.9.59 1.41.59.51 0 1.02-.2 1.41-.59l7.78-7.78 2.81-2.81c.8-.78.8-2.07 0-2.86zM5.41 20L4 18.59l7.72-7.72 1.47 1.35L5.41 20z\"/>\n",
              "  </svg>\n",
              "      </button>\n",
              "      \n",
              "  <style>\n",
              "    .colab-df-container {\n",
              "      display:flex;\n",
              "      flex-wrap:wrap;\n",
              "      gap: 12px;\n",
              "    }\n",
              "\n",
              "    .colab-df-convert {\n",
              "      background-color: #E8F0FE;\n",
              "      border: none;\n",
              "      border-radius: 50%;\n",
              "      cursor: pointer;\n",
              "      display: none;\n",
              "      fill: #1967D2;\n",
              "      height: 32px;\n",
              "      padding: 0 0 0 0;\n",
              "      width: 32px;\n",
              "    }\n",
              "\n",
              "    .colab-df-convert:hover {\n",
              "      background-color: #E2EBFA;\n",
              "      box-shadow: 0px 1px 2px rgba(60, 64, 67, 0.3), 0px 1px 3px 1px rgba(60, 64, 67, 0.15);\n",
              "      fill: #174EA6;\n",
              "    }\n",
              "\n",
              "    [theme=dark] .colab-df-convert {\n",
              "      background-color: #3B4455;\n",
              "      fill: #D2E3FC;\n",
              "    }\n",
              "\n",
              "    [theme=dark] .colab-df-convert:hover {\n",
              "      background-color: #434B5C;\n",
              "      box-shadow: 0px 1px 3px 1px rgba(0, 0, 0, 0.15);\n",
              "      filter: drop-shadow(0px 1px 2px rgba(0, 0, 0, 0.3));\n",
              "      fill: #FFFFFF;\n",
              "    }\n",
              "  </style>\n",
              "\n",
              "      <script>\n",
              "        const buttonEl =\n",
              "          document.querySelector('#df-bccf6295-4c07-4948-afd6-2aadcc64f6e8 button.colab-df-convert');\n",
              "        buttonEl.style.display =\n",
              "          google.colab.kernel.accessAllowed ? 'block' : 'none';\n",
              "\n",
              "        async function convertToInteractive(key) {\n",
              "          const element = document.querySelector('#df-bccf6295-4c07-4948-afd6-2aadcc64f6e8');\n",
              "          const dataTable =\n",
              "            await google.colab.kernel.invokeFunction('convertToInteractive',\n",
              "                                                     [key], {});\n",
              "          if (!dataTable) return;\n",
              "\n",
              "          const docLinkHtml = 'Like what you see? Visit the ' +\n",
              "            '<a target=\"_blank\" href=https://colab.research.google.com/notebooks/data_table.ipynb>data table notebook</a>'\n",
              "            + ' to learn more about interactive tables.';\n",
              "          element.innerHTML = '';\n",
              "          dataTable['output_type'] = 'display_data';\n",
              "          await google.colab.output.renderOutput(dataTable, element);\n",
              "          const docLink = document.createElement('div');\n",
              "          docLink.innerHTML = docLinkHtml;\n",
              "          element.appendChild(docLink);\n",
              "        }\n",
              "      </script>\n",
              "    </div>\n",
              "  </div>\n",
              "  "
            ],
            "text/plain": [
              "         profile_id os_version device_manufacturer device_model device_type  \\\n",
              "151381  JMER7X7qTJR         11             Samsung   Galaxy A51       phone   \n",
              "732444  JMER7X7qTJR         11             Samsung   Galaxy A51       phone   \n",
              "732476  JMER7X7qTJR         11             Samsung   Galaxy A51       phone   \n",
              "\n",
              "       device_locale    event_name      event_datetime  event_timestamp  \\\n",
              "151381         en_US  c_ad_revenue 2022-02-07 00:14:38       1644182078   \n",
              "732444         en_US  c_ad_revenue 2022-02-06 23:50:42       1644180642   \n",
              "732476         en_US  c_ad_revenue 2022-02-06 23:56:27       1644180987   \n",
              "\n",
              "       event_receive_datetime  event_receive_timestamp connection_type  \\\n",
              "151381    2022-02-07 00:13:23               1644182003            cell   \n",
              "732444    2022-02-06 23:49:27               1644180567            cell   \n",
              "732476    2022-02-06 23:55:12               1644180912            cell   \n",
              "\n",
              "       operator_name country_iso_code      city ad_type  view_index  ecpm_sma  \\\n",
              "151381          AT&T               US  New York  banner           0  0.315574   \n",
              "732444          AT&T               US  New York  banner           0  0.449871   \n",
              "732476          AT&T               US  New York  banner           0  0.442864   \n",
              "\n",
              "             time_period  \n",
              "151381 -1 days +23:58:45  \n",
              "732444 -1 days +23:58:45  \n",
              "732476 -1 days +23:58:45  "
            ]
          },
          "metadata": {},
          "output_type": "display_data"
        },
        {
          "data": {
            "text/html": [
              "\n",
              "  <div id=\"df-793c80be-14da-4a61-bee0-ed9f5cf8c932\">\n",
              "    <div class=\"colab-df-container\">\n",
              "      <div>\n",
              "<style scoped>\n",
              "    .dataframe tbody tr th:only-of-type {\n",
              "        vertical-align: middle;\n",
              "    }\n",
              "\n",
              "    .dataframe tbody tr th {\n",
              "        vertical-align: top;\n",
              "    }\n",
              "\n",
              "    .dataframe thead th {\n",
              "        text-align: right;\n",
              "    }\n",
              "</style>\n",
              "<table border=\"1\" class=\"dataframe\">\n",
              "  <thead>\n",
              "    <tr style=\"text-align: right;\">\n",
              "      <th></th>\n",
              "      <th>profile_id</th>\n",
              "      <th>os_version</th>\n",
              "      <th>device_manufacturer</th>\n",
              "      <th>device_model</th>\n",
              "      <th>device_type</th>\n",
              "      <th>device_locale</th>\n",
              "      <th>event_name</th>\n",
              "      <th>event_datetime</th>\n",
              "      <th>event_timestamp</th>\n",
              "      <th>event_receive_datetime</th>\n",
              "      <th>event_receive_timestamp</th>\n",
              "      <th>connection_type</th>\n",
              "      <th>operator_name</th>\n",
              "      <th>country_iso_code</th>\n",
              "      <th>city</th>\n",
              "      <th>ad_type</th>\n",
              "      <th>view_index</th>\n",
              "      <th>ecpm_sma</th>\n",
              "      <th>time_period</th>\n",
              "    </tr>\n",
              "  </thead>\n",
              "  <tbody>\n",
              "    <tr>\n",
              "      <th>802349</th>\n",
              "      <td>JLM2bnoC8BU</td>\n",
              "      <td>10</td>\n",
              "      <td>Samsung</td>\n",
              "      <td>Galaxy S9+</td>\n",
              "      <td>phone</td>\n",
              "      <td>en_US</td>\n",
              "      <td>c_ad_revenue</td>\n",
              "      <td>2022-01-30 01:45:59</td>\n",
              "      <td>1643496359</td>\n",
              "      <td>2022-02-05 20:28:54</td>\n",
              "      <td>1644082134</td>\n",
              "      <td>wifi</td>\n",
              "      <td>AT&amp;T</td>\n",
              "      <td>US</td>\n",
              "      <td>New York</td>\n",
              "      <td>banner</td>\n",
              "      <td>0</td>\n",
              "      <td>0.324576</td>\n",
              "      <td>6 days 18:42:55</td>\n",
              "    </tr>\n",
              "    <tr>\n",
              "      <th>802348</th>\n",
              "      <td>JLM2bnoC8BU</td>\n",
              "      <td>10</td>\n",
              "      <td>Samsung</td>\n",
              "      <td>Galaxy S9+</td>\n",
              "      <td>phone</td>\n",
              "      <td>en_US</td>\n",
              "      <td>c_ad_revenue</td>\n",
              "      <td>2022-01-30 01:45:44</td>\n",
              "      <td>1643496344</td>\n",
              "      <td>2022-02-05 20:28:54</td>\n",
              "      <td>1644082134</td>\n",
              "      <td>wifi</td>\n",
              "      <td>AT&amp;T</td>\n",
              "      <td>US</td>\n",
              "      <td>New York</td>\n",
              "      <td>banner</td>\n",
              "      <td>0</td>\n",
              "      <td>0.327306</td>\n",
              "      <td>6 days 18:43:10</td>\n",
              "    </tr>\n",
              "    <tr>\n",
              "      <th>802347</th>\n",
              "      <td>JLM2bnoC8BU</td>\n",
              "      <td>10</td>\n",
              "      <td>Samsung</td>\n",
              "      <td>Galaxy S9+</td>\n",
              "      <td>phone</td>\n",
              "      <td>en_US</td>\n",
              "      <td>c_ad_revenue</td>\n",
              "      <td>2022-01-30 01:45:29</td>\n",
              "      <td>1643496329</td>\n",
              "      <td>2022-02-05 20:28:54</td>\n",
              "      <td>1644082134</td>\n",
              "      <td>wifi</td>\n",
              "      <td>AT&amp;T</td>\n",
              "      <td>US</td>\n",
              "      <td>New York</td>\n",
              "      <td>banner</td>\n",
              "      <td>0</td>\n",
              "      <td>0.330340</td>\n",
              "      <td>6 days 18:43:25</td>\n",
              "    </tr>\n",
              "  </tbody>\n",
              "</table>\n",
              "</div>\n",
              "      <button class=\"colab-df-convert\" onclick=\"convertToInteractive('df-793c80be-14da-4a61-bee0-ed9f5cf8c932')\"\n",
              "              title=\"Convert this dataframe to an interactive table.\"\n",
              "              style=\"display:none;\">\n",
              "        \n",
              "  <svg xmlns=\"http://www.w3.org/2000/svg\" height=\"24px\"viewBox=\"0 0 24 24\"\n",
              "       width=\"24px\">\n",
              "    <path d=\"M0 0h24v24H0V0z\" fill=\"none\"/>\n",
              "    <path d=\"M18.56 5.44l.94 2.06.94-2.06 2.06-.94-2.06-.94-.94-2.06-.94 2.06-2.06.94zm-11 1L8.5 8.5l.94-2.06 2.06-.94-2.06-.94L8.5 2.5l-.94 2.06-2.06.94zm10 10l.94 2.06.94-2.06 2.06-.94-2.06-.94-.94-2.06-.94 2.06-2.06.94z\"/><path d=\"M17.41 7.96l-1.37-1.37c-.4-.4-.92-.59-1.43-.59-.52 0-1.04.2-1.43.59L10.3 9.45l-7.72 7.72c-.78.78-.78 2.05 0 2.83L4 21.41c.39.39.9.59 1.41.59.51 0 1.02-.2 1.41-.59l7.78-7.78 2.81-2.81c.8-.78.8-2.07 0-2.86zM5.41 20L4 18.59l7.72-7.72 1.47 1.35L5.41 20z\"/>\n",
              "  </svg>\n",
              "      </button>\n",
              "      \n",
              "  <style>\n",
              "    .colab-df-container {\n",
              "      display:flex;\n",
              "      flex-wrap:wrap;\n",
              "      gap: 12px;\n",
              "    }\n",
              "\n",
              "    .colab-df-convert {\n",
              "      background-color: #E8F0FE;\n",
              "      border: none;\n",
              "      border-radius: 50%;\n",
              "      cursor: pointer;\n",
              "      display: none;\n",
              "      fill: #1967D2;\n",
              "      height: 32px;\n",
              "      padding: 0 0 0 0;\n",
              "      width: 32px;\n",
              "    }\n",
              "\n",
              "    .colab-df-convert:hover {\n",
              "      background-color: #E2EBFA;\n",
              "      box-shadow: 0px 1px 2px rgba(60, 64, 67, 0.3), 0px 1px 3px 1px rgba(60, 64, 67, 0.15);\n",
              "      fill: #174EA6;\n",
              "    }\n",
              "\n",
              "    [theme=dark] .colab-df-convert {\n",
              "      background-color: #3B4455;\n",
              "      fill: #D2E3FC;\n",
              "    }\n",
              "\n",
              "    [theme=dark] .colab-df-convert:hover {\n",
              "      background-color: #434B5C;\n",
              "      box-shadow: 0px 1px 3px 1px rgba(0, 0, 0, 0.15);\n",
              "      filter: drop-shadow(0px 1px 2px rgba(0, 0, 0, 0.3));\n",
              "      fill: #FFFFFF;\n",
              "    }\n",
              "  </style>\n",
              "\n",
              "      <script>\n",
              "        const buttonEl =\n",
              "          document.querySelector('#df-793c80be-14da-4a61-bee0-ed9f5cf8c932 button.colab-df-convert');\n",
              "        buttonEl.style.display =\n",
              "          google.colab.kernel.accessAllowed ? 'block' : 'none';\n",
              "\n",
              "        async function convertToInteractive(key) {\n",
              "          const element = document.querySelector('#df-793c80be-14da-4a61-bee0-ed9f5cf8c932');\n",
              "          const dataTable =\n",
              "            await google.colab.kernel.invokeFunction('convertToInteractive',\n",
              "                                                     [key], {});\n",
              "          if (!dataTable) return;\n",
              "\n",
              "          const docLinkHtml = 'Like what you see? Visit the ' +\n",
              "            '<a target=\"_blank\" href=https://colab.research.google.com/notebooks/data_table.ipynb>data table notebook</a>'\n",
              "            + ' to learn more about interactive tables.';\n",
              "          element.innerHTML = '';\n",
              "          dataTable['output_type'] = 'display_data';\n",
              "          await google.colab.output.renderOutput(dataTable, element);\n",
              "          const docLink = document.createElement('div');\n",
              "          docLink.innerHTML = docLinkHtml;\n",
              "          element.appendChild(docLink);\n",
              "        }\n",
              "      </script>\n",
              "    </div>\n",
              "  </div>\n",
              "  "
            ],
            "text/plain": [
              "         profile_id os_version device_manufacturer device_model device_type  \\\n",
              "802349  JLM2bnoC8BU         10             Samsung   Galaxy S9+       phone   \n",
              "802348  JLM2bnoC8BU         10             Samsung   Galaxy S9+       phone   \n",
              "802347  JLM2bnoC8BU         10             Samsung   Galaxy S9+       phone   \n",
              "\n",
              "       device_locale    event_name      event_datetime  event_timestamp  \\\n",
              "802349         en_US  c_ad_revenue 2022-01-30 01:45:59       1643496359   \n",
              "802348         en_US  c_ad_revenue 2022-01-30 01:45:44       1643496344   \n",
              "802347         en_US  c_ad_revenue 2022-01-30 01:45:29       1643496329   \n",
              "\n",
              "       event_receive_datetime  event_receive_timestamp connection_type  \\\n",
              "802349    2022-02-05 20:28:54               1644082134            wifi   \n",
              "802348    2022-02-05 20:28:54               1644082134            wifi   \n",
              "802347    2022-02-05 20:28:54               1644082134            wifi   \n",
              "\n",
              "       operator_name country_iso_code      city ad_type  view_index  ecpm_sma  \\\n",
              "802349          AT&T               US  New York  banner           0  0.324576   \n",
              "802348          AT&T               US  New York  banner           0  0.327306   \n",
              "802347          AT&T               US  New York  banner           0  0.330340   \n",
              "\n",
              "           time_period  \n",
              "802349 6 days 18:42:55  \n",
              "802348 6 days 18:43:10  \n",
              "802347 6 days 18:43:25  "
            ]
          },
          "metadata": {},
          "output_type": "display_data"
        }
      ],
      "source": [
        "# добавим новый столбец со временем, затраченным пользователем на просмотр рекламы:\n",
        "\n",
        "df_new['time_period'] = df_new.apply(time_period, axis = 1) \n",
        "\n",
        "display(df_new.sort_values('time_period', ascending = True).head(3))\n",
        "display(df_new.sort_values('time_period', ascending = True).tail(3))"
      ]
    },
    {
      "cell_type": "code",
      "execution_count": null,
      "metadata": {
        "colab": {
          "base_uri": "https://localhost:8080/"
        },
        "id": "xnKGk74NUGm9",
        "outputId": "73c13415-f9bb-4735-a14a-18acf769a373"
      },
      "outputs": [
        {
          "data": {
            "text/plain": [
              "(715215, 19)"
            ]
          },
          "execution_count": 22,
          "metadata": {},
          "output_type": "execute_result"
        }
      ],
      "source": [
        "df_new.shape"
      ]
    },
    {
      "cell_type": "code",
      "execution_count": null,
      "metadata": {
        "colab": {
          "base_uri": "https://localhost:8080/"
        },
        "id": "XcUS7bcGQr0N",
        "outputId": "ba8981cb-7f50-4de9-9e3f-aedb67de1063"
      },
      "outputs": [
        {
          "data": {
            "text/plain": [
              "(705854, 19)"
            ]
          },
          "execution_count": 23,
          "metadata": {},
          "output_type": "execute_result"
        }
      ],
      "source": [
        "# уберем из датафрейма нефизичные отрицательные временные промежутки:\n",
        "df_new = df_new.loc[df_new.time_period.dt.days != -1]\n",
        "df_new.shape\n",
        "\n",
        "# удалили, таким образом, 9361 строк с отрицательным временем просмотра рекламы"
      ]
    },
    {
      "cell_type": "code",
      "execution_count": null,
      "metadata": {
        "id": "BNVoV_9ePE0X"
      },
      "outputs": [],
      "source": []
    },
    {
      "cell_type": "markdown",
      "metadata": {
        "id": "L3G5yeAf6LHj"
      },
      "source": [
        "**Число уникальных пользователей, которые смотрели рекламу, в зависимости от её формата и затраченное на её просмотр время:**"
      ]
    },
    {
      "cell_type": "code",
      "execution_count": null,
      "metadata": {
        "colab": {
          "base_uri": "https://localhost:8080/",
          "height": 178
        },
        "id": "O7JF17KSGCfc",
        "outputId": "170b512e-bf90-4f07-8065-fa95c7e161c9"
      },
      "outputs": [
        {
          "data": {
            "text/html": [
              "\n",
              "  <div id=\"df-e9101994-d9c1-4c3e-9310-a85ef4e14ff9\">\n",
              "    <div class=\"colab-df-container\">\n",
              "      <div>\n",
              "<style scoped>\n",
              "    .dataframe tbody tr th:only-of-type {\n",
              "        vertical-align: middle;\n",
              "    }\n",
              "\n",
              "    .dataframe tbody tr th {\n",
              "        vertical-align: top;\n",
              "    }\n",
              "\n",
              "    .dataframe thead th {\n",
              "        text-align: right;\n",
              "    }\n",
              "</style>\n",
              "<table border=\"1\" class=\"dataframe\">\n",
              "  <thead>\n",
              "    <tr style=\"text-align: right;\">\n",
              "      <th></th>\n",
              "      <th>ad_type</th>\n",
              "      <th>profile_id</th>\n",
              "      <th>time_period</th>\n",
              "    </tr>\n",
              "  </thead>\n",
              "  <tbody>\n",
              "    <tr>\n",
              "      <th>0</th>\n",
              "      <td>banner</td>\n",
              "      <td>3030</td>\n",
              "      <td>4942 days 01:53:29</td>\n",
              "    </tr>\n",
              "    <tr>\n",
              "      <th>1</th>\n",
              "      <td>int</td>\n",
              "      <td>6</td>\n",
              "      <td>1 days 11:17:25</td>\n",
              "    </tr>\n",
              "    <tr>\n",
              "      <th>2</th>\n",
              "      <td>rv</td>\n",
              "      <td>1</td>\n",
              "      <td>0 days 00:03:38</td>\n",
              "    </tr>\n",
              "  </tbody>\n",
              "</table>\n",
              "</div>\n",
              "      <button class=\"colab-df-convert\" onclick=\"convertToInteractive('df-e9101994-d9c1-4c3e-9310-a85ef4e14ff9')\"\n",
              "              title=\"Convert this dataframe to an interactive table.\"\n",
              "              style=\"display:none;\">\n",
              "        \n",
              "  <svg xmlns=\"http://www.w3.org/2000/svg\" height=\"24px\"viewBox=\"0 0 24 24\"\n",
              "       width=\"24px\">\n",
              "    <path d=\"M0 0h24v24H0V0z\" fill=\"none\"/>\n",
              "    <path d=\"M18.56 5.44l.94 2.06.94-2.06 2.06-.94-2.06-.94-.94-2.06-.94 2.06-2.06.94zm-11 1L8.5 8.5l.94-2.06 2.06-.94-2.06-.94L8.5 2.5l-.94 2.06-2.06.94zm10 10l.94 2.06.94-2.06 2.06-.94-2.06-.94-.94-2.06-.94 2.06-2.06.94z\"/><path d=\"M17.41 7.96l-1.37-1.37c-.4-.4-.92-.59-1.43-.59-.52 0-1.04.2-1.43.59L10.3 9.45l-7.72 7.72c-.78.78-.78 2.05 0 2.83L4 21.41c.39.39.9.59 1.41.59.51 0 1.02-.2 1.41-.59l7.78-7.78 2.81-2.81c.8-.78.8-2.07 0-2.86zM5.41 20L4 18.59l7.72-7.72 1.47 1.35L5.41 20z\"/>\n",
              "  </svg>\n",
              "      </button>\n",
              "      \n",
              "  <style>\n",
              "    .colab-df-container {\n",
              "      display:flex;\n",
              "      flex-wrap:wrap;\n",
              "      gap: 12px;\n",
              "    }\n",
              "\n",
              "    .colab-df-convert {\n",
              "      background-color: #E8F0FE;\n",
              "      border: none;\n",
              "      border-radius: 50%;\n",
              "      cursor: pointer;\n",
              "      display: none;\n",
              "      fill: #1967D2;\n",
              "      height: 32px;\n",
              "      padding: 0 0 0 0;\n",
              "      width: 32px;\n",
              "    }\n",
              "\n",
              "    .colab-df-convert:hover {\n",
              "      background-color: #E2EBFA;\n",
              "      box-shadow: 0px 1px 2px rgba(60, 64, 67, 0.3), 0px 1px 3px 1px rgba(60, 64, 67, 0.15);\n",
              "      fill: #174EA6;\n",
              "    }\n",
              "\n",
              "    [theme=dark] .colab-df-convert {\n",
              "      background-color: #3B4455;\n",
              "      fill: #D2E3FC;\n",
              "    }\n",
              "\n",
              "    [theme=dark] .colab-df-convert:hover {\n",
              "      background-color: #434B5C;\n",
              "      box-shadow: 0px 1px 3px 1px rgba(0, 0, 0, 0.15);\n",
              "      filter: drop-shadow(0px 1px 2px rgba(0, 0, 0, 0.3));\n",
              "      fill: #FFFFFF;\n",
              "    }\n",
              "  </style>\n",
              "\n",
              "      <script>\n",
              "        const buttonEl =\n",
              "          document.querySelector('#df-e9101994-d9c1-4c3e-9310-a85ef4e14ff9 button.colab-df-convert');\n",
              "        buttonEl.style.display =\n",
              "          google.colab.kernel.accessAllowed ? 'block' : 'none';\n",
              "\n",
              "        async function convertToInteractive(key) {\n",
              "          const element = document.querySelector('#df-e9101994-d9c1-4c3e-9310-a85ef4e14ff9');\n",
              "          const dataTable =\n",
              "            await google.colab.kernel.invokeFunction('convertToInteractive',\n",
              "                                                     [key], {});\n",
              "          if (!dataTable) return;\n",
              "\n",
              "          const docLinkHtml = 'Like what you see? Visit the ' +\n",
              "            '<a target=\"_blank\" href=https://colab.research.google.com/notebooks/data_table.ipynb>data table notebook</a>'\n",
              "            + ' to learn more about interactive tables.';\n",
              "          element.innerHTML = '';\n",
              "          dataTable['output_type'] = 'display_data';\n",
              "          await google.colab.output.renderOutput(dataTable, element);\n",
              "          const docLink = document.createElement('div');\n",
              "          docLink.innerHTML = docLinkHtml;\n",
              "          element.appendChild(docLink);\n",
              "        }\n",
              "      </script>\n",
              "    </div>\n",
              "  </div>\n",
              "  "
            ],
            "text/plain": [
              "  ad_type  profile_id        time_period\n",
              "0  banner        3030 4942 days 01:53:29\n",
              "1     int           6    1 days 11:17:25\n",
              "2      rv           1    0 days 00:03:38"
            ]
          },
          "metadata": {},
          "output_type": "display_data"
        },
        {
          "name": "stdout",
          "output_type": "stream",
          "text": [
            "\n",
            "Суммарное время, затраченное всеми пользователями на данную игру, составило целых 4942 дня.\n"
          ]
        }
      ],
      "source": [
        "display(df_new.groupby('ad_type').agg({'profile_id': 'nunique', 'time_period': 'sum'}).reset_index())\n",
        "\n",
        "print(\"\\nСуммарное время, затраченное всеми пользователями на данную игру, составило \"\n",
        "      f\"целых {df_new.groupby('ad_type')['time_period'].sum()[0].days} дня.\")"
      ]
    },
    {
      "cell_type": "markdown",
      "metadata": {
        "id": "E0_oRsJLZdMN"
      },
      "source": [
        "В итоге видим, что пользователи **не** особо интересовались **полноэкранной** рекламой (суммарно всего 6 человек потратило менее двух дней времени на её просмотр), и **всего один (!)** пользователь потратил **менее 5 минут (!)** своего времени на просмотр рекламы по желанию.\n",
        "\n",
        "* Таким образом, пользователи данной мобильной игры совершенно **не заинтересованы** в просмотре рекламы формата **\"rv\"**.\n",
        "* Видимо, их не интересуют те игровые монетки или др. ресурсы, которые они могут получить за её просмотр.\n",
        "* **Вывод:** данный тип рекламы желательно полностью заменить/вовсе убрать, либо изменить тип игровой монетизации за просмотр.\n",
        "\n",
        "---"
      ]
    },
    {
      "cell_type": "markdown",
      "metadata": {
        "id": "-9U0tr8VWUwr"
      },
      "source": [
        "Иными словами, это **негативно** скажется на доходе игры от просмотра полноэкранной рекламы и рекламы по желанию.\n",
        "\n",
        "Рассмотрим эти доходы:"
      ]
    },
    {
      "cell_type": "code",
      "execution_count": null,
      "metadata": {
        "colab": {
          "base_uri": "https://localhost:8080/",
          "height": 348
        },
        "id": "CxOYSHbXZcr1",
        "outputId": "079afbfe-3bf7-46d7-8e94-3e9c8950b365"
      },
      "outputs": [
        {
          "data": {
            "image/png": "[encoded data removed]",
            "text/plain": [
              "<Figure size 432x288 with 1 Axes>"
            ]
          },
          "metadata": {
            "needs_background": "light"
          },
          "output_type": "display_data"
        },
        {
          "name": "stdout",
          "output_type": "stream",
          "text": [
            "\n",
            "Действительно, основной доход разработчики игры получают только от неотключаемой рекламы в виде баннера.\n"
          ]
        }
      ],
      "source": [
        "df_new.groupby('ad_type')['ecpm_sma'].sum().plot.bar(logy = True, rot = 0)\n",
        "plt.xlabel('тип рекламы')\n",
        "plt.ylabel('суммарный доход за \\n1000 показов рекламы')\n",
        "plt.title('Доходы от формата рекламы')\n",
        "plt.show()\n",
        "print('\\nДействительно, основной доход разработчики игры получают только от неотключаемой рекламы в виде баннера.')"
      ]
    },
    {
      "cell_type": "code",
      "execution_count": null,
      "metadata": {
        "id": "kBbQprBTzKeu"
      },
      "outputs": [],
      "source": [
        " "
      ]
    },
    {
      "cell_type": "markdown",
      "metadata": {
        "id": "AJiEOpwWjsyV"
      },
      "source": [
        "**Распределение доходов eCPM по городам**"
      ]
    },
    {
      "cell_type": "code",
      "execution_count": null,
      "metadata": {
        "colab": {
          "base_uri": "https://localhost:8080/"
        },
        "id": "ocAK6jItELw6",
        "outputId": "2d5dc298-e6b9-49d2-84cb-8a0bc168ddf0"
      },
      "outputs": [
        {
          "data": {
            "text/plain": [
              "array(['US'], dtype=object)"
            ]
          },
          "execution_count": 26,
          "metadata": {},
          "output_type": "execute_result"
        }
      ],
      "source": [
        "df_new.country_iso_code.unique() # т.е. все представленные города находятся в США"
      ]
    },
    {
      "cell_type": "code",
      "execution_count": null,
      "metadata": {
        "colab": {
          "base_uri": "https://localhost:8080/",
          "height": 363
        },
        "id": "_9jPwljChhTc",
        "outputId": "39df6d37-f7e7-4900-be1b-36546b72ec1c"
      },
      "outputs": [
        {
          "data": {
            "text/html": [
              "<style type=\"text/css\">\n",
              "#T_ef150_row0_col2 {\n",
              "  background-color: #800026;\n",
              "  color: #f1f1f1;\n",
              "}\n",
              "#T_ef150_row1_col2 {\n",
              "  background-color: #fffcc5;\n",
              "  color: #000000;\n",
              "}\n",
              "#T_ef150_row2_col2 {\n",
              "  background-color: #fffdc6;\n",
              "  color: #000000;\n",
              "}\n",
              "#T_ef150_row3_col2, #T_ef150_row4_col2 {\n",
              "  background-color: #fffec9;\n",
              "  color: #000000;\n",
              "}\n",
              "#T_ef150_row5_col2, #T_ef150_row6_col2, #T_ef150_row7_col2, #T_ef150_row8_col2, #T_ef150_row9_col2 {\n",
              "  background-color: #ffffcc;\n",
              "  color: #000000;\n",
              "}\n",
              "</style>\n",
              "<table id=\"T_ef150_\" class=\"dataframe\">\n",
              "  <thead>\n",
              "    <tr>\n",
              "      <th class=\"blank level0\" >&nbsp;</th>\n",
              "      <th class=\"col_heading level0 col0\" >ad_type</th>\n",
              "      <th class=\"col_heading level0 col1\" >city</th>\n",
              "      <th class=\"col_heading level0 col2\" >ecpm_sma</th>\n",
              "    </tr>\n",
              "  </thead>\n",
              "  <tbody>\n",
              "    <tr>\n",
              "      <th id=\"T_ef150_level0_row0\" class=\"row_heading level0 row0\" >0</th>\n",
              "      <td id=\"T_ef150_row0_col0\" class=\"data row0 col0\" >banner</td>\n",
              "      <td id=\"T_ef150_row0_col1\" class=\"data row0 col1\" >New York</td>\n",
              "      <td id=\"T_ef150_row0_col2\" class=\"data row0 col2\" >111308.116193</td>\n",
              "    </tr>\n",
              "    <tr>\n",
              "      <th id=\"T_ef150_level0_row1\" class=\"row_heading level0 row1\" >1</th>\n",
              "      <td id=\"T_ef150_row1_col0\" class=\"data row1 col0\" >banner</td>\n",
              "      <td id=\"T_ef150_row1_col1\" class=\"data row1 col1\" >Minneapolis</td>\n",
              "      <td id=\"T_ef150_row1_col2\" class=\"data row1 col2\" >4574.704903</td>\n",
              "    </tr>\n",
              "    <tr>\n",
              "      <th id=\"T_ef150_level0_row2\" class=\"row_heading level0 row2\" >2</th>\n",
              "      <td id=\"T_ef150_row2_col0\" class=\"data row2 col0\" >banner</td>\n",
              "      <td id=\"T_ef150_row2_col1\" class=\"data row2 col1\" >Springfield</td>\n",
              "      <td id=\"T_ef150_row2_col2\" class=\"data row2 col2\" >4126.726945</td>\n",
              "    </tr>\n",
              "    <tr>\n",
              "      <th id=\"T_ef150_level0_row3\" class=\"row_heading level0 row3\" >3</th>\n",
              "      <td id=\"T_ef150_row3_col0\" class=\"data row3 col0\" >banner</td>\n",
              "      <td id=\"T_ef150_row3_col1\" class=\"data row3 col1\" >Charlotte</td>\n",
              "      <td id=\"T_ef150_row3_col2\" class=\"data row3 col2\" >3559.444333</td>\n",
              "    </tr>\n",
              "    <tr>\n",
              "      <th id=\"T_ef150_level0_row4\" class=\"row_heading level0 row4\" >4</th>\n",
              "      <td id=\"T_ef150_row4_col0\" class=\"data row4 col0\" >banner</td>\n",
              "      <td id=\"T_ef150_row4_col1\" class=\"data row4 col1\" >Houston</td>\n",
              "      <td id=\"T_ef150_row4_col2\" class=\"data row4 col2\" >3189.551805</td>\n",
              "    </tr>\n",
              "    <tr>\n",
              "      <th id=\"T_ef150_level0_row5\" class=\"row_heading level0 row5\" >5</th>\n",
              "      <td id=\"T_ef150_row5_col0\" class=\"data row5 col0\" >banner</td>\n",
              "      <td id=\"T_ef150_row5_col1\" class=\"data row5 col1\" >Indianapolis</td>\n",
              "      <td id=\"T_ef150_row5_col2\" class=\"data row5 col2\" >2513.948125</td>\n",
              "    </tr>\n",
              "    <tr>\n",
              "      <th id=\"T_ef150_level0_row6\" class=\"row_heading level0 row6\" >6</th>\n",
              "      <td id=\"T_ef150_row6_col0\" class=\"data row6 col0\" >banner</td>\n",
              "      <td id=\"T_ef150_row6_col1\" class=\"data row6 col1\" >Columbus</td>\n",
              "      <td id=\"T_ef150_row6_col2\" class=\"data row6 col2\" >2456.399298</td>\n",
              "    </tr>\n",
              "    <tr>\n",
              "      <th id=\"T_ef150_level0_row7\" class=\"row_heading level0 row7\" >7</th>\n",
              "      <td id=\"T_ef150_row7_col0\" class=\"data row7 col0\" >banner</td>\n",
              "      <td id=\"T_ef150_row7_col1\" class=\"data row7 col1\" >Denver</td>\n",
              "      <td id=\"T_ef150_row7_col2\" class=\"data row7 col2\" >2382.761492</td>\n",
              "    </tr>\n",
              "    <tr>\n",
              "      <th id=\"T_ef150_level0_row8\" class=\"row_heading level0 row8\" >8</th>\n",
              "      <td id=\"T_ef150_row8_col0\" class=\"data row8 col0\" >banner</td>\n",
              "      <td id=\"T_ef150_row8_col1\" class=\"data row8 col1\" >Dallas</td>\n",
              "      <td id=\"T_ef150_row8_col2\" class=\"data row8 col2\" >2372.886163</td>\n",
              "    </tr>\n",
              "    <tr>\n",
              "      <th id=\"T_ef150_level0_row9\" class=\"row_heading level0 row9\" >9</th>\n",
              "      <td id=\"T_ef150_row9_col0\" class=\"data row9 col0\" >banner</td>\n",
              "      <td id=\"T_ef150_row9_col1\" class=\"data row9 col1\" >Chicago</td>\n",
              "      <td id=\"T_ef150_row9_col2\" class=\"data row9 col2\" >2285.598837</td>\n",
              "    </tr>\n",
              "  </tbody>\n",
              "</table>\n"
            ],
            "text/plain": [
              "<pandas.io.formats.style.Styler at 0x7f32c3f82a50>"
            ]
          },
          "execution_count": 27,
          "metadata": {},
          "output_type": "execute_result"
        }
      ],
      "source": [
        "df_city = df_new.groupby(['ad_type', 'city']).agg({'ecpm_sma': 'sum'}).sort_values('ecpm_sma', ascending = False).reset_index()\n",
        "\n",
        "df_city.head(10).style.background_gradient(cmap = 'YlOrRd')"
      ]
    },
    {
      "cell_type": "code",
      "execution_count": null,
      "metadata": {
        "colab": {
          "base_uri": "https://localhost:8080/",
          "height": 475
        },
        "id": "At8T1RvmkTWi",
        "outputId": "84755e0d-2c98-4b1d-8383-32ebb69f46ef"
      },
      "outputs": [
        {
          "data": {
            "image/png": "[encoded data removed]",
            "text/plain": [
              "<Figure size 1224x360 with 1 Axes>"
            ]
          },
          "metadata": {
            "needs_background": "light"
          },
          "output_type": "display_data"
        },
        {
          "name": "stdout",
          "output_type": "stream",
          "text": [
            "На первом месте c большим отрывом по доходам от рекламы формата \"banner\" занимает город Нью-Йорк.\n"
          ]
        }
      ],
      "source": [
        "df_city.loc[df_city.ad_type == 'banner'].head(50).\\\n",
        "plot.bar(x = 'city', y = 'ecpm_sma', figsize = (17,5), logy = True,\n",
        "         xlabel = 'название города',\n",
        "         ylabel = 'суммарный доход за \\n1000 показов рекламы',\n",
        "         title  = 'Топ-50 городов по доходам от просмотра рекламы формата \"banner\" в мобильной игре')\n",
        "plt.show()\n",
        "\n",
        "print('На первом месте c большим отрывом по доходам от рекламы формата \"banner\" занимает город Нью-Йорк.')"
      ]
    },
    {
      "cell_type": "code",
      "execution_count": null,
      "metadata": {
        "colab": {
          "base_uri": "https://localhost:8080/",
          "height": 366
        },
        "id": "L4gKK0DS-UXu",
        "outputId": "b9f2f10d-bcc9-4eca-c5ae-b2abae067707"
      },
      "outputs": [
        {
          "data": {
            "image/png": "[encoded data removed]",
            "text/plain": [
              "<Figure size 432x288 with 1 Axes>"
            ]
          },
          "metadata": {
            "needs_background": "light"
          },
          "output_type": "display_data"
        },
        {
          "name": "stdout",
          "output_type": "stream",
          "text": [
            "Видим, что город Нью-Йорк снова лидирует по доходам от полноэкранной рекламы в игре.\n"
          ]
        }
      ],
      "source": [
        "df_city.loc[df_city.ad_type == 'int'].plot.bar(x = 'city', y = 'ecpm_sma', rot = 30)\n",
        "plt.xlabel('название города')\n",
        "plt.ylabel('суммарный доход за \\n1000 показов рекламы')\n",
        "plt.title('Доходы от рекламы формата \"int\" по городам')\n",
        "plt.show()\n",
        "\n",
        "print('Видим, что город Нью-Йорк снова лидирует по доходам от полноэкранной рекламы в игре.')"
      ]
    },
    {
      "cell_type": "code",
      "execution_count": null,
      "metadata": {
        "colab": {
          "base_uri": "https://localhost:8080/",
          "height": 343
        },
        "id": "lihdxTE7ap11",
        "outputId": "4682235c-1e14-4d57-894a-ad1c0ce6a438"
      },
      "outputs": [
        {
          "name": "stdout",
          "output_type": "stream",
          "text": [
            "График для формата рекламы \"rv\" строить не будем ввиду получения компанией рекламного дохода \n",
            "лишь от единственного пользователя, который смотрел рекламу по своему желанию.\n",
            "\n"
          ]
        },
        {
          "data": {
            "text/html": [
              "\n",
              "  <div id=\"df-257b1aec-4409-46bc-ada6-fb08aa56a12c\">\n",
              "    <div class=\"colab-df-container\">\n",
              "      <div>\n",
              "<style scoped>\n",
              "    .dataframe tbody tr th:only-of-type {\n",
              "        vertical-align: middle;\n",
              "    }\n",
              "\n",
              "    .dataframe tbody tr th {\n",
              "        vertical-align: top;\n",
              "    }\n",
              "\n",
              "    .dataframe thead th {\n",
              "        text-align: right;\n",
              "    }\n",
              "</style>\n",
              "<table border=\"1\" class=\"dataframe\">\n",
              "  <thead>\n",
              "    <tr style=\"text-align: right;\">\n",
              "      <th></th>\n",
              "      <th>ad_type</th>\n",
              "      <th>city</th>\n",
              "      <th>ecpm_sma</th>\n",
              "    </tr>\n",
              "  </thead>\n",
              "  <tbody>\n",
              "    <tr>\n",
              "      <th>727</th>\n",
              "      <td>rv</td>\n",
              "      <td>New York</td>\n",
              "      <td>2.462408</td>\n",
              "    </tr>\n",
              "  </tbody>\n",
              "</table>\n",
              "</div>\n",
              "      <button class=\"colab-df-convert\" onclick=\"convertToInteractive('df-257b1aec-4409-46bc-ada6-fb08aa56a12c')\"\n",
              "              title=\"Convert this dataframe to an interactive table.\"\n",
              "              style=\"display:none;\">\n",
              "        \n",
              "  <svg xmlns=\"http://www.w3.org/2000/svg\" height=\"24px\"viewBox=\"0 0 24 24\"\n",
              "       width=\"24px\">\n",
              "    <path d=\"M0 0h24v24H0V0z\" fill=\"none\"/>\n",
              "    <path d=\"M18.56 5.44l.94 2.06.94-2.06 2.06-.94-2.06-.94-.94-2.06-.94 2.06-2.06.94zm-11 1L8.5 8.5l.94-2.06 2.06-.94-2.06-.94L8.5 2.5l-.94 2.06-2.06.94zm10 10l.94 2.06.94-2.06 2.06-.94-2.06-.94-.94-2.06-.94 2.06-2.06.94z\"/><path d=\"M17.41 7.96l-1.37-1.37c-.4-.4-.92-.59-1.43-.59-.52 0-1.04.2-1.43.59L10.3 9.45l-7.72 7.72c-.78.78-.78 2.05 0 2.83L4 21.41c.39.39.9.59 1.41.59.51 0 1.02-.2 1.41-.59l7.78-7.78 2.81-2.81c.8-.78.8-2.07 0-2.86zM5.41 20L4 18.59l7.72-7.72 1.47 1.35L5.41 20z\"/>\n",
              "  </svg>\n",
              "      </button>\n",
              "      \n",
              "  <style>\n",
              "    .colab-df-container {\n",
              "      display:flex;\n",
              "      flex-wrap:wrap;\n",
              "      gap: 12px;\n",
              "    }\n",
              "\n",
              "    .colab-df-convert {\n",
              "      background-color: #E8F0FE;\n",
              "      border: none;\n",
              "      border-radius: 50%;\n",
              "      cursor: pointer;\n",
              "      display: none;\n",
              "      fill: #1967D2;\n",
              "      height: 32px;\n",
              "      padding: 0 0 0 0;\n",
              "      width: 32px;\n",
              "    }\n",
              "\n",
              "    .colab-df-convert:hover {\n",
              "      background-color: #E2EBFA;\n",
              "      box-shadow: 0px 1px 2px rgba(60, 64, 67, 0.3), 0px 1px 3px 1px rgba(60, 64, 67, 0.15);\n",
              "      fill: #174EA6;\n",
              "    }\n",
              "\n",
              "    [theme=dark] .colab-df-convert {\n",
              "      background-color: #3B4455;\n",
              "      fill: #D2E3FC;\n",
              "    }\n",
              "\n",
              "    [theme=dark] .colab-df-convert:hover {\n",
              "      background-color: #434B5C;\n",
              "      box-shadow: 0px 1px 3px 1px rgba(0, 0, 0, 0.15);\n",
              "      filter: drop-shadow(0px 1px 2px rgba(0, 0, 0, 0.3));\n",
              "      fill: #FFFFFF;\n",
              "    }\n",
              "  </style>\n",
              "\n",
              "      <script>\n",
              "        const buttonEl =\n",
              "          document.querySelector('#df-257b1aec-4409-46bc-ada6-fb08aa56a12c button.colab-df-convert');\n",
              "        buttonEl.style.display =\n",
              "          google.colab.kernel.accessAllowed ? 'block' : 'none';\n",
              "\n",
              "        async function convertToInteractive(key) {\n",
              "          const element = document.querySelector('#df-257b1aec-4409-46bc-ada6-fb08aa56a12c');\n",
              "          const dataTable =\n",
              "            await google.colab.kernel.invokeFunction('convertToInteractive',\n",
              "                                                     [key], {});\n",
              "          if (!dataTable) return;\n",
              "\n",
              "          const docLinkHtml = 'Like what you see? Visit the ' +\n",
              "            '<a target=\"_blank\" href=https://colab.research.google.com/notebooks/data_table.ipynb>data table notebook</a>'\n",
              "            + ' to learn more about interactive tables.';\n",
              "          element.innerHTML = '';\n",
              "          dataTable['output_type'] = 'display_data';\n",
              "          await google.colab.output.renderOutput(dataTable, element);\n",
              "          const docLink = document.createElement('div');\n",
              "          docLink.innerHTML = docLinkHtml;\n",
              "          element.appendChild(docLink);\n",
              "        }\n",
              "      </script>\n",
              "    </div>\n",
              "  </div>\n",
              "  "
            ],
            "text/plain": [
              "    ad_type      city  ecpm_sma\n",
              "727      rv  New York  2.462408"
            ]
          },
          "metadata": {},
          "output_type": "display_data"
        },
        {
          "name": "stdout",
          "output_type": "stream",
          "text": [
            "\n",
            "Данные этого пользователя снова из города Нью-Йорка:\n",
            "\n"
          ]
        },
        {
          "data": {
            "text/html": [
              "\n",
              "  <div id=\"df-2158fa57-7a62-4302-8d8d-f07ef7e3a63f\">\n",
              "    <div class=\"colab-df-container\">\n",
              "      <div>\n",
              "<style scoped>\n",
              "    .dataframe tbody tr th:only-of-type {\n",
              "        vertical-align: middle;\n",
              "    }\n",
              "\n",
              "    .dataframe tbody tr th {\n",
              "        vertical-align: top;\n",
              "    }\n",
              "\n",
              "    .dataframe thead th {\n",
              "        text-align: right;\n",
              "    }\n",
              "</style>\n",
              "<table border=\"1\" class=\"dataframe\">\n",
              "  <thead>\n",
              "    <tr style=\"text-align: right;\">\n",
              "      <th></th>\n",
              "      <th>profile_id</th>\n",
              "      <th>os_version</th>\n",
              "      <th>device_manufacturer</th>\n",
              "      <th>device_type</th>\n",
              "      <th>ad_type</th>\n",
              "      <th>city</th>\n",
              "      <th>ecpm_sma</th>\n",
              "    </tr>\n",
              "  </thead>\n",
              "  <tbody>\n",
              "    <tr>\n",
              "      <th>3521</th>\n",
              "      <td>JL3xP8xM4Xf</td>\n",
              "      <td>9</td>\n",
              "      <td>Samsung</td>\n",
              "      <td>phone</td>\n",
              "      <td>rv</td>\n",
              "      <td>New York</td>\n",
              "      <td>0.686281</td>\n",
              "    </tr>\n",
              "    <tr>\n",
              "      <th>3523</th>\n",
              "      <td>JL3xP8xM4Xf</td>\n",
              "      <td>9</td>\n",
              "      <td>Samsung</td>\n",
              "      <td>phone</td>\n",
              "      <td>rv</td>\n",
              "      <td>New York</td>\n",
              "      <td>0.628739</td>\n",
              "    </tr>\n",
              "    <tr>\n",
              "      <th>3524</th>\n",
              "      <td>JL3xP8xM4Xf</td>\n",
              "      <td>9</td>\n",
              "      <td>Samsung</td>\n",
              "      <td>phone</td>\n",
              "      <td>rv</td>\n",
              "      <td>New York</td>\n",
              "      <td>0.592601</td>\n",
              "    </tr>\n",
              "    <tr>\n",
              "      <th>3528</th>\n",
              "      <td>JL3xP8xM4Xf</td>\n",
              "      <td>9</td>\n",
              "      <td>Samsung</td>\n",
              "      <td>phone</td>\n",
              "      <td>rv</td>\n",
              "      <td>New York</td>\n",
              "      <td>0.554788</td>\n",
              "    </tr>\n",
              "  </tbody>\n",
              "</table>\n",
              "</div>\n",
              "      <button class=\"colab-df-convert\" onclick=\"convertToInteractive('df-2158fa57-7a62-4302-8d8d-f07ef7e3a63f')\"\n",
              "              title=\"Convert this dataframe to an interactive table.\"\n",
              "              style=\"display:none;\">\n",
              "        \n",
              "  <svg xmlns=\"http://www.w3.org/2000/svg\" height=\"24px\"viewBox=\"0 0 24 24\"\n",
              "       width=\"24px\">\n",
              "    <path d=\"M0 0h24v24H0V0z\" fill=\"none\"/>\n",
              "    <path d=\"M18.56 5.44l.94 2.06.94-2.06 2.06-.94-2.06-.94-.94-2.06-.94 2.06-2.06.94zm-11 1L8.5 8.5l.94-2.06 2.06-.94-2.06-.94L8.5 2.5l-.94 2.06-2.06.94zm10 10l.94 2.06.94-2.06 2.06-.94-2.06-.94-.94-2.06-.94 2.06-2.06.94z\"/><path d=\"M17.41 7.96l-1.37-1.37c-.4-.4-.92-.59-1.43-.59-.52 0-1.04.2-1.43.59L10.3 9.45l-7.72 7.72c-.78.78-.78 2.05 0 2.83L4 21.41c.39.39.9.59 1.41.59.51 0 1.02-.2 1.41-.59l7.78-7.78 2.81-2.81c.8-.78.8-2.07 0-2.86zM5.41 20L4 18.59l7.72-7.72 1.47 1.35L5.41 20z\"/>\n",
              "  </svg>\n",
              "      </button>\n",
              "      \n",
              "  <style>\n",
              "    .colab-df-container {\n",
              "      display:flex;\n",
              "      flex-wrap:wrap;\n",
              "      gap: 12px;\n",
              "    }\n",
              "\n",
              "    .colab-df-convert {\n",
              "      background-color: #E8F0FE;\n",
              "      border: none;\n",
              "      border-radius: 50%;\n",
              "      cursor: pointer;\n",
              "      display: none;\n",
              "      fill: #1967D2;\n",
              "      height: 32px;\n",
              "      padding: 0 0 0 0;\n",
              "      width: 32px;\n",
              "    }\n",
              "\n",
              "    .colab-df-convert:hover {\n",
              "      background-color: #E2EBFA;\n",
              "      box-shadow: 0px 1px 2px rgba(60, 64, 67, 0.3), 0px 1px 3px 1px rgba(60, 64, 67, 0.15);\n",
              "      fill: #174EA6;\n",
              "    }\n",
              "\n",
              "    [theme=dark] .colab-df-convert {\n",
              "      background-color: #3B4455;\n",
              "      fill: #D2E3FC;\n",
              "    }\n",
              "\n",
              "    [theme=dark] .colab-df-convert:hover {\n",
              "      background-color: #434B5C;\n",
              "      box-shadow: 0px 1px 3px 1px rgba(0, 0, 0, 0.15);\n",
              "      filter: drop-shadow(0px 1px 2px rgba(0, 0, 0, 0.3));\n",
              "      fill: #FFFFFF;\n",
              "    }\n",
              "  </style>\n",
              "\n",
              "      <script>\n",
              "        const buttonEl =\n",
              "          document.querySelector('#df-2158fa57-7a62-4302-8d8d-f07ef7e3a63f button.colab-df-convert');\n",
              "        buttonEl.style.display =\n",
              "          google.colab.kernel.accessAllowed ? 'block' : 'none';\n",
              "\n",
              "        async function convertToInteractive(key) {\n",
              "          const element = document.querySelector('#df-2158fa57-7a62-4302-8d8d-f07ef7e3a63f');\n",
              "          const dataTable =\n",
              "            await google.colab.kernel.invokeFunction('convertToInteractive',\n",
              "                                                     [key], {});\n",
              "          if (!dataTable) return;\n",
              "\n",
              "          const docLinkHtml = 'Like what you see? Visit the ' +\n",
              "            '<a target=\"_blank\" href=https://colab.research.google.com/notebooks/data_table.ipynb>data table notebook</a>'\n",
              "            + ' to learn more about interactive tables.';\n",
              "          element.innerHTML = '';\n",
              "          dataTable['output_type'] = 'display_data';\n",
              "          await google.colab.output.renderOutput(dataTable, element);\n",
              "          const docLink = document.createElement('div');\n",
              "          docLink.innerHTML = docLinkHtml;\n",
              "          element.appendChild(docLink);\n",
              "        }\n",
              "      </script>\n",
              "    </div>\n",
              "  </div>\n",
              "  "
            ],
            "text/plain": [
              "       profile_id os_version device_manufacturer device_type ad_type  \\\n",
              "3521  JL3xP8xM4Xf          9             Samsung       phone      rv   \n",
              "3523  JL3xP8xM4Xf          9             Samsung       phone      rv   \n",
              "3524  JL3xP8xM4Xf          9             Samsung       phone      rv   \n",
              "3528  JL3xP8xM4Xf          9             Samsung       phone      rv   \n",
              "\n",
              "          city  ecpm_sma  \n",
              "3521  New York  0.686281  \n",
              "3523  New York  0.628739  \n",
              "3524  New York  0.592601  \n",
              "3528  New York  0.554788  "
            ]
          },
          "execution_count": 30,
          "metadata": {},
          "output_type": "execute_result"
        }
      ],
      "source": [
        "print('График для формата рекламы \"rv\" строить не будем ввиду получения компанией рекламного дохода \\nлишь от единственного пользователя, \\\n",
        "который смотрел рекламу по своему желанию.\\n')\n",
        "\n",
        "display(df_city.loc[df_city.ad_type == 'rv'])\n",
        "\n",
        "print('\\nДанные этого пользователя снова из города Нью-Йорка:\\n')\n",
        "df_new[['profile_id', 'os_version', 'device_manufacturer', 'device_type', 'ad_type', 'city', 'ecpm_sma']].loc[df_new.ad_type == 'rv']"
      ]
    },
    {
      "cell_type": "code",
      "execution_count": null,
      "metadata": {
        "id": "MpdBry-nprd1"
      },
      "outputs": [],
      "source": []
    },
    {
      "cell_type": "markdown",
      "metadata": {
        "id": "g4HuzgVCe7x1"
      },
      "source": [
        "**Распределение доходов eCPM по версиям операционной системы**"
      ]
    },
    {
      "cell_type": "code",
      "execution_count": null,
      "metadata": {
        "colab": {
          "base_uri": "https://localhost:8080/",
          "height": 551
        },
        "id": "MrSQEQLOenn3",
        "outputId": "4196ca92-5faa-41ca-fa04-02ea4a4429dc"
      },
      "outputs": [
        {
          "data": {
            "text/html": [
              "<style type=\"text/css\">\n",
              "#T_ea1ae_row0_col2 {\n",
              "  background-color: #800026;\n",
              "  color: #f1f1f1;\n",
              "}\n",
              "#T_ea1ae_row1_col2 {\n",
              "  background-color: #fea948;\n",
              "  color: #000000;\n",
              "}\n",
              "#T_ea1ae_row2_col2 {\n",
              "  background-color: #febe59;\n",
              "  color: #000000;\n",
              "}\n",
              "#T_ea1ae_row3_col2 {\n",
              "  background-color: #ffeb9c;\n",
              "  color: #000000;\n",
              "}\n",
              "#T_ea1ae_row4_col2 {\n",
              "  background-color: #fffdc6;\n",
              "  color: #000000;\n",
              "}\n",
              "#T_ea1ae_row5_col2 {\n",
              "  background-color: #fffdc8;\n",
              "  color: #000000;\n",
              "}\n",
              "#T_ea1ae_row6_col2 {\n",
              "  background-color: #fffecb;\n",
              "  color: #000000;\n",
              "}\n",
              "#T_ea1ae_row7_col2, #T_ea1ae_row8_col2, #T_ea1ae_row9_col2, #T_ea1ae_row10_col2, #T_ea1ae_row11_col2, #T_ea1ae_row12_col2, #T_ea1ae_row13_col2, #T_ea1ae_row14_col2, #T_ea1ae_row15_col2 {\n",
              "  background-color: #ffffcc;\n",
              "  color: #000000;\n",
              "}\n",
              "</style>\n",
              "<table id=\"T_ea1ae_\" class=\"dataframe\">\n",
              "  <thead>\n",
              "    <tr>\n",
              "      <th class=\"blank level0\" >&nbsp;</th>\n",
              "      <th class=\"col_heading level0 col0\" >ad_type</th>\n",
              "      <th class=\"col_heading level0 col1\" >os_version</th>\n",
              "      <th class=\"col_heading level0 col2\" >ecpm_sma</th>\n",
              "    </tr>\n",
              "  </thead>\n",
              "  <tbody>\n",
              "    <tr>\n",
              "      <th id=\"T_ea1ae_level0_row0\" class=\"row_heading level0 row0\" >0</th>\n",
              "      <td id=\"T_ea1ae_row0_col0\" class=\"data row0 col0\" >banner</td>\n",
              "      <td id=\"T_ea1ae_row0_col1\" class=\"data row0 col1\" >12</td>\n",
              "      <td id=\"T_ea1ae_row0_col2\" class=\"data row0 col2\" >144792.729766</td>\n",
              "    </tr>\n",
              "    <tr>\n",
              "      <th id=\"T_ea1ae_level0_row1\" class=\"row_heading level0 row1\" >1</th>\n",
              "      <td id=\"T_ea1ae_row1_col0\" class=\"data row1 col0\" >banner</td>\n",
              "      <td id=\"T_ea1ae_row1_col1\" class=\"data row1 col1\" >11</td>\n",
              "      <td id=\"T_ea1ae_row1_col2\" class=\"data row1 col2\" >58462.711854</td>\n",
              "    </tr>\n",
              "    <tr>\n",
              "      <th id=\"T_ea1ae_level0_row2\" class=\"row_heading level0 row2\" >2</th>\n",
              "      <td id=\"T_ea1ae_row2_col0\" class=\"data row2 col0\" >banner</td>\n",
              "      <td id=\"T_ea1ae_row2_col1\" class=\"data row2 col1\" >10</td>\n",
              "      <td id=\"T_ea1ae_row2_col2\" class=\"data row2 col2\" >48824.318006</td>\n",
              "    </tr>\n",
              "    <tr>\n",
              "      <th id=\"T_ea1ae_level0_row3\" class=\"row_heading level0 row3\" >3</th>\n",
              "      <td id=\"T_ea1ae_row3_col0\" class=\"data row3 col0\" >banner</td>\n",
              "      <td id=\"T_ea1ae_row3_col1\" class=\"data row3 col1\" >9</td>\n",
              "      <td id=\"T_ea1ae_row3_col2\" class=\"data row3 col2\" >20285.983402</td>\n",
              "    </tr>\n",
              "    <tr>\n",
              "      <th id=\"T_ea1ae_level0_row4\" class=\"row_heading level0 row4\" >4</th>\n",
              "      <td id=\"T_ea1ae_row4_col0\" class=\"data row4 col0\" >banner</td>\n",
              "      <td id=\"T_ea1ae_row4_col1\" class=\"data row4 col1\" >8.1.0</td>\n",
              "      <td id=\"T_ea1ae_row4_col2\" class=\"data row4 col2\" >2539.127943</td>\n",
              "    </tr>\n",
              "    <tr>\n",
              "      <th id=\"T_ea1ae_level0_row5\" class=\"row_heading level0 row5\" >5</th>\n",
              "      <td id=\"T_ea1ae_row5_col0\" class=\"data row5 col0\" >banner</td>\n",
              "      <td id=\"T_ea1ae_row5_col1\" class=\"data row5 col1\" >8.0.0</td>\n",
              "      <td id=\"T_ea1ae_row5_col2\" class=\"data row5 col2\" >2177.056983</td>\n",
              "    </tr>\n",
              "    <tr>\n",
              "      <th id=\"T_ea1ae_level0_row6\" class=\"row_heading level0 row6\" >6</th>\n",
              "      <td id=\"T_ea1ae_row6_col0\" class=\"data row6 col0\" >banner</td>\n",
              "      <td id=\"T_ea1ae_row6_col1\" class=\"data row6 col1\" >7.0</td>\n",
              "      <td id=\"T_ea1ae_row6_col2\" class=\"data row6 col2\" >977.679463</td>\n",
              "    </tr>\n",
              "    <tr>\n",
              "      <th id=\"T_ea1ae_level0_row7\" class=\"row_heading level0 row7\" >7</th>\n",
              "      <td id=\"T_ea1ae_row7_col0\" class=\"data row7 col0\" >banner</td>\n",
              "      <td id=\"T_ea1ae_row7_col1\" class=\"data row7 col1\" >7.1.1</td>\n",
              "      <td id=\"T_ea1ae_row7_col2\" class=\"data row7 col2\" >290.809614</td>\n",
              "    </tr>\n",
              "    <tr>\n",
              "      <th id=\"T_ea1ae_level0_row8\" class=\"row_heading level0 row8\" >8</th>\n",
              "      <td id=\"T_ea1ae_row8_col0\" class=\"data row8 col0\" >banner</td>\n",
              "      <td id=\"T_ea1ae_row8_col1\" class=\"data row8 col1\" >7.1.2</td>\n",
              "      <td id=\"T_ea1ae_row8_col2\" class=\"data row8 col2\" >249.307872</td>\n",
              "    </tr>\n",
              "    <tr>\n",
              "      <th id=\"T_ea1ae_level0_row9\" class=\"row_heading level0 row9\" >9</th>\n",
              "      <td id=\"T_ea1ae_row9_col0\" class=\"data row9 col0\" >banner</td>\n",
              "      <td id=\"T_ea1ae_row9_col1\" class=\"data row9 col1\" >6.0.1</td>\n",
              "      <td id=\"T_ea1ae_row9_col2\" class=\"data row9 col2\" >152.636229</td>\n",
              "    </tr>\n",
              "    <tr>\n",
              "      <th id=\"T_ea1ae_level0_row10\" class=\"row_heading level0 row10\" >10</th>\n",
              "      <td id=\"T_ea1ae_row10_col0\" class=\"data row10 col0\" >banner</td>\n",
              "      <td id=\"T_ea1ae_row10_col1\" class=\"data row10 col1\" >5.0.2</td>\n",
              "      <td id=\"T_ea1ae_row10_col2\" class=\"data row10 col2\" >142.835913</td>\n",
              "    </tr>\n",
              "    <tr>\n",
              "      <th id=\"T_ea1ae_level0_row11\" class=\"row_heading level0 row11\" >11</th>\n",
              "      <td id=\"T_ea1ae_row11_col0\" class=\"data row11 col0\" >int</td>\n",
              "      <td id=\"T_ea1ae_row11_col1\" class=\"data row11 col1\" >12</td>\n",
              "      <td id=\"T_ea1ae_row11_col2\" class=\"data row11 col2\" >16.738726</td>\n",
              "    </tr>\n",
              "    <tr>\n",
              "      <th id=\"T_ea1ae_level0_row12\" class=\"row_heading level0 row12\" >12</th>\n",
              "      <td id=\"T_ea1ae_row12_col0\" class=\"data row12 col0\" >int</td>\n",
              "      <td id=\"T_ea1ae_row12_col1\" class=\"data row12 col1\" >10</td>\n",
              "      <td id=\"T_ea1ae_row12_col2\" class=\"data row12 col2\" >4.424917</td>\n",
              "    </tr>\n",
              "    <tr>\n",
              "      <th id=\"T_ea1ae_level0_row13\" class=\"row_heading level0 row13\" >13</th>\n",
              "      <td id=\"T_ea1ae_row13_col0\" class=\"data row13 col0\" >rv</td>\n",
              "      <td id=\"T_ea1ae_row13_col1\" class=\"data row13 col1\" >9</td>\n",
              "      <td id=\"T_ea1ae_row13_col2\" class=\"data row13 col2\" >2.462408</td>\n",
              "    </tr>\n",
              "    <tr>\n",
              "      <th id=\"T_ea1ae_level0_row14\" class=\"row_heading level0 row14\" >14</th>\n",
              "      <td id=\"T_ea1ae_row14_col0\" class=\"data row14 col0\" >int</td>\n",
              "      <td id=\"T_ea1ae_row14_col1\" class=\"data row14 col1\" >9</td>\n",
              "      <td id=\"T_ea1ae_row14_col2\" class=\"data row14 col2\" >1.892682</td>\n",
              "    </tr>\n",
              "    <tr>\n",
              "      <th id=\"T_ea1ae_level0_row15\" class=\"row_heading level0 row15\" >15</th>\n",
              "      <td id=\"T_ea1ae_row15_col0\" class=\"data row15 col0\" >int</td>\n",
              "      <td id=\"T_ea1ae_row15_col1\" class=\"data row15 col1\" >11</td>\n",
              "      <td id=\"T_ea1ae_row15_col2\" class=\"data row15 col2\" >1.692026</td>\n",
              "    </tr>\n",
              "  </tbody>\n",
              "</table>\n"
            ],
            "text/plain": [
              "<pandas.io.formats.style.Styler at 0x7f32c3e4f390>"
            ]
          },
          "execution_count": 31,
          "metadata": {},
          "output_type": "execute_result"
        }
      ],
      "source": [
        "df_os = df_new.groupby(['ad_type', 'os_version'])['ecpm_sma'].sum().sort_values(ascending = False).reset_index()\n",
        "df_os.style.background_gradient(cmap = 'YlOrRd')"
      ]
    },
    {
      "cell_type": "code",
      "execution_count": null,
      "metadata": {
        "colab": {
          "base_uri": "https://localhost:8080/",
          "height": 476
        },
        "id": "cd2i2XqIfkWV",
        "outputId": "ff71bc52-2223-49cd-f13e-c6db582f6fbe"
      },
      "outputs": [
        {
          "data": {
            "image/png": "[encoded data removed]",
            "text/plain": [
              "<Figure size 720x504 with 2 Axes>"
            ]
          },
          "metadata": {
            "needs_background": "light"
          },
          "output_type": "display_data"
        }
      ],
      "source": [
        "# Представим данные доходов по формату рекламы от версии ОС в виде сводной таблицы и тепловой карты:\n",
        "plt.figure(figsize = (10, 7))\n",
        "\n",
        "pivot_os = pd.pivot_table(df_os, index = 'os_version', columns = 'ad_type', values = 'ecpm_sma')\n",
        "\n",
        "sns.heatmap(pivot_os, cmap = 'jet')\n",
        "plt.title('Доходы от формата рекламы в зависимости от версии ОС')\n",
        "plt.show()"
      ]
    },
    {
      "cell_type": "markdown",
      "metadata": {
        "id": "KsxJRyhpliZV"
      },
      "source": [
        "* Больше всего доходов компания получает от пользователей с версией операционной системы равной **12** для формата рекламы \"**banner**\".\n",
        "* Пользователи с **этой же** версией ОС приносят компании больше всего доходов от просмотра **полноэкранной** рекламы.\n",
        "* Пользователь со смартфоном Samsung с установленной **os_version = 9** смотрел рекламу по своему желанию.   \n",
        "* **Вывод:** в эту мобильную игру чаще всего играют люди с устройств на последней версии ОС."
      ]
    },
    {
      "cell_type": "code",
      "execution_count": null,
      "metadata": {
        "id": "NVMRFySuoJ9U"
      },
      "outputs": [],
      "source": []
    },
    {
      "cell_type": "markdown",
      "metadata": {
        "id": "DHaAT6S8oKZl"
      },
      "source": [
        "**Распределение доходов eCPM по производителям мобильных устройств**\n",
        "\n",
        "> 1. Смартфоны\n",
        "\n"
      ]
    },
    {
      "cell_type": "code",
      "execution_count": null,
      "metadata": {
        "colab": {
          "base_uri": "https://localhost:8080/",
          "height": 363
        },
        "id": "zM3-U9NKt5XW",
        "outputId": "19d0a1f6-3162-40ea-c7d3-7a95ee78d87d"
      },
      "outputs": [
        {
          "data": {
            "text/html": [
              "<style type=\"text/css\">\n",
              "#T_764df_row0_col2 {\n",
              "  background-color: #800026;\n",
              "  color: #f1f1f1;\n",
              "}\n",
              "#T_764df_row1_col2 {\n",
              "  background-color: #ffeda1;\n",
              "  color: #000000;\n",
              "}\n",
              "#T_764df_row2_col2 {\n",
              "  background-color: #fff4b0;\n",
              "  color: #000000;\n",
              "}\n",
              "#T_764df_row3_col2 {\n",
              "  background-color: #fff8bb;\n",
              "  color: #000000;\n",
              "}\n",
              "#T_764df_row4_col2 {\n",
              "  background-color: #fffdc8;\n",
              "  color: #000000;\n",
              "}\n",
              "#T_764df_row5_col2 {\n",
              "  background-color: #fffecb;\n",
              "  color: #000000;\n",
              "}\n",
              "#T_764df_row6_col2, #T_764df_row7_col2, #T_764df_row8_col2, #T_764df_row9_col2 {\n",
              "  background-color: #ffffcc;\n",
              "  color: #000000;\n",
              "}\n",
              "</style>\n",
              "<table id=\"T_764df_\" class=\"dataframe\">\n",
              "  <thead>\n",
              "    <tr>\n",
              "      <th class=\"blank level0\" >&nbsp;</th>\n",
              "      <th class=\"col_heading level0 col0\" >ad_type</th>\n",
              "      <th class=\"col_heading level0 col1\" >device_manufacturer</th>\n",
              "      <th class=\"col_heading level0 col2\" >ecpm_sma</th>\n",
              "    </tr>\n",
              "  </thead>\n",
              "  <tbody>\n",
              "    <tr>\n",
              "      <th id=\"T_764df_level0_row0\" class=\"row_heading level0 row0\" >0</th>\n",
              "      <td id=\"T_764df_row0_col0\" class=\"data row0 col0\" >banner</td>\n",
              "      <td id=\"T_764df_row0_col1\" class=\"data row0 col1\" >Samsung</td>\n",
              "      <td id=\"T_764df_row0_col2\" class=\"data row0 col2\" >207863.615034</td>\n",
              "    </tr>\n",
              "    <tr>\n",
              "      <th id=\"T_764df_level0_row1\" class=\"row_heading level0 row1\" >1</th>\n",
              "      <td id=\"T_764df_row1_col0\" class=\"data row1 col0\" >banner</td>\n",
              "      <td id=\"T_764df_row1_col1\" class=\"data row1 col1\" >Google</td>\n",
              "      <td id=\"T_764df_row1_col2\" class=\"data row1 col2\" >26334.897800</td>\n",
              "    </tr>\n",
              "    <tr>\n",
              "      <th id=\"T_764df_level0_row2\" class=\"row_heading level0 row2\" >2</th>\n",
              "      <td id=\"T_764df_row2_col0\" class=\"data row2 col0\" >banner</td>\n",
              "      <td id=\"T_764df_row2_col1\" class=\"data row2 col1\" >Motorola</td>\n",
              "      <td id=\"T_764df_row2_col2\" class=\"data row2 col2\" >17060.042819</td>\n",
              "    </tr>\n",
              "    <tr>\n",
              "      <th id=\"T_764df_level0_row3\" class=\"row_heading level0 row3\" >3</th>\n",
              "      <td id=\"T_764df_row3_col0\" class=\"data row3 col0\" >banner</td>\n",
              "      <td id=\"T_764df_row3_col1\" class=\"data row3 col1\" >LG</td>\n",
              "      <td id=\"T_764df_row3_col2\" class=\"data row3 col2\" >10894.280707</td>\n",
              "    </tr>\n",
              "    <tr>\n",
              "      <th id=\"T_764df_level0_row4\" class=\"row_heading level0 row4\" >4</th>\n",
              "      <td id=\"T_764df_row4_col0\" class=\"data row4 col0\" >banner</td>\n",
              "      <td id=\"T_764df_row4_col1\" class=\"data row4 col1\" >OnePlus</td>\n",
              "      <td id=\"T_764df_row4_col2\" class=\"data row4 col2\" >3150.492805</td>\n",
              "    </tr>\n",
              "    <tr>\n",
              "      <th id=\"T_764df_level0_row5\" class=\"row_heading level0 row5\" >5</th>\n",
              "      <td id=\"T_764df_row5_col0\" class=\"data row5 col0\" >banner</td>\n",
              "      <td id=\"T_764df_row5_col1\" class=\"data row5 col1\" >T-Mobile</td>\n",
              "      <td id=\"T_764df_row5_col2\" class=\"data row5 col2\" >1429.175740</td>\n",
              "    </tr>\n",
              "    <tr>\n",
              "      <th id=\"T_764df_level0_row6\" class=\"row_heading level0 row6\" >6</th>\n",
              "      <td id=\"T_764df_row6_col0\" class=\"data row6 col0\" >banner</td>\n",
              "      <td id=\"T_764df_row6_col1\" class=\"data row6 col1\" >Dish</td>\n",
              "      <td id=\"T_764df_row6_col2\" class=\"data row6 col2\" >678.131387</td>\n",
              "    </tr>\n",
              "    <tr>\n",
              "      <th id=\"T_764df_level0_row7\" class=\"row_heading level0 row7\" >7</th>\n",
              "      <td id=\"T_764df_row7_col0\" class=\"data row7 col0\" >banner</td>\n",
              "      <td id=\"T_764df_row7_col1\" class=\"data row7 col1\" >Kyocera</td>\n",
              "      <td id=\"T_764df_row7_col2\" class=\"data row7 col2\" >677.959185</td>\n",
              "    </tr>\n",
              "    <tr>\n",
              "      <th id=\"T_764df_level0_row8\" class=\"row_heading level0 row8\" >8</th>\n",
              "      <td id=\"T_764df_row8_col0\" class=\"data row8 col0\" >banner</td>\n",
              "      <td id=\"T_764df_row8_col1\" class=\"data row8 col1\" >TCL</td>\n",
              "      <td id=\"T_764df_row8_col2\" class=\"data row8 col2\" >584.785131</td>\n",
              "    </tr>\n",
              "    <tr>\n",
              "      <th id=\"T_764df_level0_row9\" class=\"row_heading level0 row9\" >9</th>\n",
              "      <td id=\"T_764df_row9_col0\" class=\"data row9 col0\" >banner</td>\n",
              "      <td id=\"T_764df_row9_col1\" class=\"data row9 col1\" >Alcatel</td>\n",
              "      <td id=\"T_764df_row9_col2\" class=\"data row9 col2\" >498.720208</td>\n",
              "    </tr>\n",
              "  </tbody>\n",
              "</table>\n"
            ],
            "text/plain": [
              "<pandas.io.formats.style.Styler at 0x7f32c3e726d0>"
            ]
          },
          "execution_count": 33,
          "metadata": {},
          "output_type": "execute_result"
        }
      ],
      "source": [
        "df_phone = df_new.loc[df_new.device_type == 'phone'].groupby(['ad_type', 'device_manufacturer'])\\\n",
        "           ['ecpm_sma'].sum().sort_values(ascending = False).reset_index()\n",
        "\n",
        "df_phone.head(10).style.background_gradient(cmap = 'YlOrRd')"
      ]
    },
    {
      "cell_type": "code",
      "execution_count": null,
      "metadata": {
        "colab": {
          "base_uri": "https://localhost:8080/",
          "height": 640
        },
        "id": "rRKaMxLIosnv",
        "outputId": "564a7ce4-7c96-4dcf-e1e6-89e44425b6d4"
      },
      "outputs": [
        {
          "data": {
            "image/png": "[encoded data removed]",
            "text/plain": [
              "<Figure size 720x720 with 2 Axes>"
            ]
          },
          "metadata": {
            "needs_background": "light"
          },
          "output_type": "display_data"
        }
      ],
      "source": [
        "plt.figure(figsize = (10, 10))\n",
        "\n",
        "pivot_device_phone = pd.pivot_table(df_phone, index = 'device_manufacturer', columns = 'ad_type', values = 'ecpm_sma')\n",
        "sns.heatmap(pivot_device_phone, cmap = 'jet')\n",
        "\n",
        "plt.title('Доходы от формата рекламы в зависимости от производителя смартфона')\n",
        "plt.show()"
      ]
    },
    {
      "cell_type": "markdown",
      "metadata": {
        "id": "6rDKL9Lb0fAt"
      },
      "source": [
        "**Вывод:** \n",
        "* пользователи на смартфонах от производителя **Samsung** больше всего генерируют доходы через игру **вне зависимости** от формата просмотренной ими рекламы, на втором месте - от **Google**, на третьем - от **Motorola**;\n",
        "* мобильная игра, видимо, **не** разрабатывалась для устройств компании Apple (т.е., возможно, теряется **значимая** доля игрового рынка). "
      ]
    },
    {
      "cell_type": "code",
      "execution_count": null,
      "metadata": {
        "id": "XpJSqPDW2A1t"
      },
      "outputs": [],
      "source": []
    },
    {
      "cell_type": "markdown",
      "metadata": {
        "id": "vM3Oys5Wvlfu"
      },
      "source": [
        "**Распределение доходов eCPM по производителям мобильных устройств**\n",
        "\n",
        "> 2. Планшеты"
      ]
    },
    {
      "cell_type": "code",
      "execution_count": null,
      "metadata": {
        "colab": {
          "base_uri": "https://localhost:8080/",
          "height": 363
        },
        "id": "MTh09VRsvwwN",
        "outputId": "17963661-b0ca-409a-abb1-6fbcf6650eb4"
      },
      "outputs": [
        {
          "data": {
            "text/html": [
              "<style type=\"text/css\">\n",
              "#T_9cdee_row0_col2 {\n",
              "  background-color: #800026;\n",
              "  color: #f1f1f1;\n",
              "}\n",
              "#T_9cdee_row1_col2 {\n",
              "  background-color: #fff2ac;\n",
              "  color: #000000;\n",
              "}\n",
              "#T_9cdee_row2_col2, #T_9cdee_row3_col2 {\n",
              "  background-color: #fffdc6;\n",
              "  color: #000000;\n",
              "}\n",
              "#T_9cdee_row4_col2 {\n",
              "  background-color: #fffec9;\n",
              "  color: #000000;\n",
              "}\n",
              "#T_9cdee_row5_col2 {\n",
              "  background-color: #fffecb;\n",
              "  color: #000000;\n",
              "}\n",
              "#T_9cdee_row6_col2, #T_9cdee_row7_col2, #T_9cdee_row8_col2, #T_9cdee_row9_col2 {\n",
              "  background-color: #ffffcc;\n",
              "  color: #000000;\n",
              "}\n",
              "</style>\n",
              "<table id=\"T_9cdee_\" class=\"dataframe\">\n",
              "  <thead>\n",
              "    <tr>\n",
              "      <th class=\"blank level0\" >&nbsp;</th>\n",
              "      <th class=\"col_heading level0 col0\" >ad_type</th>\n",
              "      <th class=\"col_heading level0 col1\" >device_manufacturer</th>\n",
              "      <th class=\"col_heading level0 col2\" >ecpm_sma</th>\n",
              "    </tr>\n",
              "  </thead>\n",
              "  <tbody>\n",
              "    <tr>\n",
              "      <th id=\"T_9cdee_level0_row0\" class=\"row_heading level0 row0\" >0</th>\n",
              "      <td id=\"T_9cdee_row0_col0\" class=\"data row0 col0\" >banner</td>\n",
              "      <td id=\"T_9cdee_row0_col1\" class=\"data row0 col1\" >Samsung</td>\n",
              "      <td id=\"T_9cdee_row0_col2\" class=\"data row0 col2\" >6515.327849</td>\n",
              "    </tr>\n",
              "    <tr>\n",
              "      <th id=\"T_9cdee_level0_row1\" class=\"row_heading level0 row1\" >1</th>\n",
              "      <td id=\"T_9cdee_row1_col0\" class=\"data row1 col0\" >banner</td>\n",
              "      <td id=\"T_9cdee_row1_col1\" class=\"data row1 col1\" >Google</td>\n",
              "      <td id=\"T_9cdee_row1_col2\" class=\"data row1 col2\" >593.288895</td>\n",
              "    </tr>\n",
              "    <tr>\n",
              "      <th id=\"T_9cdee_level0_row2\" class=\"row_heading level0 row2\" >2</th>\n",
              "      <td id=\"T_9cdee_row2_col0\" class=\"data row2 col0\" >banner</td>\n",
              "      <td id=\"T_9cdee_row2_col1\" class=\"data row2 col1\" >JOYAR</td>\n",
              "      <td id=\"T_9cdee_row2_col2\" class=\"data row2 col2\" >119.364104</td>\n",
              "    </tr>\n",
              "    <tr>\n",
              "      <th id=\"T_9cdee_level0_row3\" class=\"row_heading level0 row3\" >3</th>\n",
              "      <td id=\"T_9cdee_row3_col0\" class=\"data row3 col0\" >banner</td>\n",
              "      <td id=\"T_9cdee_row3_col1\" class=\"data row3 col1\" >Lenovo</td>\n",
              "      <td id=\"T_9cdee_row3_col2\" class=\"data row3 col2\" >109.897679</td>\n",
              "    </tr>\n",
              "    <tr>\n",
              "      <th id=\"T_9cdee_level0_row4\" class=\"row_heading level0 row4\" >4</th>\n",
              "      <td id=\"T_9cdee_row4_col0\" class=\"data row4 col0\" >banner</td>\n",
              "      <td id=\"T_9cdee_row4_col1\" class=\"data row4 col1\" >OnePlus</td>\n",
              "      <td id=\"T_9cdee_row4_col2\" class=\"data row4 col2\" >59.110960</td>\n",
              "    </tr>\n",
              "    <tr>\n",
              "      <th id=\"T_9cdee_level0_row5\" class=\"row_heading level0 row5\" >5</th>\n",
              "      <td id=\"T_9cdee_row5_col0\" class=\"data row5 col0\" >banner</td>\n",
              "      <td id=\"T_9cdee_row5_col1\" class=\"data row5 col1\" >Verizon Wireless</td>\n",
              "      <td id=\"T_9cdee_row5_col2\" class=\"data row5 col2\" >42.574073</td>\n",
              "    </tr>\n",
              "    <tr>\n",
              "      <th id=\"T_9cdee_level0_row6\" class=\"row_heading level0 row6\" >6</th>\n",
              "      <td id=\"T_9cdee_row6_col0\" class=\"data row6 col0\" >banner</td>\n",
              "      <td id=\"T_9cdee_row6_col1\" class=\"data row6 col1\" >Onn (Walmart)</td>\n",
              "      <td id=\"T_9cdee_row6_col2\" class=\"data row6 col2\" >20.155221</td>\n",
              "    </tr>\n",
              "    <tr>\n",
              "      <th id=\"T_9cdee_level0_row7\" class=\"row_heading level0 row7\" >7</th>\n",
              "      <td id=\"T_9cdee_row7_col0\" class=\"data row7 col0\" >banner</td>\n",
              "      <td id=\"T_9cdee_row7_col1\" class=\"data row7 col1\" >Motorola</td>\n",
              "      <td id=\"T_9cdee_row7_col2\" class=\"data row7 col2\" >3.405273</td>\n",
              "    </tr>\n",
              "    <tr>\n",
              "      <th id=\"T_9cdee_level0_row8\" class=\"row_heading level0 row8\" >8</th>\n",
              "      <td id=\"T_9cdee_row8_col0\" class=\"data row8 col0\" >int</td>\n",
              "      <td id=\"T_9cdee_row8_col1\" class=\"data row8 col1\" >Samsung</td>\n",
              "      <td id=\"T_9cdee_row8_col2\" class=\"data row8 col2\" >0.862078</td>\n",
              "    </tr>\n",
              "    <tr>\n",
              "      <th id=\"T_9cdee_level0_row9\" class=\"row_heading level0 row9\" >9</th>\n",
              "      <td id=\"T_9cdee_row9_col0\" class=\"data row9 col0\" >banner</td>\n",
              "      <td id=\"T_9cdee_row9_col1\" class=\"data row9 col1\" >AEEZO</td>\n",
              "      <td id=\"T_9cdee_row9_col2\" class=\"data row9 col2\" >0.186172</td>\n",
              "    </tr>\n",
              "  </tbody>\n",
              "</table>\n"
            ],
            "text/plain": [
              "<pandas.io.formats.style.Styler at 0x7f32c3e138d0>"
            ]
          },
          "execution_count": 35,
          "metadata": {},
          "output_type": "execute_result"
        }
      ],
      "source": [
        "df_tablet = df_new.loc[df_new.device_type == 'tablet'].groupby(['ad_type', 'device_manufacturer'])['ecpm_sma'].sum().sort_values(ascending = False).reset_index()\n",
        "df_tablet.style.background_gradient(cmap = 'YlOrRd')"
      ]
    },
    {
      "cell_type": "markdown",
      "metadata": {
        "id": "8tMprv7g3GsS"
      },
      "source": [
        "**Наибольший** доход eCPM разработчики игры получают от пользователей с планшетами также от компании **Samsung** для формата рекламы \"**banner**\", а на втором месте уже от **Google**."
      ]
    },
    {
      "cell_type": "code",
      "execution_count": null,
      "metadata": {
        "colab": {
          "base_uri": "https://localhost:8080/",
          "height": 368
        },
        "id": "AaSsQGPU2sS1",
        "outputId": "4cd692e5-5e44-4875-b327-57caf5ded400"
      },
      "outputs": [
        {
          "data": {
            "image/png": "[encoded data removed]",
            "text/plain": [
              "<Figure size 504x360 with 2 Axes>"
            ]
          },
          "metadata": {
            "needs_background": "light"
          },
          "output_type": "display_data"
        }
      ],
      "source": [
        "plt.figure(figsize = (7, 5))\n",
        "\n",
        "pivot_device_tablet = pd.pivot_table(df_tablet, index = 'device_manufacturer', columns = 'ad_type', values = 'ecpm_sma')\n",
        "sns.heatmap(pivot_device_tablet, cmap = 'jet')\n",
        "\n",
        "plt.title('Доходы от формата рекламы в зависимости от производителя планшета')\n",
        "plt.show()"
      ]
    },
    {
      "cell_type": "code",
      "execution_count": null,
      "metadata": {
        "id": "tF9Kut033B61"
      },
      "outputs": [],
      "source": []
    },
    {
      "cell_type": "code",
      "execution_count": null,
      "metadata": {
        "colab": {
          "base_uri": "https://localhost:8080/"
        },
        "id": "9HJ3g8xnwLVV",
        "outputId": "54d187cf-ad05-453d-d904-63af17774d08"
      },
      "outputs": [
        {
          "name": "stdout",
          "output_type": "stream",
          "text": [
            "Суммарные доходы от игр на смартфонах: 271458.\n",
            "Суммарные доходы от игр на планшетах:  7464.\n",
            "Таким образом, рекламные доходы от данной игры на смартфонах в 36 раз превосходят доходы от игры на планшетах.\n"
          ]
        }
      ],
      "source": [
        "print(f'Суммарные доходы от игр на смартфонах: {int(df_phone.ecpm_sma.sum())}.')\n",
        "print(f'Суммарные доходы от игр на планшетах:  {int(df_tablet.ecpm_sma.sum())}.')\n",
        "print(f'Таким образом, рекламные доходы от данной игры на смартфонах в {int(df_phone.ecpm_sma.sum()/df_tablet.ecpm_sma.sum())} раз \\\n",
        "превосходят доходы от игры на планшетах.')"
      ]
    },
    {
      "cell_type": "code",
      "execution_count": null,
      "metadata": {
        "id": "9klEBPxy4tSH"
      },
      "outputs": [],
      "source": []
    },
    {
      "cell_type": "markdown",
      "metadata": {
        "id": "CHqcqpxZ4a6o"
      },
      "source": [
        "**Зависит ли рекламный доход компании от времени суток?**"
      ]
    },
    {
      "cell_type": "code",
      "execution_count": null,
      "metadata": {
        "colab": {
          "base_uri": "https://localhost:8080/",
          "height": 363
        },
        "id": "29JA-xXu8PtO",
        "outputId": "5dcc80a8-a00a-43ef-a037-563755d17d72"
      },
      "outputs": [
        {
          "data": {
            "text/html": [
              "<style type=\"text/css\">\n",
              "#T_46fcb_row0_col1 {\n",
              "  background-color: #fee89d;\n",
              "  color: #000000;\n",
              "}\n",
              "#T_46fcb_row0_col2, #T_46fcb_row9_col1 {\n",
              "  background-color: #662506;\n",
              "  color: #f1f1f1;\n",
              "}\n",
              "#T_46fcb_row1_col1 {\n",
              "  background-color: #ffefac;\n",
              "  color: #000000;\n",
              "}\n",
              "#T_46fcb_row1_col2 {\n",
              "  background-color: #ae3e03;\n",
              "  color: #f1f1f1;\n",
              "}\n",
              "#T_46fcb_row2_col1 {\n",
              "  background-color: #fff6ba;\n",
              "  color: #000000;\n",
              "}\n",
              "#T_46fcb_row2_col2 {\n",
              "  background-color: #d15205;\n",
              "  color: #f1f1f1;\n",
              "}\n",
              "#T_46fcb_row3_col1 {\n",
              "  background-color: #fee18c;\n",
              "  color: #000000;\n",
              "}\n",
              "#T_46fcb_row3_col2 {\n",
              "  background-color: #fa9125;\n",
              "  color: #f1f1f1;\n",
              "}\n",
              "#T_46fcb_row4_col1 {\n",
              "  background-color: #fff9c9;\n",
              "  color: #000000;\n",
              "}\n",
              "#T_46fcb_row4_col2 {\n",
              "  background-color: #fec14c;\n",
              "  color: #000000;\n",
              "}\n",
              "#T_46fcb_row5_col1 {\n",
              "  background-color: #fed676;\n",
              "  color: #000000;\n",
              "}\n",
              "#T_46fcb_row5_col2 {\n",
              "  background-color: #fff9c5;\n",
              "  color: #000000;\n",
              "}\n",
              "#T_46fcb_row6_col1 {\n",
              "  background-color: #fffcd7;\n",
              "  color: #000000;\n",
              "}\n",
              "#T_46fcb_row6_col2 {\n",
              "  background-color: #fffcd4;\n",
              "  color: #000000;\n",
              "}\n",
              "#T_46fcb_row7_col1, #T_46fcb_row9_col2 {\n",
              "  background-color: #ffffe5;\n",
              "  color: #000000;\n",
              "}\n",
              "#T_46fcb_row7_col2 {\n",
              "  background-color: #fffcd6;\n",
              "  color: #000000;\n",
              "}\n",
              "#T_46fcb_row8_col1 {\n",
              "  background-color: #782a05;\n",
              "  color: #f1f1f1;\n",
              "}\n",
              "#T_46fcb_row8_col2 {\n",
              "  background-color: #fffee0;\n",
              "  color: #000000;\n",
              "}\n",
              "</style>\n",
              "<table id=\"T_46fcb_\" class=\"dataframe\">\n",
              "  <thead>\n",
              "    <tr>\n",
              "      <th class=\"blank level0\" >&nbsp;</th>\n",
              "      <th class=\"col_heading level0 col0\" >ad_type</th>\n",
              "      <th class=\"col_heading level0 col1\" >hour</th>\n",
              "      <th class=\"col_heading level0 col2\" >ecpm_sma</th>\n",
              "    </tr>\n",
              "  </thead>\n",
              "  <tbody>\n",
              "    <tr>\n",
              "      <th id=\"T_46fcb_level0_row0\" class=\"row_heading level0 row0\" >0</th>\n",
              "      <td id=\"T_46fcb_row0_col0\" class=\"data row0 col0\" >banner</td>\n",
              "      <td id=\"T_46fcb_row0_col1\" class=\"data row0 col1\" >5</td>\n",
              "      <td id=\"T_46fcb_row0_col2\" class=\"data row0 col2\" >18225.404051</td>\n",
              "    </tr>\n",
              "    <tr>\n",
              "      <th id=\"T_46fcb_level0_row1\" class=\"row_heading level0 row1\" >1</th>\n",
              "      <td id=\"T_46fcb_row1_col0\" class=\"data row1 col0\" >banner</td>\n",
              "      <td id=\"T_46fcb_row1_col1\" class=\"data row1 col1\" >4</td>\n",
              "      <td id=\"T_46fcb_row1_col2\" class=\"data row1 col2\" >17557.739863</td>\n",
              "    </tr>\n",
              "    <tr>\n",
              "      <th id=\"T_46fcb_level0_row2\" class=\"row_heading level0 row2\" >2</th>\n",
              "      <td id=\"T_46fcb_row2_col0\" class=\"data row2 col0\" >banner</td>\n",
              "      <td id=\"T_46fcb_row2_col1\" class=\"data row2 col1\" >3</td>\n",
              "      <td id=\"T_46fcb_row2_col2\" class=\"data row2 col2\" >17211.193194</td>\n",
              "    </tr>\n",
              "    <tr>\n",
              "      <th id=\"T_46fcb_level0_row3\" class=\"row_heading level0 row3\" >3</th>\n",
              "      <td id=\"T_46fcb_row3_col0\" class=\"data row3 col0\" >banner</td>\n",
              "      <td id=\"T_46fcb_row3_col1\" class=\"data row3 col1\" >6</td>\n",
              "      <td id=\"T_46fcb_row3_col2\" class=\"data row3 col2\" >16461.911893</td>\n",
              "    </tr>\n",
              "    <tr>\n",
              "      <th id=\"T_46fcb_level0_row4\" class=\"row_heading level0 row4\" >4</th>\n",
              "      <td id=\"T_46fcb_row4_col0\" class=\"data row4 col0\" >banner</td>\n",
              "      <td id=\"T_46fcb_row4_col1\" class=\"data row4 col1\" >2</td>\n",
              "      <td id=\"T_46fcb_row4_col2\" class=\"data row4 col2\" >15929.496722</td>\n",
              "    </tr>\n",
              "    <tr>\n",
              "      <th id=\"T_46fcb_level0_row5\" class=\"row_heading level0 row5\" >5</th>\n",
              "      <td id=\"T_46fcb_row5_col0\" class=\"data row5 col0\" >banner</td>\n",
              "      <td id=\"T_46fcb_row5_col1\" class=\"data row5 col1\" >7</td>\n",
              "      <td id=\"T_46fcb_row5_col2\" class=\"data row5 col2\" >14869.431127</td>\n",
              "    </tr>\n",
              "    <tr>\n",
              "      <th id=\"T_46fcb_level0_row6\" class=\"row_heading level0 row6\" >6</th>\n",
              "      <td id=\"T_46fcb_row6_col0\" class=\"data row6 col0\" >banner</td>\n",
              "      <td id=\"T_46fcb_row6_col1\" class=\"data row6 col1\" >1</td>\n",
              "      <td id=\"T_46fcb_row6_col2\" class=\"data row6 col2\" >14696.574791</td>\n",
              "    </tr>\n",
              "    <tr>\n",
              "      <th id=\"T_46fcb_level0_row7\" class=\"row_heading level0 row7\" >7</th>\n",
              "      <td id=\"T_46fcb_row7_col0\" class=\"data row7 col0\" >banner</td>\n",
              "      <td id=\"T_46fcb_row7_col1\" class=\"data row7 col1\" >0</td>\n",
              "      <td id=\"T_46fcb_row7_col2\" class=\"data row7 col2\" >14686.168323</td>\n",
              "    </tr>\n",
              "    <tr>\n",
              "      <th id=\"T_46fcb_level0_row8\" class=\"row_heading level0 row8\" >8</th>\n",
              "      <td id=\"T_46fcb_row8_col0\" class=\"data row8 col0\" >banner</td>\n",
              "      <td id=\"T_46fcb_row8_col1\" class=\"data row8 col1\" >22</td>\n",
              "      <td id=\"T_46fcb_row8_col2\" class=\"data row8 col2\" >14566.007794</td>\n",
              "    </tr>\n",
              "    <tr>\n",
              "      <th id=\"T_46fcb_level0_row9\" class=\"row_heading level0 row9\" >9</th>\n",
              "      <td id=\"T_46fcb_row9_col0\" class=\"data row9 col0\" >banner</td>\n",
              "      <td id=\"T_46fcb_row9_col1\" class=\"data row9 col1\" >23</td>\n",
              "      <td id=\"T_46fcb_row9_col2\" class=\"data row9 col2\" >14502.959709</td>\n",
              "    </tr>\n",
              "  </tbody>\n",
              "</table>\n"
            ],
            "text/plain": [
              "<pandas.io.formats.style.Styler at 0x7f32c3edae10>"
            ]
          },
          "execution_count": 38,
          "metadata": {},
          "output_type": "execute_result"
        }
      ],
      "source": [
        "# добавим номера часов:\n",
        "df_new['hour'] = df_new.event_datetime.dt.hour\n",
        "\n",
        "df_hour = df_new.groupby(['ad_type', 'hour'])['ecpm_sma'].sum().sort_values(ascending = False).reset_index()\n",
        "df_hour.head(10).style.background_gradient(cmap = 'YlOrBr')"
      ]
    },
    {
      "cell_type": "code",
      "execution_count": null,
      "metadata": {
        "colab": {
          "base_uri": "https://localhost:8080/",
          "height": 368
        },
        "id": "buks9bq0_oBP",
        "outputId": "08456365-c2c2-4690-8589-433d44d735cb"
      },
      "outputs": [
        {
          "data": {
            "image/png": "[encoded data removed]",
            "text/plain": [
              "<Figure size 720x360 with 1 Axes>"
            ]
          },
          "metadata": {
            "needs_background": "light"
          },
          "output_type": "display_data"
        }
      ],
      "source": [
        "df_hour.loc[df_hour.ad_type == 'banner'].plot.bar(figsize = (10, 5), x = 'hour', y = 'ecpm_sma', rot = 0)\n",
        "plt.xlabel('часы')\n",
        "plt.ylabel('суммарный доход за \\n1000 показов рекламы')\n",
        "plt.title('Доходы от рекламы формата \"banner\" в зависимости от времени суток')\n",
        "plt.show()"
      ]
    },
    {
      "cell_type": "markdown",
      "metadata": {
        "id": "VH3lQrV9BD0-"
      },
      "source": [
        "Видим, что **наибольшие** доходы от показа рекламы формата \"**banner**\" компания получает в **утренние** часы, а **меньше** всего дохода от такого формата рекламы - в **обеденное** время."
      ]
    },
    {
      "cell_type": "code",
      "execution_count": null,
      "metadata": {
        "colab": {
          "base_uri": "https://localhost:8080/",
          "height": 368
        },
        "id": "cPApJi7gBAGd",
        "outputId": "9e0ea49b-ee78-4851-865c-c619994ebb36"
      },
      "outputs": [
        {
          "data": {
            "image/png": "[encoded data removed]",
            "text/plain": [
              "<Figure size 720x360 with 1 Axes>"
            ]
          },
          "metadata": {
            "needs_background": "light"
          },
          "output_type": "display_data"
        }
      ],
      "source": [
        "df_hour.loc[df_hour.ad_type == 'int'].plot.bar(figsize = (10, 5), x = 'hour', y = 'ecpm_sma', rot = 0)\n",
        "plt.xlabel('часы')\n",
        "plt.ylabel('суммарный доход за \\n1000 показов рекламы')\n",
        "plt.title('Доходы от рекламы формата \"int\" в зависимости от времени суток')\n",
        "plt.show()"
      ]
    },
    {
      "cell_type": "markdown",
      "metadata": {
        "id": "Sgs6vT_DE0G9"
      },
      "source": [
        "* **Наибольшие** доходы от показа **полноэкранной** рекламы компания получает в 4-5 утра, а **меньше** всего дохода компания - в 17 часов вечера.\n",
        "* Эти доходы в любое время суток на **порядки меньше** доходов от горизонтального баннера."
      ]
    },
    {
      "cell_type": "code",
      "execution_count": null,
      "metadata": {
        "id": "NtzYPGqYGcz4"
      },
      "outputs": [],
      "source": []
    },
    {
      "cell_type": "code",
      "execution_count": null,
      "metadata": {
        "colab": {
          "base_uri": "https://localhost:8080/"
        },
        "id": "t3z1CKaJF48A",
        "outputId": "46890fea-1364-4d17-8fac-1bbae42f9a26"
      },
      "outputs": [
        {
          "data": {
            "text/plain": [
              "array(['en_US', 'en_GB', 'en_NL', 'ko_KR', 'fr_FR', 'en_CA', 'en_IN',\n",
              "       'en_AU'], dtype=object)"
            ]
          },
          "execution_count": 41,
          "metadata": {},
          "output_type": "execute_result"
        }
      ],
      "source": [
        "df_new.device_locale.unique() # языки мобильных устройств пользователей"
      ]
    },
    {
      "cell_type": "markdown",
      "metadata": {
        "id": "MbeoV4jIGdgH"
      },
      "source": [
        "Видим, что в стране США у пользователей локализация мобильных устройств различная.\n",
        "\n",
        "Поэтому выясним, какое имеется **распределение рекламных доходов в зависимости от локализации устройств, с которых играют пользователи**."
      ]
    },
    {
      "cell_type": "code",
      "execution_count": null,
      "metadata": {
        "colab": {
          "base_uri": "https://localhost:8080/",
          "height": 394
        },
        "id": "9nIy6bs9F4Iw",
        "outputId": "f76a17af-807f-43f6-f6fa-4415448679aa"
      },
      "outputs": [
        {
          "data": {
            "text/html": [
              "<style type=\"text/css\">\n",
              "#T_38f33_row0_col2 {\n",
              "  background-color: #662506;\n",
              "  color: #f1f1f1;\n",
              "}\n",
              "#T_38f33_row1_col2, #T_38f33_row2_col2, #T_38f33_row3_col2, #T_38f33_row4_col2, #T_38f33_row5_col2, #T_38f33_row6_col2, #T_38f33_row7_col2, #T_38f33_row8_col2, #T_38f33_row9_col2, #T_38f33_row10_col2 {\n",
              "  background-color: #ffffe5;\n",
              "  color: #000000;\n",
              "}\n",
              "</style>\n",
              "<table id=\"T_38f33_\" class=\"dataframe\">\n",
              "  <thead>\n",
              "    <tr>\n",
              "      <th class=\"blank level0\" >&nbsp;</th>\n",
              "      <th class=\"col_heading level0 col0\" >ad_type</th>\n",
              "      <th class=\"col_heading level0 col1\" >device_locale</th>\n",
              "      <th class=\"col_heading level0 col2\" >ecpm_sma</th>\n",
              "    </tr>\n",
              "  </thead>\n",
              "  <tbody>\n",
              "    <tr>\n",
              "      <th id=\"T_38f33_level0_row0\" class=\"row_heading level0 row0\" >0</th>\n",
              "      <td id=\"T_38f33_row0_col0\" class=\"data row0 col0\" >banner</td>\n",
              "      <td id=\"T_38f33_row0_col1\" class=\"data row0 col1\" >en_US</td>\n",
              "      <td id=\"T_38f33_row0_col2\" class=\"data row0 col2\" >278084.839867</td>\n",
              "    </tr>\n",
              "    <tr>\n",
              "      <th id=\"T_38f33_level0_row1\" class=\"row_heading level0 row1\" >1</th>\n",
              "      <td id=\"T_38f33_row1_col0\" class=\"data row1 col0\" >banner</td>\n",
              "      <td id=\"T_38f33_row1_col1\" class=\"data row1 col1\" >en_IN</td>\n",
              "      <td id=\"T_38f33_row1_col2\" class=\"data row1 col2\" >257.547561</td>\n",
              "    </tr>\n",
              "    <tr>\n",
              "      <th id=\"T_38f33_level0_row2\" class=\"row_heading level0 row2\" >2</th>\n",
              "      <td id=\"T_38f33_row2_col0\" class=\"data row2 col0\" >banner</td>\n",
              "      <td id=\"T_38f33_row2_col1\" class=\"data row2 col1\" >en_GB</td>\n",
              "      <td id=\"T_38f33_row2_col2\" class=\"data row2 col2\" >239.122034</td>\n",
              "    </tr>\n",
              "    <tr>\n",
              "      <th id=\"T_38f33_level0_row3\" class=\"row_heading level0 row3\" >3</th>\n",
              "      <td id=\"T_38f33_row3_col0\" class=\"data row3 col0\" >banner</td>\n",
              "      <td id=\"T_38f33_row3_col1\" class=\"data row3 col1\" >en_CA</td>\n",
              "      <td id=\"T_38f33_row3_col2\" class=\"data row3 col2\" >148.442189</td>\n",
              "    </tr>\n",
              "    <tr>\n",
              "      <th id=\"T_38f33_level0_row4\" class=\"row_heading level0 row4\" >4</th>\n",
              "      <td id=\"T_38f33_row4_col0\" class=\"data row4 col0\" >banner</td>\n",
              "      <td id=\"T_38f33_row4_col1\" class=\"data row4 col1\" >ko_KR</td>\n",
              "      <td id=\"T_38f33_row4_col2\" class=\"data row4 col2\" >88.229003</td>\n",
              "    </tr>\n",
              "    <tr>\n",
              "      <th id=\"T_38f33_level0_row5\" class=\"row_heading level0 row5\" >5</th>\n",
              "      <td id=\"T_38f33_row5_col0\" class=\"data row5 col0\" >banner</td>\n",
              "      <td id=\"T_38f33_row5_col1\" class=\"data row5 col1\" >en_NL</td>\n",
              "      <td id=\"T_38f33_row5_col2\" class=\"data row5 col2\" >59.767178</td>\n",
              "    </tr>\n",
              "    <tr>\n",
              "      <th id=\"T_38f33_level0_row6\" class=\"row_heading level0 row6\" >6</th>\n",
              "      <td id=\"T_38f33_row6_col0\" class=\"data row6 col0\" >int</td>\n",
              "      <td id=\"T_38f33_row6_col1\" class=\"data row6 col1\" >en_US</td>\n",
              "      <td id=\"T_38f33_row6_col2\" class=\"data row6 col2\" >18.430752</td>\n",
              "    </tr>\n",
              "    <tr>\n",
              "      <th id=\"T_38f33_level0_row7\" class=\"row_heading level0 row7\" >7</th>\n",
              "      <td id=\"T_38f33_row7_col0\" class=\"data row7 col0\" >banner</td>\n",
              "      <td id=\"T_38f33_row7_col1\" class=\"data row7 col1\" >fr_FR</td>\n",
              "      <td id=\"T_38f33_row7_col2\" class=\"data row7 col2\" >8.754692</td>\n",
              "    </tr>\n",
              "    <tr>\n",
              "      <th id=\"T_38f33_level0_row8\" class=\"row_heading level0 row8\" >8</th>\n",
              "      <td id=\"T_38f33_row8_col0\" class=\"data row8 col0\" >banner</td>\n",
              "      <td id=\"T_38f33_row8_col1\" class=\"data row8 col1\" >en_AU</td>\n",
              "      <td id=\"T_38f33_row8_col2\" class=\"data row8 col2\" >8.494522</td>\n",
              "    </tr>\n",
              "    <tr>\n",
              "      <th id=\"T_38f33_level0_row9\" class=\"row_heading level0 row9\" >9</th>\n",
              "      <td id=\"T_38f33_row9_col0\" class=\"data row9 col0\" >int</td>\n",
              "      <td id=\"T_38f33_row9_col1\" class=\"data row9 col1\" >en_GB</td>\n",
              "      <td id=\"T_38f33_row9_col2\" class=\"data row9 col2\" >6.317599</td>\n",
              "    </tr>\n",
              "    <tr>\n",
              "      <th id=\"T_38f33_level0_row10\" class=\"row_heading level0 row10\" >10</th>\n",
              "      <td id=\"T_38f33_row10_col0\" class=\"data row10 col0\" >rv</td>\n",
              "      <td id=\"T_38f33_row10_col1\" class=\"data row10 col1\" >en_GB</td>\n",
              "      <td id=\"T_38f33_row10_col2\" class=\"data row10 col2\" >2.462408</td>\n",
              "    </tr>\n",
              "  </tbody>\n",
              "</table>\n"
            ],
            "text/plain": [
              "<pandas.io.formats.style.Styler at 0x7f32c3dabbd0>"
            ]
          },
          "execution_count": 42,
          "metadata": {},
          "output_type": "execute_result"
        }
      ],
      "source": [
        "df_locale = df_new.groupby(['ad_type', 'device_locale'])['ecpm_sma'].sum().sort_values(ascending = False).reset_index()\n",
        "df_locale.style.background_gradient(cmap = 'YlOrBr')"
      ]
    },
    {
      "cell_type": "markdown",
      "metadata": {
        "id": "fZcfiNgqO9h5"
      },
      "source": [
        "* Видим, что **наибольший суммарный** доход от рекламы зарабатывает игра на устройствах с **американским английским**. \n",
        "* Это кажется очевидным, т.к. все представленные города, с которых пользователи заходили в игру, находятся в США.\n",
        "* Поэтому далее **исключим** американский английский из рассмотрения, т.к. нам важно понимать, на какие другие языки надо обращать внимание при дальнейшей локализации мобильного приложения."
      ]
    },
    {
      "cell_type": "code",
      "execution_count": null,
      "metadata": {
        "colab": {
          "base_uri": "https://localhost:8080/",
          "height": 494
        },
        "id": "UZ7k4PsiImnv",
        "outputId": "2a972c23-2f2f-4fff-88ca-73a2263959cc"
      },
      "outputs": [
        {
          "data": {
            "image/png": "[encoded data removed]",
            "text/plain": [
              "<Figure size 504x504 with 2 Axes>"
            ]
          },
          "metadata": {
            "needs_background": "light"
          },
          "output_type": "display_data"
        }
      ],
      "source": [
        "plt.figure(figsize = (7, 7))\n",
        "\n",
        "pivot_device_locale = pd.pivot_table(df_locale.loc[df_locale.device_locale != 'en_US'], \n",
        "                                     index = 'device_locale', columns = 'ad_type', values = 'ecpm_sma')\n",
        "sns.heatmap(pivot_device_locale, cmap = 'jet')\n",
        "\n",
        "plt.title('Доходы от формата рекламы в зависимости от языка устройства \\nкроме американского английского')\n",
        "plt.show()"
      ]
    },
    {
      "cell_type": "markdown",
      "metadata": {
        "id": "P6bqhrBIS3-r"
      },
      "source": [
        "На **втором** месте после американского английского пользователи на устройствах с локализацией \"**английский (Индия)**\" больше всего смотрят рекламу формата \"**banner**\" в игре. А на третьем месте - с локализацией \"**британский английский**\".\n",
        "\n",
        "Информации по локализации игрового приложения на китайский язык, однако, **не** представлено в исходных данных."
      ]
    },
    {
      "cell_type": "code",
      "execution_count": null,
      "metadata": {
        "id": "25qDlENTVyu4"
      },
      "outputs": [],
      "source": []
    },
    {
      "cell_type": "markdown",
      "metadata": {
        "id": "JFQC0_bmXAMA"
      },
      "source": [
        "**А какие пользователи игры самые активные?**"
      ]
    },
    {
      "cell_type": "code",
      "execution_count": null,
      "metadata": {
        "colab": {
          "base_uri": "https://localhost:8080/"
        },
        "id": "f1LTkVk3Vygg",
        "outputId": "cee974e3-45a0-4baa-fb18-fbc8ffc76a72"
      },
      "outputs": [
        {
          "name": "stdout",
          "output_type": "stream",
          "text": [
            "Найдем, например, 20 из 3030 уникальных пользователей, кто больше всего посмотрел встроенной рекламы.\n"
          ]
        }
      ],
      "source": [
        "print(f'Найдем, например, 20 из {df_new.profile_id.nunique()} уникальных пользователей, кто больше всего посмотрел встроенной рекламы.')"
      ]
    },
    {
      "cell_type": "code",
      "execution_count": null,
      "metadata": {
        "colab": {
          "base_uri": "https://localhost:8080/",
          "height": 677
        },
        "id": "SSAEBcycXPip",
        "outputId": "bf83aa0f-70ad-410b-9e01-14b71dbdae23"
      },
      "outputs": [
        {
          "data": {
            "text/html": [
              "<style type=\"text/css\">\n",
              "#T_6a821_row0_col2 {\n",
              "  background-color: #662506;\n",
              "  color: #f1f1f1;\n",
              "}\n",
              "#T_6a821_row1_col2 {\n",
              "  background-color: #fed16b;\n",
              "  color: #000000;\n",
              "}\n",
              "#T_6a821_row2_col2 {\n",
              "  background-color: #fed573;\n",
              "  color: #000000;\n",
              "}\n",
              "#T_6a821_row3_col2 {\n",
              "  background-color: #fee493;\n",
              "  color: #000000;\n",
              "}\n",
              "#T_6a821_row4_col2 {\n",
              "  background-color: #feeaa0;\n",
              "  color: #000000;\n",
              "}\n",
              "#T_6a821_row5_col2 {\n",
              "  background-color: #feeca4;\n",
              "  color: #000000;\n",
              "}\n",
              "#T_6a821_row6_col2 {\n",
              "  background-color: #ffefaa;\n",
              "  color: #000000;\n",
              "}\n",
              "#T_6a821_row7_col2 {\n",
              "  background-color: #fff4b6;\n",
              "  color: #000000;\n",
              "}\n",
              "#T_6a821_row8_col2 {\n",
              "  background-color: #fff8c4;\n",
              "  color: #000000;\n",
              "}\n",
              "#T_6a821_row9_col2 {\n",
              "  background-color: #fff9c5;\n",
              "  color: #000000;\n",
              "}\n",
              "#T_6a821_row10_col2 {\n",
              "  background-color: #fffaca;\n",
              "  color: #000000;\n",
              "}\n",
              "#T_6a821_row11_col2, #T_6a821_row12_col2, #T_6a821_row13_col2 {\n",
              "  background-color: #fffcd7;\n",
              "  color: #000000;\n",
              "}\n",
              "#T_6a821_row14_col2 {\n",
              "  background-color: #fffcd8;\n",
              "  color: #000000;\n",
              "}\n",
              "#T_6a821_row15_col2 {\n",
              "  background-color: #fffee0;\n",
              "  color: #000000;\n",
              "}\n",
              "#T_6a821_row16_col2 {\n",
              "  background-color: #fffee1;\n",
              "  color: #000000;\n",
              "}\n",
              "#T_6a821_row17_col2 {\n",
              "  background-color: #fffee2;\n",
              "  color: #000000;\n",
              "}\n",
              "#T_6a821_row18_col2, #T_6a821_row19_col2 {\n",
              "  background-color: #ffffe5;\n",
              "  color: #000000;\n",
              "}\n",
              "</style>\n",
              "<table id=\"T_6a821_\" class=\"dataframe\">\n",
              "  <thead>\n",
              "    <tr>\n",
              "      <th class=\"blank level0\" >&nbsp;</th>\n",
              "      <th class=\"col_heading level0 col0\" >ad_type</th>\n",
              "      <th class=\"col_heading level0 col1\" >profile_id</th>\n",
              "      <th class=\"col_heading level0 col2\" >ecpm_sma</th>\n",
              "    </tr>\n",
              "  </thead>\n",
              "  <tbody>\n",
              "    <tr>\n",
              "      <th id=\"T_6a821_level0_row0\" class=\"row_heading level0 row0\" >0</th>\n",
              "      <td id=\"T_6a821_row0_col0\" class=\"data row0 col0\" >banner</td>\n",
              "      <td id=\"T_6a821_row0_col1\" class=\"data row0 col1\" >JL5pmKYe8g7</td>\n",
              "      <td id=\"T_6a821_row0_col2\" class=\"data row0 col2\" >3501.360013</td>\n",
              "    </tr>\n",
              "    <tr>\n",
              "      <th id=\"T_6a821_level0_row1\" class=\"row_heading level0 row1\" >1</th>\n",
              "      <td id=\"T_6a821_row1_col0\" class=\"data row1 col0\" >banner</td>\n",
              "      <td id=\"T_6a821_row1_col1\" class=\"data row1 col1\" >JLjpdpniiny</td>\n",
              "      <td id=\"T_6a821_row1_col2\" class=\"data row1 col2\" >1775.909998</td>\n",
              "    </tr>\n",
              "    <tr>\n",
              "      <th id=\"T_6a821_level0_row2\" class=\"row_heading level0 row2\" >2</th>\n",
              "      <td id=\"T_6a821_row2_col0\" class=\"data row2 col0\" >banner</td>\n",
              "      <td id=\"T_6a821_row2_col1\" class=\"data row2 col1\" >JL4KSxxKnjo</td>\n",
              "      <td id=\"T_6a821_row2_col2\" class=\"data row2 col2\" >1734.828578</td>\n",
              "    </tr>\n",
              "    <tr>\n",
              "      <th id=\"T_6a821_level0_row3\" class=\"row_heading level0 row3\" >3</th>\n",
              "      <td id=\"T_6a821_row3_col0\" class=\"data row3 col0\" >banner</td>\n",
              "      <td id=\"T_6a821_row3_col1\" class=\"data row3 col1\" >JL4p0t068V1</td>\n",
              "      <td id=\"T_6a821_row3_col2\" class=\"data row3 col2\" >1575.142983</td>\n",
              "    </tr>\n",
              "    <tr>\n",
              "      <th id=\"T_6a821_level0_row4\" class=\"row_heading level0 row4\" >4</th>\n",
              "      <td id=\"T_6a821_row4_col0\" class=\"data row4 col0\" >banner</td>\n",
              "      <td id=\"T_6a821_row4_col1\" class=\"data row4 col1\" >JLkavQUMeHc</td>\n",
              "      <td id=\"T_6a821_row4_col2\" class=\"data row4 col2\" >1484.996926</td>\n",
              "    </tr>\n",
              "    <tr>\n",
              "      <th id=\"T_6a821_level0_row5\" class=\"row_heading level0 row5\" >5</th>\n",
              "      <td id=\"T_6a821_row5_col0\" class=\"data row5 col0\" >banner</td>\n",
              "      <td id=\"T_6a821_row5_col1\" class=\"data row5 col1\" >JLTfZhBE0e3</td>\n",
              "      <td id=\"T_6a821_row5_col2\" class=\"data row5 col2\" >1450.474102</td>\n",
              "    </tr>\n",
              "    <tr>\n",
              "      <th id=\"T_6a821_level0_row6\" class=\"row_heading level0 row6\" >6</th>\n",
              "      <td id=\"T_6a821_row6_col0\" class=\"data row6 col0\" >banner</td>\n",
              "      <td id=\"T_6a821_row6_col1\" class=\"data row6 col1\" >JLiWhxNu122</td>\n",
              "      <td id=\"T_6a821_row6_col2\" class=\"data row6 col2\" >1404.071839</td>\n",
              "    </tr>\n",
              "    <tr>\n",
              "      <th id=\"T_6a821_level0_row7\" class=\"row_heading level0 row7\" >7</th>\n",
              "      <td id=\"T_6a821_row7_col0\" class=\"data row7 col0\" >banner</td>\n",
              "      <td id=\"T_6a821_row7_col1\" class=\"data row7 col1\" >JLw5cKeZSby</td>\n",
              "      <td id=\"T_6a821_row7_col2\" class=\"data row7 col2\" >1317.800508</td>\n",
              "    </tr>\n",
              "    <tr>\n",
              "      <th id=\"T_6a821_level0_row8\" class=\"row_heading level0 row8\" >8</th>\n",
              "      <td id=\"T_6a821_row8_col0\" class=\"data row8 col0\" >banner</td>\n",
              "      <td id=\"T_6a821_row8_col1\" class=\"data row8 col1\" >JLjXBdxPBjg</td>\n",
              "      <td id=\"T_6a821_row8_col2\" class=\"data row8 col2\" >1211.009752</td>\n",
              "    </tr>\n",
              "    <tr>\n",
              "      <th id=\"T_6a821_level0_row9\" class=\"row_heading level0 row9\" >9</th>\n",
              "      <td id=\"T_6a821_row9_col0\" class=\"data row9 col0\" >banner</td>\n",
              "      <td id=\"T_6a821_row9_col1\" class=\"data row9 col1\" >JLnrqVfS2Fn</td>\n",
              "      <td id=\"T_6a821_row9_col2\" class=\"data row9 col2\" >1204.702705</td>\n",
              "    </tr>\n",
              "    <tr>\n",
              "      <th id=\"T_6a821_level0_row10\" class=\"row_heading level0 row10\" >10</th>\n",
              "      <td id=\"T_6a821_row10_col0\" class=\"data row10 col0\" >banner</td>\n",
              "      <td id=\"T_6a821_row10_col1\" class=\"data row10 col1\" >JLr3xOqHviW</td>\n",
              "      <td id=\"T_6a821_row10_col2\" class=\"data row10 col2\" >1168.318313</td>\n",
              "    </tr>\n",
              "    <tr>\n",
              "      <th id=\"T_6a821_level0_row11\" class=\"row_heading level0 row11\" >11</th>\n",
              "      <td id=\"T_6a821_row11_col0\" class=\"data row11 col0\" >banner</td>\n",
              "      <td id=\"T_6a821_row11_col1\" class=\"data row11 col1\" >JMEzSm09iUA</td>\n",
              "      <td id=\"T_6a821_row11_col2\" class=\"data row11 col2\" >1066.704605</td>\n",
              "    </tr>\n",
              "    <tr>\n",
              "      <th id=\"T_6a821_level0_row12\" class=\"row_heading level0 row12\" >12</th>\n",
              "      <td id=\"T_6a821_row12_col0\" class=\"data row12 col0\" >banner</td>\n",
              "      <td id=\"T_6a821_row12_col1\" class=\"data row12 col1\" >JL5Tof1j4Ek</td>\n",
              "      <td id=\"T_6a821_row12_col2\" class=\"data row12 col2\" >1060.852920</td>\n",
              "    </tr>\n",
              "    <tr>\n",
              "      <th id=\"T_6a821_level0_row13\" class=\"row_heading level0 row13\" >13</th>\n",
              "      <td id=\"T_6a821_row13_col0\" class=\"data row13 col0\" >banner</td>\n",
              "      <td id=\"T_6a821_row13_col1\" class=\"data row13 col1\" >JLwCGxnCMdB</td>\n",
              "      <td id=\"T_6a821_row13_col2\" class=\"data row13 col2\" >1059.630896</td>\n",
              "    </tr>\n",
              "    <tr>\n",
              "      <th id=\"T_6a821_level0_row14\" class=\"row_heading level0 row14\" >14</th>\n",
              "      <td id=\"T_6a821_row14_col0\" class=\"data row14 col0\" >banner</td>\n",
              "      <td id=\"T_6a821_row14_col1\" class=\"data row14 col1\" >JL52Woqyg5r</td>\n",
              "      <td id=\"T_6a821_row14_col2\" class=\"data row14 col2\" >1053.228368</td>\n",
              "    </tr>\n",
              "    <tr>\n",
              "      <th id=\"T_6a821_level0_row15\" class=\"row_heading level0 row15\" >15</th>\n",
              "      <td id=\"T_6a821_row15_col0\" class=\"data row15 col0\" >banner</td>\n",
              "      <td id=\"T_6a821_row15_col1\" class=\"data row15 col1\" >JLd1VmbqkWO</td>\n",
              "      <td id=\"T_6a821_row15_col2\" class=\"data row15 col2\" >991.172485</td>\n",
              "    </tr>\n",
              "    <tr>\n",
              "      <th id=\"T_6a821_level0_row16\" class=\"row_heading level0 row16\" >16</th>\n",
              "      <td id=\"T_6a821_row16_col0\" class=\"data row16 col0\" >banner</td>\n",
              "      <td id=\"T_6a821_row16_col1\" class=\"data row16 col1\" >JLmfqFK4ckQ</td>\n",
              "      <td id=\"T_6a821_row16_col2\" class=\"data row16 col2\" >981.771812</td>\n",
              "    </tr>\n",
              "    <tr>\n",
              "      <th id=\"T_6a821_level0_row17\" class=\"row_heading level0 row17\" >17</th>\n",
              "      <td id=\"T_6a821_row17_col0\" class=\"data row17 col0\" >banner</td>\n",
              "      <td id=\"T_6a821_row17_col1\" class=\"data row17 col1\" >JLRnheSoU0A</td>\n",
              "      <td id=\"T_6a821_row17_col2\" class=\"data row17 col2\" >972.993712</td>\n",
              "    </tr>\n",
              "    <tr>\n",
              "      <th id=\"T_6a821_level0_row18\" class=\"row_heading level0 row18\" >18</th>\n",
              "      <td id=\"T_6a821_row18_col0\" class=\"data row18 col0\" >banner</td>\n",
              "      <td id=\"T_6a821_row18_col1\" class=\"data row18 col1\" >JLyovc2xUHp</td>\n",
              "      <td id=\"T_6a821_row18_col2\" class=\"data row18 col2\" >954.350625</td>\n",
              "    </tr>\n",
              "    <tr>\n",
              "      <th id=\"T_6a821_level0_row19\" class=\"row_heading level0 row19\" >19</th>\n",
              "      <td id=\"T_6a821_row19_col0\" class=\"data row19 col0\" >banner</td>\n",
              "      <td id=\"T_6a821_row19_col1\" class=\"data row19 col1\" >JLqffPZUSUm</td>\n",
              "      <td id=\"T_6a821_row19_col2\" class=\"data row19 col2\" >949.690549</td>\n",
              "    </tr>\n",
              "  </tbody>\n",
              "</table>\n"
            ],
            "text/plain": [
              "<pandas.io.formats.style.Styler at 0x7f32c3dc5b10>"
            ]
          },
          "execution_count": 45,
          "metadata": {},
          "output_type": "execute_result"
        }
      ],
      "source": [
        "df_profile_id = df_new.groupby(['ad_type', 'profile_id'])['ecpm_sma'].sum().sort_values(ascending = False).reset_index()\n",
        "df_profile_id.head(20).style.background_gradient(cmap = 'YlOrBr')"
      ]
    },
    {
      "cell_type": "code",
      "execution_count": null,
      "metadata": {
        "colab": {
          "base_uri": "https://localhost:8080/",
          "height": 475
        },
        "id": "FRpZ6NumYztY",
        "outputId": "34bbc52d-3ea7-40d3-cdf2-7a25c3588405"
      },
      "outputs": [
        {
          "data": {
            "image/png": "[encoded data removed]",
            "text/plain": [
              "<Figure size 864x360 with 1 Axes>"
            ]
          },
          "metadata": {
            "needs_background": "light"
          },
          "output_type": "display_data"
        }
      ],
      "source": [
        "df_profile_id.loc[df_profile_id.ad_type == 'banner'].head(20).plot.bar(figsize = (12, 5), x = 'profile_id', y = 'ecpm_sma')\n",
        "plt.xlabel('id пользователя игры')\n",
        "plt.ylabel('суммарный доход за \\n1000 показов рекламы')\n",
        "plt.title('Топ-20 пользователей по суммарному доходу от просмотра \\nвстроенной рекламы формата \"banner\"')\n",
        "plt.show()"
      ]
    },
    {
      "cell_type": "code",
      "execution_count": null,
      "metadata": {
        "colab": {
          "base_uri": "https://localhost:8080/"
        },
        "id": "TsvdqAs8n5ZR",
        "outputId": "f8c1ac01-95b0-4e02-ba75-6e76185dba19"
      },
      "outputs": [
        {
          "name": "stdout",
          "output_type": "stream",
          "text": [
            "Пользователь с id \"JL5pmKYe8g7\" самый активный в игре.\n"
          ]
        }
      ],
      "source": [
        "print(f'Пользователь с id \"{df_profile_id.profile_id.loc[0]}\" самый активный в игре.')"
      ]
    },
    {
      "cell_type": "code",
      "execution_count": null,
      "metadata": {
        "colab": {
          "base_uri": "https://localhost:8080/",
          "height": 385
        },
        "id": "B_sgNm0YosXA",
        "outputId": "7ff63232-2a07-4cba-a3a4-9e7fac9e1f77"
      },
      "outputs": [
        {
          "data": {
            "image/png": "[encoded data removed]",
            "text/plain": [
              "<Figure size 864x360 with 1 Axes>"
            ]
          },
          "metadata": {
            "needs_background": "light"
          },
          "output_type": "display_data"
        }
      ],
      "source": [
        "df_profile_id.loc[df_profile_id.ad_type == 'int'].plot.bar(figsize = (12, 5), x = 'profile_id', y = 'ecpm_sma', rot = 0)\n",
        "plt.xlabel('id пользователя игры')\n",
        "plt.ylabel('суммарный доход за \\n1000 показов рекламы')\n",
        "plt.title('Распределение пользователей по суммарному доходу от просмотра \\nполноэкранной рекламы формата \"int\"')\n",
        "plt.show()"
      ]
    }
  ],
  "metadata": {
    "colab": {
      "collapsed_sections": [
        "pf9HO2tPjRVN"
      ],
      "name": "Mobile game.ipynb",
      "provenance": []
    },
    "kernelspec": {
      "display_name": "Python 3",
      "name": "python3"
    },
    "language_info": {
      "name": "python"
    }
  },
  "nbformat": 4,
  "nbformat_minor": 0
}
